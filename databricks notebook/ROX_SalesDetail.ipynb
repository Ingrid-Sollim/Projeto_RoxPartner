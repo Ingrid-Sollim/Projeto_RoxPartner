{
 "cells": [
  {
   "cell_type": "markdown",
   "metadata": {
    "application/vnd.databricks.v1+cell": {
     "cellMetadata": {
      "byteLimit": 2048000,
      "rowLimit": 10000
     },
     "inputWidgets": {},
     "nuid": "052113b6-1c3b-43f4-8fa7-f389a0531535",
     "showTitle": false,
     "title": ""
    }
   },
   "source": [
    "# Connection to blob"
   ]
  },
  {
   "cell_type": "code",
   "execution_count": 0,
   "metadata": {
    "application/vnd.databricks.v1+cell": {
     "cellMetadata": {
      "byteLimit": 2048000,
      "rowLimit": 10000
     },
     "inputWidgets": {},
     "nuid": "413a1989-28e5-49fd-8d7d-25a772cd4bf2",
     "showTitle": false,
     "title": ""
    }
   },
   "outputs": [
    {
     "output_type": "stream",
     "name": "stdout",
     "output_type": "stream",
     "text": [
      "Mount point '/mnt/ingrid-sollim/' is already mounted.\n"
     ]
    }
   ],
   "source": [
    "storageAccount = \"datalakefabdeprojetos\"\n",
    "containerName = \"ingrid-sollim\"\n",
    "mountpoint = \"/mnt/ingrid-sollim/\"\n",
    "storageEndpoint = f\"wasbs://{containerName}@{storageAccount}.blob.core.windows.net\" \n",
    "storageKey = dbutils.secrets.get(scope=\"Kv-fab-de-proj-dev\",key=\"kv-ingrid-sollim\")\n",
    "storageConn = f\"fs.azure.account.key.{storageAccount}.blob.core.windows.net\"\n",
    "try:\n",
    "    if not any(mount.mountPoint==mountpoint for mount in dbutils.fs.mounts()):\n",
    "        dbutils.fs.mount(\n",
    "        source = storageEndpoint,\n",
    "        mount_point = mountpoint,\n",
    "        extra_configs = {storageConn:storageKey}\n",
    "    )\n",
    "        print(f\"{mountpoint} has been mounted\")\n",
    "    else:\n",
    "        print(f\"Mount point '{mountpoint}' is already mounted.\")\n",
    "except Exception as e:\n",
    "    raise e  # Re-raise the exception if mounting fails\n"
   ]
  },
  {
   "cell_type": "code",
   "execution_count": 0,
   "metadata": {
    "application/vnd.databricks.v1+cell": {
     "cellMetadata": {
      "byteLimit": 2048000,
      "rowLimit": 10000
     },
     "inputWidgets": {},
     "nuid": "2614625f-8c72-4645-a634-d36f6368161d",
     "showTitle": false,
     "title": ""
    }
   },
   "outputs": [
    {
     "output_type": "display_data",
     "data": {
      "text/html": [
       "<style scoped>\n",
       "  .table-result-container {\n",
       "    max-height: 300px;\n",
       "    overflow: auto;\n",
       "  }\n",
       "  table, th, td {\n",
       "    border: 1px solid black;\n",
       "    border-collapse: collapse;\n",
       "  }\n",
       "  th, td {\n",
       "    padding: 5px;\n",
       "  }\n",
       "  th {\n",
       "    text-align: left;\n",
       "  }\n",
       "</style><div class='table-result-container'><table class='table-result'><thead style='background-color: white'><tr><th>path</th><th>name</th><th>size</th><th>modificationTime</th></tr></thead><tbody><tr><td>dbfs:/mnt/ingrid-sollim/bikes/customer.csv</td><td>customer.csv</td><td>1813963</td><td>1694474860000</td></tr><tr><td>dbfs:/mnt/ingrid-sollim/bikes/person.csv</td><td>person.csv</td><td>13646947</td><td>1694474860000</td></tr><tr><td>dbfs:/mnt/ingrid-sollim/bikes/product.csv</td><td>product.csv</td><td>104823</td><td>1694474860000</td></tr><tr><td>dbfs:/mnt/ingrid-sollim/bikes/salesorderdetail.csv</td><td>salesorderdetail.csv</td><td>13801182</td><td>1694474860000</td></tr><tr><td>dbfs:/mnt/ingrid-sollim/bikes/salesorderheader.csv</td><td>salesorderheader.csv</td><td>8267704</td><td>1694474862000</td></tr><tr><td>dbfs:/mnt/ingrid-sollim/bikes/spoffer.csv</td><td>spoffer.csv</td><td>36680</td><td>1694474860000</td></tr></tbody></table></div>"
      ]
     },
     "metadata": {
      "application/vnd.databricks.v1+output": {
       "addedWidgets": {},
       "aggData": [],
       "aggError": "",
       "aggOverflow": false,
       "aggSchema": [],
       "aggSeriesLimitReached": false,
       "aggType": "",
       "arguments": {},
       "columnCustomDisplayInfos": {},
       "data": [
        [
         "dbfs:/mnt/ingrid-sollim/bikes/customer.csv",
         "customer.csv",
         1813963,
         1694474860000
        ],
        [
         "dbfs:/mnt/ingrid-sollim/bikes/person.csv",
         "person.csv",
         13646947,
         1694474860000
        ],
        [
         "dbfs:/mnt/ingrid-sollim/bikes/product.csv",
         "product.csv",
         104823,
         1694474860000
        ],
        [
         "dbfs:/mnt/ingrid-sollim/bikes/salesorderdetail.csv",
         "salesorderdetail.csv",
         13801182,
         1694474860000
        ],
        [
         "dbfs:/mnt/ingrid-sollim/bikes/salesorderheader.csv",
         "salesorderheader.csv",
         8267704,
         1694474862000
        ],
        [
         "dbfs:/mnt/ingrid-sollim/bikes/spoffer.csv",
         "spoffer.csv",
         36680,
         1694474860000
        ]
       ],
       "datasetInfos": [],
       "dbfsResultPath": null,
       "isJsonSchema": true,
       "metadata": {},
       "overflow": false,
       "plotOptions": {
        "customPlotOptions": {},
        "displayType": "table",
        "pivotAggregation": null,
        "pivotColumns": null,
        "xColumns": null,
        "yColumns": null
       },
       "removedWidgets": [],
       "schema": [
        {
         "metadata": "{}",
         "name": "path",
         "type": "\"string\""
        },
        {
         "metadata": "{}",
         "name": "name",
         "type": "\"string\""
        },
        {
         "metadata": "{}",
         "name": "size",
         "type": "\"long\""
        },
        {
         "metadata": "{}",
         "name": "modificationTime",
         "type": "\"long\""
        }
       ],
       "type": "table"
      }
     },
     "output_type": "display_data"
    }
   ],
   "source": [
    "path=mountpoint+\"bikes\"\n",
    "display(dbutils.fs.ls(path))"
   ]
  },
  {
   "cell_type": "code",
   "execution_count": 0,
   "metadata": {
    "application/vnd.databricks.v1+cell": {
     "cellMetadata": {
      "byteLimit": 2048000,
      "rowLimit": 10000
     },
     "inputWidgets": {},
     "nuid": "351ed6b9-443e-475a-8136-3c54a806d70b",
     "showTitle": false,
     "title": ""
    }
   },
   "outputs": [
    {
     "output_type": "display_data",
     "data": {
      "text/html": [
       "<style scoped>\n",
       "  .table-result-container {\n",
       "    max-height: 300px;\n",
       "    overflow: auto;\n",
       "  }\n",
       "  table, th, td {\n",
       "    border: 1px solid black;\n",
       "    border-collapse: collapse;\n",
       "  }\n",
       "  th, td {\n",
       "    padding: 5px;\n",
       "  }\n",
       "  th {\n",
       "    text-align: left;\n",
       "  }\n",
       "</style><div class='table-result-container'><table class='table-result'><thead style='background-color: white'><tr><th>SalesOrderID</th><th>SalesOrderDetailID</th><th>CarrierTrackingNumber</th><th>OrderQty</th><th>ProductID</th><th>SpecialOfferID</th><th>UnitPrice</th><th>UnitPriceDiscount</th><th>LineTotal</th><th>rowguid</th><th>ModifiedDate</th></tr></thead><tbody><tr><td>43659</td><td>1</td><td>4911-403C-98</td><td>1</td><td>776</td><td>1</td><td>2024,994</td><td>0,00</td><td>2024.994000</td><td>B207C96D-D9E6-402B-8470-2CC176C42283</td><td>2011-05-31 00:00:00.000</td></tr><tr><td>43659</td><td>2</td><td>4911-403C-98</td><td>3</td><td>777</td><td>1</td><td>2024,994</td><td>0,00</td><td>6074.982000</td><td>7ABB600D-1E77-41BE-9FE5-B9142CFC08FA</td><td>2011-05-31 00:00:00.000</td></tr><tr><td>43659</td><td>3</td><td>4911-403C-98</td><td>1</td><td>778</td><td>1</td><td>2024,994</td><td>0,00</td><td>2024.994000</td><td>475CF8C6-49F6-486E-B0AD-AFC6A50CDD2F</td><td>2011-05-31 00:00:00.000</td></tr><tr><td>43659</td><td>4</td><td>4911-403C-98</td><td>1</td><td>771</td><td>1</td><td>2039,994</td><td>0,00</td><td>2039.994000</td><td>04C4DE91-5815-45D6-8670-F462719FBCE3</td><td>2011-05-31 00:00:00.000</td></tr><tr><td>43659</td><td>5</td><td>4911-403C-98</td><td>1</td><td>772</td><td>1</td><td>2039,994</td><td>0,00</td><td>2039.994000</td><td>5A74C7D2-E641-438E-A7AC-37BF23280301</td><td>2011-05-31 00:00:00.000</td></tr><tr><td>43659</td><td>6</td><td>4911-403C-98</td><td>2</td><td>773</td><td>1</td><td>2039,994</td><td>0,00</td><td>4079.988000</td><td>CE472532-A4C0-45BA-816E-EEFD3FD848B3</td><td>2011-05-31 00:00:00.000</td></tr><tr><td>43659</td><td>7</td><td>4911-403C-98</td><td>1</td><td>774</td><td>1</td><td>2039,994</td><td>0,00</td><td>2039.994000</td><td>80667840-F962-4EE3-96E0-AECA108E0D4F</td><td>2011-05-31 00:00:00.000</td></tr><tr><td>43659</td><td>8</td><td>4911-403C-98</td><td>3</td><td>714</td><td>1</td><td>28,8404</td><td>0,00</td><td>86.521200</td><td>E9D54907-E7B7-4969-80D9-76BA69F8A836</td><td>2011-05-31 00:00:00.000</td></tr><tr><td>43659</td><td>9</td><td>4911-403C-98</td><td>1</td><td>716</td><td>1</td><td>28,8404</td><td>0,00</td><td>28.840400</td><td>AA542630-BDCD-4CE5-89A0-C1BF82747725</td><td>2011-05-31 00:00:00.000</td></tr><tr><td>43659</td><td>10</td><td>4911-403C-98</td><td>6</td><td>709</td><td>1</td><td>5,70</td><td>0,00</td><td>34.200000</td><td>AC769034-3C2F-495C-A5A7-3B71CDB25D4E</td><td>2011-05-31 00:00:00.000</td></tr></tbody></table></div>"
      ]
     },
     "metadata": {
      "application/vnd.databricks.v1+output": {
       "addedWidgets": {},
       "aggData": [],
       "aggError": "",
       "aggOverflow": false,
       "aggSchema": [],
       "aggSeriesLimitReached": false,
       "aggType": "",
       "arguments": {},
       "columnCustomDisplayInfos": {},
       "data": [
        [
         "43659",
         "1",
         "4911-403C-98",
         "1",
         "776",
         "1",
         "2024,994",
         "0,00",
         "2024.994000",
         "B207C96D-D9E6-402B-8470-2CC176C42283",
         "2011-05-31 00:00:00.000"
        ],
        [
         "43659",
         "2",
         "4911-403C-98",
         "3",
         "777",
         "1",
         "2024,994",
         "0,00",
         "6074.982000",
         "7ABB600D-1E77-41BE-9FE5-B9142CFC08FA",
         "2011-05-31 00:00:00.000"
        ],
        [
         "43659",
         "3",
         "4911-403C-98",
         "1",
         "778",
         "1",
         "2024,994",
         "0,00",
         "2024.994000",
         "475CF8C6-49F6-486E-B0AD-AFC6A50CDD2F",
         "2011-05-31 00:00:00.000"
        ],
        [
         "43659",
         "4",
         "4911-403C-98",
         "1",
         "771",
         "1",
         "2039,994",
         "0,00",
         "2039.994000",
         "04C4DE91-5815-45D6-8670-F462719FBCE3",
         "2011-05-31 00:00:00.000"
        ],
        [
         "43659",
         "5",
         "4911-403C-98",
         "1",
         "772",
         "1",
         "2039,994",
         "0,00",
         "2039.994000",
         "5A74C7D2-E641-438E-A7AC-37BF23280301",
         "2011-05-31 00:00:00.000"
        ],
        [
         "43659",
         "6",
         "4911-403C-98",
         "2",
         "773",
         "1",
         "2039,994",
         "0,00",
         "4079.988000",
         "CE472532-A4C0-45BA-816E-EEFD3FD848B3",
         "2011-05-31 00:00:00.000"
        ],
        [
         "43659",
         "7",
         "4911-403C-98",
         "1",
         "774",
         "1",
         "2039,994",
         "0,00",
         "2039.994000",
         "80667840-F962-4EE3-96E0-AECA108E0D4F",
         "2011-05-31 00:00:00.000"
        ],
        [
         "43659",
         "8",
         "4911-403C-98",
         "3",
         "714",
         "1",
         "28,8404",
         "0,00",
         "86.521200",
         "E9D54907-E7B7-4969-80D9-76BA69F8A836",
         "2011-05-31 00:00:00.000"
        ],
        [
         "43659",
         "9",
         "4911-403C-98",
         "1",
         "716",
         "1",
         "28,8404",
         "0,00",
         "28.840400",
         "AA542630-BDCD-4CE5-89A0-C1BF82747725",
         "2011-05-31 00:00:00.000"
        ],
        [
         "43659",
         "10",
         "4911-403C-98",
         "6",
         "709",
         "1",
         "5,70",
         "0,00",
         "34.200000",
         "AC769034-3C2F-495C-A5A7-3B71CDB25D4E",
         "2011-05-31 00:00:00.000"
        ]
       ],
       "datasetInfos": [],
       "dbfsResultPath": null,
       "isJsonSchema": true,
       "metadata": {},
       "overflow": false,
       "plotOptions": {
        "customPlotOptions": {},
        "displayType": "table",
        "pivotAggregation": null,
        "pivotColumns": null,
        "xColumns": null,
        "yColumns": null
       },
       "removedWidgets": [],
       "schema": [
        {
         "metadata": "{}",
         "name": "SalesOrderID",
         "type": "\"string\""
        },
        {
         "metadata": "{}",
         "name": "SalesOrderDetailID",
         "type": "\"string\""
        },
        {
         "metadata": "{}",
         "name": "CarrierTrackingNumber",
         "type": "\"string\""
        },
        {
         "metadata": "{}",
         "name": "OrderQty",
         "type": "\"string\""
        },
        {
         "metadata": "{}",
         "name": "ProductID",
         "type": "\"string\""
        },
        {
         "metadata": "{}",
         "name": "SpecialOfferID",
         "type": "\"string\""
        },
        {
         "metadata": "{}",
         "name": "UnitPrice",
         "type": "\"string\""
        },
        {
         "metadata": "{}",
         "name": "UnitPriceDiscount",
         "type": "\"string\""
        },
        {
         "metadata": "{}",
         "name": "LineTotal",
         "type": "\"string\""
        },
        {
         "metadata": "{}",
         "name": "rowguid",
         "type": "\"string\""
        },
        {
         "metadata": "{}",
         "name": "ModifiedDate",
         "type": "\"string\""
        }
       ],
       "type": "table"
      }
     },
     "output_type": "display_data"
    }
   ],
   "source": [
    "df = spark.read.option(\"header\",True).options(delimiter=\";\").csv(path+\"/salesorderdetail.csv\")\n",
    "display(df.limit(10))"
   ]
  },
  {
   "cell_type": "code",
   "execution_count": 0,
   "metadata": {
    "application/vnd.databricks.v1+cell": {
     "cellMetadata": {
      "byteLimit": 2048000,
      "rowLimit": 10000
     },
     "inputWidgets": {},
     "nuid": "c8f45fb1-dbf7-49b2-8312-42d2a8ce68f1",
     "showTitle": false,
     "title": ""
    }
   },
   "outputs": [
    {
     "output_type": "stream",
     "name": "stdout",
     "output_type": "stream",
     "text": [
      "root\n |-- SalesOrderID: string (nullable = true)\n |-- SalesOrderDetailID: string (nullable = true)\n |-- CarrierTrackingNumber: string (nullable = true)\n |-- OrderQty: string (nullable = true)\n |-- ProductID: string (nullable = true)\n |-- SpecialOfferID: string (nullable = true)\n |-- UnitPrice: string (nullable = true)\n |-- UnitPriceDiscount: string (nullable = true)\n |-- LineTotal: string (nullable = true)\n |-- rowguid: string (nullable = true)\n |-- ModifiedDate: string (nullable = true)\n\n"
     ]
    }
   ],
   "source": [
    "df.printSchema()"
   ]
  },
  {
   "cell_type": "code",
   "execution_count": 0,
   "metadata": {
    "application/vnd.databricks.v1+cell": {
     "cellMetadata": {
      "byteLimit": 2048000,
      "rowLimit": 10000
     },
     "inputWidgets": {},
     "nuid": "e7e991cc-a7a9-4586-adb4-10a97f27bb0b",
     "showTitle": false,
     "title": ""
    }
   },
   "outputs": [],
   "source": [
    "#display(df.select(\"SalesOrderDetailID\").distinct())"
   ]
  },
  {
   "cell_type": "code",
   "execution_count": 0,
   "metadata": {
    "application/vnd.databricks.v1+cell": {
     "cellMetadata": {
      "byteLimit": 2048000,
      "rowLimit": 10000
     },
     "inputWidgets": {},
     "nuid": "2397217a-f1c8-469f-90a6-ffa8e7bfac5a",
     "showTitle": false,
     "title": ""
    }
   },
   "outputs": [],
   "source": [
    "from pyspark.sql.functions import expr, col, regexp_replace,regexp_extract,when, to_date,to_timestamp"
   ]
  },
  {
   "cell_type": "markdown",
   "metadata": {
    "application/vnd.databricks.v1+cell": {
     "cellMetadata": {
      "byteLimit": 2048000,
      "rowLimit": 10000
     },
     "inputWidgets": {},
     "nuid": "f8e6004e-848a-4d63-9fdc-1c65163189fb",
     "showTitle": false,
     "title": ""
    }
   },
   "source": [
    "#Check for missing data"
   ]
  },
  {
   "cell_type": "code",
   "execution_count": 0,
   "metadata": {
    "application/vnd.databricks.v1+cell": {
     "cellMetadata": {
      "byteLimit": 2048000,
      "rowLimit": 10000
     },
     "inputWidgets": {},
     "nuid": "fec9f8b0-ddf7-4206-a852-e7967177dc18",
     "showTitle": false,
     "title": ""
    }
   },
   "outputs": [
    {
     "output_type": "display_data",
     "data": {
      "text/html": [
       "<style scoped>\n",
       "  .table-result-container {\n",
       "    max-height: 300px;\n",
       "    overflow: auto;\n",
       "  }\n",
       "  table, th, td {\n",
       "    border: 1px solid black;\n",
       "    border-collapse: collapse;\n",
       "  }\n",
       "  th, td {\n",
       "    padding: 5px;\n",
       "  }\n",
       "  th {\n",
       "    text-align: left;\n",
       "  }\n",
       "</style><div class='table-result-container'><table class='table-result'><thead style='background-color: white'><tr><th>SalesOrderID</th><th>SalesOrderDetailID</th><th>CarrierTrackingNumber</th><th>OrderQty</th><th>ProductID</th><th>SpecialOfferID</th><th>UnitPrice</th><th>UnitPriceDiscount</th><th>LineTotal</th><th>rowguid</th><th>ModifiedDate</th></tr></thead><tbody><tr><td>43659</td><td>1</td><td>4911-403C-98</td><td>1</td><td>776</td><td>1</td><td>2024,994</td><td>0,00</td><td>2024.994000</td><td>B207C96D-D9E6-402B-8470-2CC176C42283</td><td>2011-05-31 00:00:00.000</td></tr><tr><td>43659</td><td>2</td><td>4911-403C-98</td><td>3</td><td>777</td><td>1</td><td>2024,994</td><td>0,00</td><td>6074.982000</td><td>7ABB600D-1E77-41BE-9FE5-B9142CFC08FA</td><td>2011-05-31 00:00:00.000</td></tr><tr><td>43659</td><td>3</td><td>4911-403C-98</td><td>1</td><td>778</td><td>1</td><td>2024,994</td><td>0,00</td><td>2024.994000</td><td>475CF8C6-49F6-486E-B0AD-AFC6A50CDD2F</td><td>2011-05-31 00:00:00.000</td></tr><tr><td>43659</td><td>4</td><td>4911-403C-98</td><td>1</td><td>771</td><td>1</td><td>2039,994</td><td>0,00</td><td>2039.994000</td><td>04C4DE91-5815-45D6-8670-F462719FBCE3</td><td>2011-05-31 00:00:00.000</td></tr><tr><td>43659</td><td>5</td><td>4911-403C-98</td><td>1</td><td>772</td><td>1</td><td>2039,994</td><td>0,00</td><td>2039.994000</td><td>5A74C7D2-E641-438E-A7AC-37BF23280301</td><td>2011-05-31 00:00:00.000</td></tr><tr><td>43659</td><td>6</td><td>4911-403C-98</td><td>2</td><td>773</td><td>1</td><td>2039,994</td><td>0,00</td><td>4079.988000</td><td>CE472532-A4C0-45BA-816E-EEFD3FD848B3</td><td>2011-05-31 00:00:00.000</td></tr><tr><td>43659</td><td>7</td><td>4911-403C-98</td><td>1</td><td>774</td><td>1</td><td>2039,994</td><td>0,00</td><td>2039.994000</td><td>80667840-F962-4EE3-96E0-AECA108E0D4F</td><td>2011-05-31 00:00:00.000</td></tr><tr><td>43659</td><td>8</td><td>4911-403C-98</td><td>3</td><td>714</td><td>1</td><td>28,8404</td><td>0,00</td><td>86.521200</td><td>E9D54907-E7B7-4969-80D9-76BA69F8A836</td><td>2011-05-31 00:00:00.000</td></tr><tr><td>43659</td><td>9</td><td>4911-403C-98</td><td>1</td><td>716</td><td>1</td><td>28,8404</td><td>0,00</td><td>28.840400</td><td>AA542630-BDCD-4CE5-89A0-C1BF82747725</td><td>2011-05-31 00:00:00.000</td></tr><tr><td>43659</td><td>10</td><td>4911-403C-98</td><td>6</td><td>709</td><td>1</td><td>5,70</td><td>0,00</td><td>34.200000</td><td>AC769034-3C2F-495C-A5A7-3B71CDB25D4E</td><td>2011-05-31 00:00:00.000</td></tr></tbody></table></div>"
      ]
     },
     "metadata": {
      "application/vnd.databricks.v1+output": {
       "addedWidgets": {},
       "aggData": [],
       "aggError": "",
       "aggOverflow": false,
       "aggSchema": [],
       "aggSeriesLimitReached": false,
       "aggType": "",
       "arguments": {},
       "columnCustomDisplayInfos": {},
       "data": [
        [
         "43659",
         "1",
         "4911-403C-98",
         "1",
         "776",
         "1",
         "2024,994",
         "0,00",
         "2024.994000",
         "B207C96D-D9E6-402B-8470-2CC176C42283",
         "2011-05-31 00:00:00.000"
        ],
        [
         "43659",
         "2",
         "4911-403C-98",
         "3",
         "777",
         "1",
         "2024,994",
         "0,00",
         "6074.982000",
         "7ABB600D-1E77-41BE-9FE5-B9142CFC08FA",
         "2011-05-31 00:00:00.000"
        ],
        [
         "43659",
         "3",
         "4911-403C-98",
         "1",
         "778",
         "1",
         "2024,994",
         "0,00",
         "2024.994000",
         "475CF8C6-49F6-486E-B0AD-AFC6A50CDD2F",
         "2011-05-31 00:00:00.000"
        ],
        [
         "43659",
         "4",
         "4911-403C-98",
         "1",
         "771",
         "1",
         "2039,994",
         "0,00",
         "2039.994000",
         "04C4DE91-5815-45D6-8670-F462719FBCE3",
         "2011-05-31 00:00:00.000"
        ],
        [
         "43659",
         "5",
         "4911-403C-98",
         "1",
         "772",
         "1",
         "2039,994",
         "0,00",
         "2039.994000",
         "5A74C7D2-E641-438E-A7AC-37BF23280301",
         "2011-05-31 00:00:00.000"
        ],
        [
         "43659",
         "6",
         "4911-403C-98",
         "2",
         "773",
         "1",
         "2039,994",
         "0,00",
         "4079.988000",
         "CE472532-A4C0-45BA-816E-EEFD3FD848B3",
         "2011-05-31 00:00:00.000"
        ],
        [
         "43659",
         "7",
         "4911-403C-98",
         "1",
         "774",
         "1",
         "2039,994",
         "0,00",
         "2039.994000",
         "80667840-F962-4EE3-96E0-AECA108E0D4F",
         "2011-05-31 00:00:00.000"
        ],
        [
         "43659",
         "8",
         "4911-403C-98",
         "3",
         "714",
         "1",
         "28,8404",
         "0,00",
         "86.521200",
         "E9D54907-E7B7-4969-80D9-76BA69F8A836",
         "2011-05-31 00:00:00.000"
        ],
        [
         "43659",
         "9",
         "4911-403C-98",
         "1",
         "716",
         "1",
         "28,8404",
         "0,00",
         "28.840400",
         "AA542630-BDCD-4CE5-89A0-C1BF82747725",
         "2011-05-31 00:00:00.000"
        ],
        [
         "43659",
         "10",
         "4911-403C-98",
         "6",
         "709",
         "1",
         "5,70",
         "0,00",
         "34.200000",
         "AC769034-3C2F-495C-A5A7-3B71CDB25D4E",
         "2011-05-31 00:00:00.000"
        ]
       ],
       "datasetInfos": [],
       "dbfsResultPath": null,
       "isJsonSchema": true,
       "metadata": {},
       "overflow": false,
       "plotOptions": {
        "customPlotOptions": {},
        "displayType": "table",
        "pivotAggregation": null,
        "pivotColumns": null,
        "xColumns": null,
        "yColumns": null
       },
       "removedWidgets": [],
       "schema": [
        {
         "metadata": "{}",
         "name": "SalesOrderID",
         "type": "\"string\""
        },
        {
         "metadata": "{}",
         "name": "SalesOrderDetailID",
         "type": "\"string\""
        },
        {
         "metadata": "{}",
         "name": "CarrierTrackingNumber",
         "type": "\"string\""
        },
        {
         "metadata": "{}",
         "name": "OrderQty",
         "type": "\"string\""
        },
        {
         "metadata": "{}",
         "name": "ProductID",
         "type": "\"string\""
        },
        {
         "metadata": "{}",
         "name": "SpecialOfferID",
         "type": "\"string\""
        },
        {
         "metadata": "{}",
         "name": "UnitPrice",
         "type": "\"string\""
        },
        {
         "metadata": "{}",
         "name": "UnitPriceDiscount",
         "type": "\"string\""
        },
        {
         "metadata": "{}",
         "name": "LineTotal",
         "type": "\"string\""
        },
        {
         "metadata": "{}",
         "name": "rowguid",
         "type": "\"string\""
        },
        {
         "metadata": "{}",
         "name": "ModifiedDate",
         "type": "\"string\""
        }
       ],
       "type": "table"
      }
     },
     "output_type": "display_data"
    }
   ],
   "source": [
    "def replace_string_null(df, columns):\n",
    "    for column_name in columns:\n",
    "        df = df.withColumn(column_name, when(col(column_name) == \"NULL\", None).otherwise(col(column_name)))\n",
    "    return df\n",
    "\n",
    "# Example usage:\n",
    "columns_to_replace = df.columns\n",
    "null_replaced = replace_string_null(df, columns_to_replace)\n",
    "display(null_replaced.limit(10))"
   ]
  },
  {
   "cell_type": "markdown",
   "metadata": {
    "application/vnd.databricks.v1+cell": {
     "cellMetadata": {
      "byteLimit": 2048000,
      "rowLimit": 10000
     },
     "inputWidgets": {},
     "nuid": "b9a30356-0ae8-41b7-9c16-959fb6f6c73a",
     "showTitle": false,
     "title": ""
    }
   },
   "source": [
    "#Change Data types"
   ]
  },
  {
   "cell_type": "code",
   "execution_count": 0,
   "metadata": {
    "application/vnd.databricks.v1+cell": {
     "cellMetadata": {
      "byteLimit": 2048000,
      "rowLimit": 10000
     },
     "inputWidgets": {},
     "nuid": "eddce4c2-0136-4c44-a308-a97830d13c09",
     "showTitle": false,
     "title": ""
    }
   },
   "outputs": [
    {
     "output_type": "stream",
     "name": "stdout",
     "output_type": "stream",
     "text": [
      "root\n |-- SalesOrderID: string (nullable = true)\n |-- SalesOrderDetailID: string (nullable = true)\n |-- CarrierTrackingNumber: string (nullable = true)\n |-- OrderQty: string (nullable = true)\n |-- ProductID: string (nullable = true)\n |-- SpecialOfferID: string (nullable = true)\n |-- UnitPrice: string (nullable = true)\n |-- UnitPriceDiscount: string (nullable = true)\n |-- LineTotal: string (nullable = true)\n |-- rowguid: string (nullable = true)\n |-- ModifiedDate: string (nullable = true)\n\n"
     ]
    }
   ],
   "source": [
    "null_replaced.printSchema()"
   ]
  },
  {
   "cell_type": "code",
   "execution_count": 0,
   "metadata": {
    "application/vnd.databricks.v1+cell": {
     "cellMetadata": {
      "byteLimit": 2048000,
      "rowLimit": 10000
     },
     "inputWidgets": {},
     "nuid": "4d81b301-2672-4dad-ae5d-acb5dd82221f",
     "showTitle": false,
     "title": ""
    }
   },
   "outputs": [
    {
     "output_type": "display_data",
     "data": {
      "text/html": [
       "<style scoped>\n",
       "  .table-result-container {\n",
       "    max-height: 300px;\n",
       "    overflow: auto;\n",
       "  }\n",
       "  table, th, td {\n",
       "    border: 1px solid black;\n",
       "    border-collapse: collapse;\n",
       "  }\n",
       "  th, td {\n",
       "    padding: 5px;\n",
       "  }\n",
       "  th {\n",
       "    text-align: left;\n",
       "  }\n",
       "</style><div class='table-result-container'><table class='table-result'><thead style='background-color: white'><tr><th>SalesOrderID</th><th>SalesOrderDetailID</th><th>CarrierTrackingNumber</th><th>OrderQty</th><th>ProductID</th><th>SpecialOfferID</th><th>UnitPrice</th><th>UnitPriceDiscount</th><th>LineTotal</th><th>rowguid</th><th>ModifiedDate</th></tr></thead><tbody><tr><td>43659</td><td>1</td><td>4911-403C-98</td><td>1</td><td>776</td><td>1</td><td>2024.994</td><td>0.00</td><td>2024.994000</td><td>B207C96D-D9E6-402B-8470-2CC176C42283</td><td>2011-05-31 00:00:00.000</td></tr><tr><td>43659</td><td>2</td><td>4911-403C-98</td><td>3</td><td>777</td><td>1</td><td>2024.994</td><td>0.00</td><td>6074.982000</td><td>7ABB600D-1E77-41BE-9FE5-B9142CFC08FA</td><td>2011-05-31 00:00:00.000</td></tr><tr><td>43659</td><td>3</td><td>4911-403C-98</td><td>1</td><td>778</td><td>1</td><td>2024.994</td><td>0.00</td><td>2024.994000</td><td>475CF8C6-49F6-486E-B0AD-AFC6A50CDD2F</td><td>2011-05-31 00:00:00.000</td></tr><tr><td>43659</td><td>4</td><td>4911-403C-98</td><td>1</td><td>771</td><td>1</td><td>2039.994</td><td>0.00</td><td>2039.994000</td><td>04C4DE91-5815-45D6-8670-F462719FBCE3</td><td>2011-05-31 00:00:00.000</td></tr><tr><td>43659</td><td>5</td><td>4911-403C-98</td><td>1</td><td>772</td><td>1</td><td>2039.994</td><td>0.00</td><td>2039.994000</td><td>5A74C7D2-E641-438E-A7AC-37BF23280301</td><td>2011-05-31 00:00:00.000</td></tr><tr><td>43659</td><td>6</td><td>4911-403C-98</td><td>2</td><td>773</td><td>1</td><td>2039.994</td><td>0.00</td><td>4079.988000</td><td>CE472532-A4C0-45BA-816E-EEFD3FD848B3</td><td>2011-05-31 00:00:00.000</td></tr><tr><td>43659</td><td>7</td><td>4911-403C-98</td><td>1</td><td>774</td><td>1</td><td>2039.994</td><td>0.00</td><td>2039.994000</td><td>80667840-F962-4EE3-96E0-AECA108E0D4F</td><td>2011-05-31 00:00:00.000</td></tr><tr><td>43659</td><td>8</td><td>4911-403C-98</td><td>3</td><td>714</td><td>1</td><td>28.8404</td><td>0.00</td><td>86.521200</td><td>E9D54907-E7B7-4969-80D9-76BA69F8A836</td><td>2011-05-31 00:00:00.000</td></tr><tr><td>43659</td><td>9</td><td>4911-403C-98</td><td>1</td><td>716</td><td>1</td><td>28.8404</td><td>0.00</td><td>28.840400</td><td>AA542630-BDCD-4CE5-89A0-C1BF82747725</td><td>2011-05-31 00:00:00.000</td></tr><tr><td>43659</td><td>10</td><td>4911-403C-98</td><td>6</td><td>709</td><td>1</td><td>5.70</td><td>0.00</td><td>34.200000</td><td>AC769034-3C2F-495C-A5A7-3B71CDB25D4E</td><td>2011-05-31 00:00:00.000</td></tr></tbody></table></div>"
      ]
     },
     "metadata": {
      "application/vnd.databricks.v1+output": {
       "addedWidgets": {},
       "aggData": [],
       "aggError": "",
       "aggOverflow": false,
       "aggSchema": [],
       "aggSeriesLimitReached": false,
       "aggType": "",
       "arguments": {},
       "columnCustomDisplayInfos": {},
       "data": [
        [
         "43659",
         "1",
         "4911-403C-98",
         "1",
         "776",
         "1",
         "2024.994",
         "0.00",
         "2024.994000",
         "B207C96D-D9E6-402B-8470-2CC176C42283",
         "2011-05-31 00:00:00.000"
        ],
        [
         "43659",
         "2",
         "4911-403C-98",
         "3",
         "777",
         "1",
         "2024.994",
         "0.00",
         "6074.982000",
         "7ABB600D-1E77-41BE-9FE5-B9142CFC08FA",
         "2011-05-31 00:00:00.000"
        ],
        [
         "43659",
         "3",
         "4911-403C-98",
         "1",
         "778",
         "1",
         "2024.994",
         "0.00",
         "2024.994000",
         "475CF8C6-49F6-486E-B0AD-AFC6A50CDD2F",
         "2011-05-31 00:00:00.000"
        ],
        [
         "43659",
         "4",
         "4911-403C-98",
         "1",
         "771",
         "1",
         "2039.994",
         "0.00",
         "2039.994000",
         "04C4DE91-5815-45D6-8670-F462719FBCE3",
         "2011-05-31 00:00:00.000"
        ],
        [
         "43659",
         "5",
         "4911-403C-98",
         "1",
         "772",
         "1",
         "2039.994",
         "0.00",
         "2039.994000",
         "5A74C7D2-E641-438E-A7AC-37BF23280301",
         "2011-05-31 00:00:00.000"
        ],
        [
         "43659",
         "6",
         "4911-403C-98",
         "2",
         "773",
         "1",
         "2039.994",
         "0.00",
         "4079.988000",
         "CE472532-A4C0-45BA-816E-EEFD3FD848B3",
         "2011-05-31 00:00:00.000"
        ],
        [
         "43659",
         "7",
         "4911-403C-98",
         "1",
         "774",
         "1",
         "2039.994",
         "0.00",
         "2039.994000",
         "80667840-F962-4EE3-96E0-AECA108E0D4F",
         "2011-05-31 00:00:00.000"
        ],
        [
         "43659",
         "8",
         "4911-403C-98",
         "3",
         "714",
         "1",
         "28.8404",
         "0.00",
         "86.521200",
         "E9D54907-E7B7-4969-80D9-76BA69F8A836",
         "2011-05-31 00:00:00.000"
        ],
        [
         "43659",
         "9",
         "4911-403C-98",
         "1",
         "716",
         "1",
         "28.8404",
         "0.00",
         "28.840400",
         "AA542630-BDCD-4CE5-89A0-C1BF82747725",
         "2011-05-31 00:00:00.000"
        ],
        [
         "43659",
         "10",
         "4911-403C-98",
         "6",
         "709",
         "1",
         "5.70",
         "0.00",
         "34.200000",
         "AC769034-3C2F-495C-A5A7-3B71CDB25D4E",
         "2011-05-31 00:00:00.000"
        ]
       ],
       "datasetInfos": [],
       "dbfsResultPath": null,
       "isJsonSchema": true,
       "metadata": {},
       "overflow": false,
       "plotOptions": {
        "customPlotOptions": {},
        "displayType": "table",
        "pivotAggregation": null,
        "pivotColumns": null,
        "xColumns": null,
        "yColumns": null
       },
       "removedWidgets": [],
       "schema": [
        {
         "metadata": "{}",
         "name": "SalesOrderID",
         "type": "\"string\""
        },
        {
         "metadata": "{}",
         "name": "SalesOrderDetailID",
         "type": "\"string\""
        },
        {
         "metadata": "{}",
         "name": "CarrierTrackingNumber",
         "type": "\"string\""
        },
        {
         "metadata": "{}",
         "name": "OrderQty",
         "type": "\"string\""
        },
        {
         "metadata": "{}",
         "name": "ProductID",
         "type": "\"string\""
        },
        {
         "metadata": "{}",
         "name": "SpecialOfferID",
         "type": "\"string\""
        },
        {
         "metadata": "{}",
         "name": "UnitPrice",
         "type": "\"string\""
        },
        {
         "metadata": "{}",
         "name": "UnitPriceDiscount",
         "type": "\"string\""
        },
        {
         "metadata": "{}",
         "name": "LineTotal",
         "type": "\"string\""
        },
        {
         "metadata": "{}",
         "name": "rowguid",
         "type": "\"string\""
        },
        {
         "metadata": "{}",
         "name": "ModifiedDate",
         "type": "\"string\""
        }
       ],
       "type": "table"
      }
     },
     "output_type": "display_data"
    }
   ],
   "source": [
    "#Replace comma for period\n",
    "def replace_comma_with_period(df, columns_to_replace):\n",
    "    for column in columns_to_replace:\n",
    "        df = df.withColumn(column, regexp_replace(col(column), \",\", \".\"))\n",
    "\n",
    "    return df\n",
    "#List of columns to replace\n",
    "comma_replaced = [\"UnitPrice\",\"UnitPriceDiscount\",\"LineTotal\"]\n",
    "\n",
    "#replaced df\n",
    "comma_replaced = replace_comma_with_period(null_replaced, columns_to_replace)\n",
    "display(comma_replaced.limit(10))\n"
   ]
  },
  {
   "cell_type": "code",
   "execution_count": 0,
   "metadata": {
    "application/vnd.databricks.v1+cell": {
     "cellMetadata": {
      "byteLimit": 2048000,
      "rowLimit": 10000
     },
     "inputWidgets": {},
     "nuid": "d4cdfaf2-33f2-484a-9009-b6fb7149f7ce",
     "showTitle": false,
     "title": ""
    }
   },
   "outputs": [],
   "source": [
    "#Change date\n",
    "def change_date_format(df, columns_to_change):\n",
    "    for column in columns_to_change:\n",
    "        df = df.withColumn(column, to_date(to_timestamp(col(column), \"yyyy-MM-dd HH:mm:ss.SSS\"), \"yyyy-MM-dd\"))\n",
    "\n",
    "    return df\n",
    "\n",
    "#Change to int\n",
    "def change_data_type_to_int(df, columns_to_change):\n",
    "    for column in columns_to_change:\n",
    "        df = df.withColumn(column, col(column).cast(\"int\"))\n",
    "\n",
    "    return df\n",
    "\n",
    "#Change to float\n",
    "def change_data_type_to_float(df, columns_to_change):\n",
    "    for column in columns_to_change:\n",
    "        df = df.withColumn(column, col(column).cast(\"float\"))\n",
    "\n",
    "    return df"
   ]
  },
  {
   "cell_type": "code",
   "execution_count": 0,
   "metadata": {
    "application/vnd.databricks.v1+cell": {
     "cellMetadata": {
      "byteLimit": 2048000,
      "rowLimit": 10000
     },
     "inputWidgets": {},
     "nuid": "5fb058b8-15be-4f28-8f4b-a4ce1f2da069",
     "showTitle": false,
     "title": ""
    }
   },
   "outputs": [
    {
     "output_type": "display_data",
     "data": {
      "text/html": [
       "<style scoped>\n",
       "  .table-result-container {\n",
       "    max-height: 300px;\n",
       "    overflow: auto;\n",
       "  }\n",
       "  table, th, td {\n",
       "    border: 1px solid black;\n",
       "    border-collapse: collapse;\n",
       "  }\n",
       "  th, td {\n",
       "    padding: 5px;\n",
       "  }\n",
       "  th {\n",
       "    text-align: left;\n",
       "  }\n",
       "</style><div class='table-result-container'><table class='table-result'><thead style='background-color: white'><tr><th>SalesOrderID</th><th>SalesOrderDetailID</th><th>CarrierTrackingNumber</th><th>OrderQty</th><th>ProductID</th><th>SpecialOfferID</th><th>UnitPrice</th><th>UnitPriceDiscount</th><th>LineTotal</th><th>rowguid</th><th>ModifiedDate</th></tr></thead><tbody><tr><td>43659</td><td>1</td><td>4911-403C-98</td><td>1</td><td>776</td><td>1</td><td>2024.994</td><td>0.0</td><td>2024.994</td><td>B207C96D-D9E6-402B-8470-2CC176C42283</td><td>2011-05-31</td></tr><tr><td>43659</td><td>2</td><td>4911-403C-98</td><td>3</td><td>777</td><td>1</td><td>2024.994</td><td>0.0</td><td>6074.982</td><td>7ABB600D-1E77-41BE-9FE5-B9142CFC08FA</td><td>2011-05-31</td></tr><tr><td>43659</td><td>3</td><td>4911-403C-98</td><td>1</td><td>778</td><td>1</td><td>2024.994</td><td>0.0</td><td>2024.994</td><td>475CF8C6-49F6-486E-B0AD-AFC6A50CDD2F</td><td>2011-05-31</td></tr><tr><td>43659</td><td>4</td><td>4911-403C-98</td><td>1</td><td>771</td><td>1</td><td>2039.994</td><td>0.0</td><td>2039.994</td><td>04C4DE91-5815-45D6-8670-F462719FBCE3</td><td>2011-05-31</td></tr><tr><td>43659</td><td>5</td><td>4911-403C-98</td><td>1</td><td>772</td><td>1</td><td>2039.994</td><td>0.0</td><td>2039.994</td><td>5A74C7D2-E641-438E-A7AC-37BF23280301</td><td>2011-05-31</td></tr><tr><td>43659</td><td>6</td><td>4911-403C-98</td><td>2</td><td>773</td><td>1</td><td>2039.994</td><td>0.0</td><td>4079.988</td><td>CE472532-A4C0-45BA-816E-EEFD3FD848B3</td><td>2011-05-31</td></tr><tr><td>43659</td><td>7</td><td>4911-403C-98</td><td>1</td><td>774</td><td>1</td><td>2039.994</td><td>0.0</td><td>2039.994</td><td>80667840-F962-4EE3-96E0-AECA108E0D4F</td><td>2011-05-31</td></tr><tr><td>43659</td><td>8</td><td>4911-403C-98</td><td>3</td><td>714</td><td>1</td><td>28.8404</td><td>0.0</td><td>86.5212</td><td>E9D54907-E7B7-4969-80D9-76BA69F8A836</td><td>2011-05-31</td></tr><tr><td>43659</td><td>9</td><td>4911-403C-98</td><td>1</td><td>716</td><td>1</td><td>28.8404</td><td>0.0</td><td>28.8404</td><td>AA542630-BDCD-4CE5-89A0-C1BF82747725</td><td>2011-05-31</td></tr><tr><td>43659</td><td>10</td><td>4911-403C-98</td><td>6</td><td>709</td><td>1</td><td>5.7</td><td>0.0</td><td>34.2</td><td>AC769034-3C2F-495C-A5A7-3B71CDB25D4E</td><td>2011-05-31</td></tr></tbody></table></div>"
      ]
     },
     "metadata": {
      "application/vnd.databricks.v1+output": {
       "addedWidgets": {},
       "aggData": [],
       "aggError": "",
       "aggOverflow": false,
       "aggSchema": [],
       "aggSeriesLimitReached": false,
       "aggType": "",
       "arguments": {},
       "columnCustomDisplayInfos": {},
       "data": [
        [
         43659,
         1,
         "4911-403C-98",
         1,
         776,
         1,
         2024.994,
         0.0,
         2024.994,
         "B207C96D-D9E6-402B-8470-2CC176C42283",
         "2011-05-31"
        ],
        [
         43659,
         2,
         "4911-403C-98",
         3,
         777,
         1,
         2024.994,
         0.0,
         6074.982,
         "7ABB600D-1E77-41BE-9FE5-B9142CFC08FA",
         "2011-05-31"
        ],
        [
         43659,
         3,
         "4911-403C-98",
         1,
         778,
         1,
         2024.994,
         0.0,
         2024.994,
         "475CF8C6-49F6-486E-B0AD-AFC6A50CDD2F",
         "2011-05-31"
        ],
        [
         43659,
         4,
         "4911-403C-98",
         1,
         771,
         1,
         2039.994,
         0.0,
         2039.994,
         "04C4DE91-5815-45D6-8670-F462719FBCE3",
         "2011-05-31"
        ],
        [
         43659,
         5,
         "4911-403C-98",
         1,
         772,
         1,
         2039.994,
         0.0,
         2039.994,
         "5A74C7D2-E641-438E-A7AC-37BF23280301",
         "2011-05-31"
        ],
        [
         43659,
         6,
         "4911-403C-98",
         2,
         773,
         1,
         2039.994,
         0.0,
         4079.988,
         "CE472532-A4C0-45BA-816E-EEFD3FD848B3",
         "2011-05-31"
        ],
        [
         43659,
         7,
         "4911-403C-98",
         1,
         774,
         1,
         2039.994,
         0.0,
         2039.994,
         "80667840-F962-4EE3-96E0-AECA108E0D4F",
         "2011-05-31"
        ],
        [
         43659,
         8,
         "4911-403C-98",
         3,
         714,
         1,
         28.8404,
         0.0,
         86.5212,
         "E9D54907-E7B7-4969-80D9-76BA69F8A836",
         "2011-05-31"
        ],
        [
         43659,
         9,
         "4911-403C-98",
         1,
         716,
         1,
         28.8404,
         0.0,
         28.8404,
         "AA542630-BDCD-4CE5-89A0-C1BF82747725",
         "2011-05-31"
        ],
        [
         43659,
         10,
         "4911-403C-98",
         6,
         709,
         1,
         5.7,
         0.0,
         34.2,
         "AC769034-3C2F-495C-A5A7-3B71CDB25D4E",
         "2011-05-31"
        ]
       ],
       "datasetInfos": [],
       "dbfsResultPath": null,
       "isJsonSchema": true,
       "metadata": {},
       "overflow": false,
       "plotOptions": {
        "customPlotOptions": {},
        "displayType": "table",
        "pivotAggregation": null,
        "pivotColumns": null,
        "xColumns": null,
        "yColumns": null
       },
       "removedWidgets": [],
       "schema": [
        {
         "metadata": "{}",
         "name": "SalesOrderID",
         "type": "\"integer\""
        },
        {
         "metadata": "{}",
         "name": "SalesOrderDetailID",
         "type": "\"integer\""
        },
        {
         "metadata": "{}",
         "name": "CarrierTrackingNumber",
         "type": "\"string\""
        },
        {
         "metadata": "{}",
         "name": "OrderQty",
         "type": "\"integer\""
        },
        {
         "metadata": "{}",
         "name": "ProductID",
         "type": "\"integer\""
        },
        {
         "metadata": "{}",
         "name": "SpecialOfferID",
         "type": "\"integer\""
        },
        {
         "metadata": "{}",
         "name": "UnitPrice",
         "type": "\"float\""
        },
        {
         "metadata": "{}",
         "name": "UnitPriceDiscount",
         "type": "\"float\""
        },
        {
         "metadata": "{}",
         "name": "LineTotal",
         "type": "\"float\""
        },
        {
         "metadata": "{}",
         "name": "rowguid",
         "type": "\"string\""
        },
        {
         "metadata": "{}",
         "name": "ModifiedDate",
         "type": "\"date\""
        }
       ],
       "type": "table"
      }
     },
     "output_type": "display_data"
    }
   ],
   "source": [
    "# Define the list of columns to change date format\n",
    "columns_to_change_date = [\"ModifiedDate\"]\n",
    "result_date = change_date_format(comma_replaced, columns_to_change_date)\n",
    "\n",
    "#Columns to change to int\n",
    "columns_to_change_int = [\"SalesOrderID\",\"SalesOrderDetailID\",\"OrderQty\",\"ProductID\",\"SpecialOfferID\"]\n",
    "result_int=change_data_type_to_int(result_date,columns_to_change_int)\n",
    "\n",
    "#Columns to change to float\n",
    "columns_to_change_float = [\"UnitPrice\",\"UnitPriceDiscount\",\"LineTotal\"]\n",
    "result_float = change_data_type_to_float(result_int,columns_to_change_float)\n",
    "\n",
    "display(result_float.limit(10))\n"
   ]
  },
  {
   "cell_type": "code",
   "execution_count": 0,
   "metadata": {
    "application/vnd.databricks.v1+cell": {
     "cellMetadata": {
      "byteLimit": 2048000,
      "rowLimit": 10000
     },
     "inputWidgets": {},
     "nuid": "9d252081-5adc-44a8-b910-bf41111248a1",
     "showTitle": false,
     "title": ""
    }
   },
   "outputs": [
    {
     "output_type": "stream",
     "name": "stdout",
     "output_type": "stream",
     "text": [
      "Out[41]: ['SalesOrderID',\n 'SalesOrderDetailID',\n 'CarrierTrackingNumber',\n 'OrderQty',\n 'ProductID',\n 'SpecialOfferID',\n 'UnitPrice',\n 'UnitPriceDiscount',\n 'LineTotal',\n 'rowguid',\n 'ModifiedDate']"
     ]
    }
   ],
   "source": [
    "result_float.columns"
   ]
  },
  {
   "cell_type": "code",
   "execution_count": 0,
   "metadata": {
    "application/vnd.databricks.v1+cell": {
     "cellMetadata": {
      "byteLimit": 2048000,
      "rowLimit": 10000
     },
     "inputWidgets": {},
     "nuid": "75ab1eda-db4f-4c19-a3fe-5a186a471d9e",
     "showTitle": false,
     "title": ""
    }
   },
   "outputs": [
    {
     "output_type": "display_data",
     "data": {
      "text/html": [
       "<style scoped>\n",
       "  .table-result-container {\n",
       "    max-height: 300px;\n",
       "    overflow: auto;\n",
       "  }\n",
       "  table, th, td {\n",
       "    border: 1px solid black;\n",
       "    border-collapse: collapse;\n",
       "  }\n",
       "  th, td {\n",
       "    padding: 5px;\n",
       "  }\n",
       "  th {\n",
       "    text-align: left;\n",
       "  }\n",
       "</style><div class='table-result-container'><table class='table-result'><thead style='background-color: white'><tr><th>sales_order_id</th><th>sales_order_detail_id</th><th>carrier_tracking_number</th><th>order_qtd</th><th>product_id</th><th>special_offer_id</th><th>unit_price</th><th>unit_price_discount</th><th>line_total</th><th>rowguid</th><th>modified_date</th></tr></thead><tbody><tr><td>43659</td><td>1</td><td>4911-403C-98</td><td>1</td><td>776</td><td>1</td><td>2024.994</td><td>0.0</td><td>2024.994</td><td>B207C96D-D9E6-402B-8470-2CC176C42283</td><td>2011-05-31</td></tr><tr><td>43659</td><td>2</td><td>4911-403C-98</td><td>3</td><td>777</td><td>1</td><td>2024.994</td><td>0.0</td><td>6074.982</td><td>7ABB600D-1E77-41BE-9FE5-B9142CFC08FA</td><td>2011-05-31</td></tr><tr><td>43659</td><td>3</td><td>4911-403C-98</td><td>1</td><td>778</td><td>1</td><td>2024.994</td><td>0.0</td><td>2024.994</td><td>475CF8C6-49F6-486E-B0AD-AFC6A50CDD2F</td><td>2011-05-31</td></tr><tr><td>43659</td><td>4</td><td>4911-403C-98</td><td>1</td><td>771</td><td>1</td><td>2039.994</td><td>0.0</td><td>2039.994</td><td>04C4DE91-5815-45D6-8670-F462719FBCE3</td><td>2011-05-31</td></tr><tr><td>43659</td><td>5</td><td>4911-403C-98</td><td>1</td><td>772</td><td>1</td><td>2039.994</td><td>0.0</td><td>2039.994</td><td>5A74C7D2-E641-438E-A7AC-37BF23280301</td><td>2011-05-31</td></tr><tr><td>43659</td><td>6</td><td>4911-403C-98</td><td>2</td><td>773</td><td>1</td><td>2039.994</td><td>0.0</td><td>4079.988</td><td>CE472532-A4C0-45BA-816E-EEFD3FD848B3</td><td>2011-05-31</td></tr><tr><td>43659</td><td>7</td><td>4911-403C-98</td><td>1</td><td>774</td><td>1</td><td>2039.994</td><td>0.0</td><td>2039.994</td><td>80667840-F962-4EE3-96E0-AECA108E0D4F</td><td>2011-05-31</td></tr><tr><td>43659</td><td>8</td><td>4911-403C-98</td><td>3</td><td>714</td><td>1</td><td>28.8404</td><td>0.0</td><td>86.5212</td><td>E9D54907-E7B7-4969-80D9-76BA69F8A836</td><td>2011-05-31</td></tr><tr><td>43659</td><td>9</td><td>4911-403C-98</td><td>1</td><td>716</td><td>1</td><td>28.8404</td><td>0.0</td><td>28.8404</td><td>AA542630-BDCD-4CE5-89A0-C1BF82747725</td><td>2011-05-31</td></tr><tr><td>43659</td><td>10</td><td>4911-403C-98</td><td>6</td><td>709</td><td>1</td><td>5.7</td><td>0.0</td><td>34.2</td><td>AC769034-3C2F-495C-A5A7-3B71CDB25D4E</td><td>2011-05-31</td></tr></tbody></table></div>"
      ]
     },
     "metadata": {
      "application/vnd.databricks.v1+output": {
       "addedWidgets": {},
       "aggData": [],
       "aggError": "",
       "aggOverflow": false,
       "aggSchema": [],
       "aggSeriesLimitReached": false,
       "aggType": "",
       "arguments": {},
       "columnCustomDisplayInfos": {},
       "data": [
        [
         43659,
         1,
         "4911-403C-98",
         1,
         776,
         1,
         2024.994,
         0.0,
         2024.994,
         "B207C96D-D9E6-402B-8470-2CC176C42283",
         "2011-05-31"
        ],
        [
         43659,
         2,
         "4911-403C-98",
         3,
         777,
         1,
         2024.994,
         0.0,
         6074.982,
         "7ABB600D-1E77-41BE-9FE5-B9142CFC08FA",
         "2011-05-31"
        ],
        [
         43659,
         3,
         "4911-403C-98",
         1,
         778,
         1,
         2024.994,
         0.0,
         2024.994,
         "475CF8C6-49F6-486E-B0AD-AFC6A50CDD2F",
         "2011-05-31"
        ],
        [
         43659,
         4,
         "4911-403C-98",
         1,
         771,
         1,
         2039.994,
         0.0,
         2039.994,
         "04C4DE91-5815-45D6-8670-F462719FBCE3",
         "2011-05-31"
        ],
        [
         43659,
         5,
         "4911-403C-98",
         1,
         772,
         1,
         2039.994,
         0.0,
         2039.994,
         "5A74C7D2-E641-438E-A7AC-37BF23280301",
         "2011-05-31"
        ],
        [
         43659,
         6,
         "4911-403C-98",
         2,
         773,
         1,
         2039.994,
         0.0,
         4079.988,
         "CE472532-A4C0-45BA-816E-EEFD3FD848B3",
         "2011-05-31"
        ],
        [
         43659,
         7,
         "4911-403C-98",
         1,
         774,
         1,
         2039.994,
         0.0,
         2039.994,
         "80667840-F962-4EE3-96E0-AECA108E0D4F",
         "2011-05-31"
        ],
        [
         43659,
         8,
         "4911-403C-98",
         3,
         714,
         1,
         28.8404,
         0.0,
         86.5212,
         "E9D54907-E7B7-4969-80D9-76BA69F8A836",
         "2011-05-31"
        ],
        [
         43659,
         9,
         "4911-403C-98",
         1,
         716,
         1,
         28.8404,
         0.0,
         28.8404,
         "AA542630-BDCD-4CE5-89A0-C1BF82747725",
         "2011-05-31"
        ],
        [
         43659,
         10,
         "4911-403C-98",
         6,
         709,
         1,
         5.7,
         0.0,
         34.2,
         "AC769034-3C2F-495C-A5A7-3B71CDB25D4E",
         "2011-05-31"
        ]
       ],
       "datasetInfos": [],
       "dbfsResultPath": null,
       "isJsonSchema": true,
       "metadata": {},
       "overflow": false,
       "plotOptions": {
        "customPlotOptions": {},
        "displayType": "table",
        "pivotAggregation": null,
        "pivotColumns": null,
        "xColumns": null,
        "yColumns": null
       },
       "removedWidgets": [],
       "schema": [
        {
         "metadata": "{}",
         "name": "sales_order_id",
         "type": "\"integer\""
        },
        {
         "metadata": "{}",
         "name": "sales_order_detail_id",
         "type": "\"integer\""
        },
        {
         "metadata": "{}",
         "name": "carrier_tracking_number",
         "type": "\"string\""
        },
        {
         "metadata": "{}",
         "name": "order_qtd",
         "type": "\"integer\""
        },
        {
         "metadata": "{}",
         "name": "product_id",
         "type": "\"integer\""
        },
        {
         "metadata": "{}",
         "name": "special_offer_id",
         "type": "\"integer\""
        },
        {
         "metadata": "{}",
         "name": "unit_price",
         "type": "\"float\""
        },
        {
         "metadata": "{}",
         "name": "unit_price_discount",
         "type": "\"float\""
        },
        {
         "metadata": "{}",
         "name": "line_total",
         "type": "\"float\""
        },
        {
         "metadata": "{}",
         "name": "rowguid",
         "type": "\"string\""
        },
        {
         "metadata": "{}",
         "name": "modified_date",
         "type": "\"date\""
        }
       ],
       "type": "table"
      }
     },
     "output_type": "display_data"
    }
   ],
   "source": [
    "column_mapping = {\n",
    "'SalesOrderID':'sales_order_id',\n",
    " 'SalesOrderDetailID':'sales_order_detail_id',\n",
    " 'CarrierTrackingNumber':'carrier_tracking_number',\n",
    " 'OrderQty':'order_qtd',\n",
    " 'ProductID':'product_id',\n",
    " 'SpecialOfferID':'special_offer_id',\n",
    " 'UnitPrice':'unit_price',\n",
    " 'UnitPriceDiscount':'unit_price_discount',\n",
    " 'LineTotal':'line_total',\n",
    " 'rowguid':'rowguid',\n",
    " 'ModifiedDate':'modified_date'\n",
    "}\n",
    "\n",
    "# Create a list of column expressions with aliases\n",
    "select_expr = [col(old_col).alias(new_col) for old_col, new_col in column_mapping.items()]\n",
    "\n",
    "# Apply the column renaming using select and alias\n",
    "sales_detail = result_float.select(*select_expr)\n",
    "display(sales_detail.limit(10))"
   ]
  },
  {
   "cell_type": "code",
   "execution_count": 0,
   "metadata": {
    "application/vnd.databricks.v1+cell": {
     "cellMetadata": {
      "byteLimit": 2048000,
      "rowLimit": 10000
     },
     "inputWidgets": {},
     "nuid": "f373f201-8e8e-40b9-8020-e6cd3f4feebd",
     "showTitle": false,
     "title": ""
    }
   },
   "outputs": [
    {
     "output_type": "stream",
     "name": "stdout",
     "output_type": "stream",
     "text": [
      "root\n |-- sales_order_id: integer (nullable = true)\n |-- sales_order_detail_id: integer (nullable = true)\n |-- carrier_tracking_number: string (nullable = true)\n |-- order_qtd: integer (nullable = true)\n |-- product_id: integer (nullable = true)\n |-- special_offer_id: integer (nullable = true)\n |-- unit_price: float (nullable = true)\n |-- unit_price_discount: float (nullable = true)\n |-- line_total: float (nullable = true)\n |-- rowguid: string (nullable = true)\n |-- modified_date: date (nullable = true)\n\n"
     ]
    }
   ],
   "source": [
    "sales_detail.printSchema()"
   ]
  },
  {
   "cell_type": "markdown",
   "metadata": {
    "application/vnd.databricks.v1+cell": {
     "cellMetadata": {
      "byteLimit": 2048000,
      "rowLimit": 10000
     },
     "inputWidgets": {},
     "nuid": "509d13d6-10cb-46dc-bc77-34defecb94a0",
     "showTitle": false,
     "title": ""
    }
   },
   "source": [
    "#Ingest the cleaned data to the database"
   ]
  },
  {
   "cell_type": "markdown",
   "metadata": {
    "application/vnd.databricks.v1+cell": {
     "cellMetadata": {
      "byteLimit": 2048000,
      "rowLimit": 10000
     },
     "inputWidgets": {},
     "nuid": "62690033-ca69-4c9a-a9f6-40ab7a131a83",
     "showTitle": false,
     "title": ""
    }
   },
   "source": [
    "### Connection to the database"
   ]
  },
  {
   "cell_type": "code",
   "execution_count": 0,
   "metadata": {
    "application/vnd.databricks.v1+cell": {
     "cellMetadata": {
      "byteLimit": 2048000,
      "rowLimit": 10000
     },
     "inputWidgets": {},
     "nuid": "391522a6-5743-4bb2-984d-a17d82a6097c",
     "showTitle": false,
     "title": ""
    }
   },
   "outputs": [],
   "source": [
    "# Get the secrets from the jdbc secret scope.\n",
    "username = dbutils.secrets.get(scope=\"Kv-fab-de-proj-dev\", key=\"kv-soll-dblogin\")\n",
    "password = dbutils.secrets.get(scope=\"Kv-fab-de-proj-dev\", key=\"kv-soll-dbpass\")\n",
    "\n",
    "jdbcHostname = \"srv-fab-projetos.database.windows.net\"\n",
    "jdbcPort = 1433\n",
    "jdbcDatabase = \"db-fab-projetos\"\n",
    "\n",
    "jdbcUrl = \"jdbc:sqlserver://{0}:{1};database={2}\".format(jdbcHostname, jdbcPort, jdbcDatabase)\n",
    "\n",
    "connectionProperties = {\n",
    "  \"user\" : username,\n",
    "  \"password\" : password,\n",
    "  \"driver\" : \"com.microsoft.sqlserver.jdbc.SQLServerDriver\"\n",
    "}\n",
    "\n",
    "table_name = 'sollim.sales_detail'"
   ]
  },
  {
   "cell_type": "markdown",
   "metadata": {
    "application/vnd.databricks.v1+cell": {
     "cellMetadata": {
      "byteLimit": 2048000,
      "rowLimit": 10000
     },
     "inputWidgets": {},
     "nuid": "1d0e7708-5e52-4888-a665-8d34b1a105ae",
     "showTitle": false,
     "title": ""
    }
   },
   "source": [
    "### Insert into the database\n"
   ]
  },
  {
   "cell_type": "code",
   "execution_count": 0,
   "metadata": {
    "application/vnd.databricks.v1+cell": {
     "cellMetadata": {
      "byteLimit": 2048000,
      "rowLimit": 10000
     },
     "inputWidgets": {},
     "nuid": "12331808-505c-40ad-aeeb-e374dff62930",
     "showTitle": false,
     "title": ""
    }
   },
   "outputs": [],
   "source": [
    "sales_detail.write \\\n",
    "  .format(\"jdbc\") \\\n",
    "  .option(\"url\", jdbcUrl) \\\n",
    "  .option(\"dbtable\", table_name) \\\n",
    "  .mode(\"overwrite\") \\\n",
    "  .options(**connectionProperties) \\\n",
    "  .save()"
   ]
  },
  {
   "cell_type": "code",
   "execution_count": 0,
   "metadata": {
    "application/vnd.databricks.v1+cell": {
     "cellMetadata": {
      "byteLimit": 2048000,
      "rowLimit": 10000
     },
     "inputWidgets": {},
     "nuid": "d61a9e0f-66ca-499a-a7ea-7d0794fb6f05",
     "showTitle": false,
     "title": ""
    }
   },
   "outputs": [
    {
     "output_type": "stream",
     "name": "stdout",
     "output_type": "stream",
     "text": [
      "/mnt/ingrid-sollim/ has been unmounted.\nOut[46]: True"
     ]
    }
   ],
   "source": [
    "dbutils.fs.unmount(mountpoint)"
   ]
  }
 ],
 "metadata": {
  "application/vnd.databricks.v1+notebook": {
   "dashboards": [],
   "language": "python",
   "notebookMetadata": {
    "mostRecentlyExecutedCommandWithImplicitDF": {
     "commandId": 3286741429713165,
     "dataframes": [
      "_sqldf"
     ]
    },
    "pythonIndentUnit": 4
   },
   "notebookName": "ROX_SalesDetail",
   "widgets": {}
  }
 },
 "nbformat": 4,
 "nbformat_minor": 0
}
