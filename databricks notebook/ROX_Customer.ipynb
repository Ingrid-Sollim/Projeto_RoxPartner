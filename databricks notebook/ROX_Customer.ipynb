{
 "cells": [
  {
   "cell_type": "markdown",
   "metadata": {
    "application/vnd.databricks.v1+cell": {
     "cellMetadata": {},
     "inputWidgets": {},
     "nuid": "052113b6-1c3b-43f4-8fa7-f389a0531535",
     "showTitle": false,
     "title": ""
    }
   },
   "source": [
    "# Connection to blob"
   ]
  },
  {
   "cell_type": "code",
   "execution_count": 0,
   "metadata": {
    "application/vnd.databricks.v1+cell": {
     "cellMetadata": {
      "byteLimit": 2048000,
      "rowLimit": 10000
     },
     "inputWidgets": {},
     "nuid": "413a1989-28e5-49fd-8d7d-25a772cd4bf2",
     "showTitle": false,
     "title": ""
    }
   },
   "outputs": [
    {
     "output_type": "stream",
     "name": "stdout",
     "output_type": "stream",
     "text": [
      "Mount point '/mnt/ingrid-sollim/' is already mounted.\n"
     ]
    }
   ],
   "source": [
    "storageAccount = \"xxxxxxxxxx\"\n",
    "containerName = \"xxxxxxx\"\n",
    "mountpoint = \"/mnt/xxxxxxx/\"\n",
    "storageEndpoint = f\"wasbs://{containerName}@{storageAccount}.blob.core.windows.net\" \n",
    "storageKey = dbutils.secrets.get(scope=\"xxxxxxx\",key=\"xxxxxx\")\n",
    "storageConn = f\"fs.azure.account.key.{storageAccount}.blob.core.windows.net\"\n",
    "try:\n",
    "    if not any(mount.mountPoint==mountpoint for mount in dbutils.fs.mounts()):\n",
    "        dbutils.fs.mount(\n",
    "        source = storageEndpoint,\n",
    "        mount_point = mountpoint,\n",
    "        extra_configs = {storageConn:storageKey}\n",
    "    )\n",
    "        print(f\"{mountpoint} has been mounted\")\n",
    "    else:\n",
    "        print(f\"Mount point '{mountpoint}' is already mounted.\")\n",
    "except Exception as e:\n",
    "    raise e  # Re-raise the exception if mounting fails\n"
   ]
  },
  {
   "cell_type": "code",
   "execution_count": 0,
   "metadata": {
    "application/vnd.databricks.v1+cell": {
     "cellMetadata": {
      "byteLimit": 2048000,
      "rowLimit": 10000
     },
     "inputWidgets": {},
     "nuid": "2614625f-8c72-4645-a634-d36f6368161d",
     "showTitle": false,
     "title": ""
    }
   },
   "outputs": [
    {
     "output_type": "display_data",
     "data": {
      "text/html": [
       "<style scoped>\n",
       "  .table-result-container {\n",
       "    max-height: 300px;\n",
       "    overflow: auto;\n",
       "  }\n",
       "  table, th, td {\n",
       "    border: 1px solid black;\n",
       "    border-collapse: collapse;\n",
       "  }\n",
       "  th, td {\n",
       "    padding: 5px;\n",
       "  }\n",
       "  th {\n",
       "    text-align: left;\n",
       "  }\n",
       "</style><div class='table-result-container'><table class='table-result'><thead style='background-color: white'><tr><th>path</th><th>name</th><th>size</th><th>modificationTime</th></tr></thead><tbody><tr><td>dbfs:/mnt/ingrid-sollim/bikes/customer.csv</td><td>customer.csv</td><td>1813963</td><td>1694474860000</td></tr><tr><td>dbfs:/mnt/ingrid-sollim/bikes/person.csv</td><td>person.csv</td><td>13646947</td><td>1694474860000</td></tr><tr><td>dbfs:/mnt/ingrid-sollim/bikes/product.csv</td><td>product.csv</td><td>104823</td><td>1694474860000</td></tr><tr><td>dbfs:/mnt/ingrid-sollim/bikes/salesorderdetail.csv</td><td>salesorderdetail.csv</td><td>13801182</td><td>1694474860000</td></tr><tr><td>dbfs:/mnt/ingrid-sollim/bikes/salesorderheader.csv</td><td>salesorderheader.csv</td><td>8267704</td><td>1694474862000</td></tr><tr><td>dbfs:/mnt/ingrid-sollim/bikes/spoffer.csv</td><td>spoffer.csv</td><td>36680</td><td>1694474860000</td></tr></tbody></table></div>"
      ]
     },
     "metadata": {
      "application/vnd.databricks.v1+output": {
       "addedWidgets": {},
       "aggData": [],
       "aggError": "",
       "aggOverflow": false,
       "aggSchema": [],
       "aggSeriesLimitReached": false,
       "aggType": "",
       "arguments": {},
       "columnCustomDisplayInfos": {},
       "data": [
        [
         "dbfs:/mnt/ingrid-sollim/bikes/customer.csv",
         "customer.csv",
         1813963,
         1694474860000
        ],
        [
         "dbfs:/mnt/ingrid-sollim/bikes/person.csv",
         "person.csv",
         13646947,
         1694474860000
        ],
        [
         "dbfs:/mnt/ingrid-sollim/bikes/product.csv",
         "product.csv",
         104823,
         1694474860000
        ],
        [
         "dbfs:/mnt/ingrid-sollim/bikes/salesorderdetail.csv",
         "salesorderdetail.csv",
         13801182,
         1694474860000
        ],
        [
         "dbfs:/mnt/ingrid-sollim/bikes/salesorderheader.csv",
         "salesorderheader.csv",
         8267704,
         1694474862000
        ],
        [
         "dbfs:/mnt/ingrid-sollim/bikes/spoffer.csv",
         "spoffer.csv",
         36680,
         1694474860000
        ]
       ],
       "datasetInfos": [],
       "dbfsResultPath": null,
       "isJsonSchema": true,
       "metadata": {},
       "overflow": false,
       "plotOptions": {
        "customPlotOptions": {},
        "displayType": "table",
        "pivotAggregation": null,
        "pivotColumns": null,
        "xColumns": null,
        "yColumns": null
       },
       "removedWidgets": [],
       "schema": [
        {
         "metadata": "{}",
         "name": "path",
         "type": "\"string\""
        },
        {
         "metadata": "{}",
         "name": "name",
         "type": "\"string\""
        },
        {
         "metadata": "{}",
         "name": "size",
         "type": "\"long\""
        },
        {
         "metadata": "{}",
         "name": "modificationTime",
         "type": "\"long\""
        }
       ],
       "type": "table"
      }
     },
     "output_type": "display_data"
    }
   ],
   "source": [
    "path=mountpoint+\"bikes\"\n",
    "display(dbutils.fs.ls(path))"
   ]
  },
  {
   "cell_type": "code",
   "execution_count": 0,
   "metadata": {
    "application/vnd.databricks.v1+cell": {
     "cellMetadata": {
      "byteLimit": 2048000,
      "rowLimit": 10000
     },
     "inputWidgets": {},
     "nuid": "351ed6b9-443e-475a-8136-3c54a806d70b",
     "showTitle": false,
     "title": ""
    }
   },
   "outputs": [
    {
     "output_type": "display_data",
     "data": {
      "text/html": [
       "<style scoped>\n",
       "  .table-result-container {\n",
       "    max-height: 300px;\n",
       "    overflow: auto;\n",
       "  }\n",
       "  table, th, td {\n",
       "    border: 1px solid black;\n",
       "    border-collapse: collapse;\n",
       "  }\n",
       "  th, td {\n",
       "    padding: 5px;\n",
       "  }\n",
       "  th {\n",
       "    text-align: left;\n",
       "  }\n",
       "</style><div class='table-result-container'><table class='table-result'><thead style='background-color: white'><tr><th>CustomerID</th><th>PersonID</th><th>StoreID</th><th>TerritoryID</th><th>AccountNumber</th><th>rowguid</th><th>ModifiedDate</th></tr></thead><tbody><tr><td>1</td><td>NULL</td><td>934</td><td>1</td><td>AW00000001</td><td>3F5AE95E-B87D-4AED-95B4-C3797AFCB74F</td><td>2014-09-12 11:15:07.263</td></tr><tr><td>2</td><td>NULL</td><td>1028</td><td>1</td><td>AW00000002</td><td>E552F657-A9AF-4A7D-A645-C429D6E02491</td><td>2014-09-12 11:15:07.263</td></tr><tr><td>3</td><td>NULL</td><td>642</td><td>4</td><td>AW00000003</td><td>130774B1-DB21-4EF3-98C8-C104BCD6ED6D</td><td>2014-09-12 11:15:07.263</td></tr><tr><td>4</td><td>NULL</td><td>932</td><td>4</td><td>AW00000004</td><td>FF862851-1DAA-4044-BE7C-3E85583C054D</td><td>2014-09-12 11:15:07.263</td></tr><tr><td>5</td><td>NULL</td><td>1026</td><td>4</td><td>AW00000005</td><td>83905BDC-6F5E-4F71-B162-C98DA069F38A</td><td>2014-09-12 11:15:07.263</td></tr><tr><td>6</td><td>NULL</td><td>644</td><td>4</td><td>AW00000006</td><td>1A92DF88-BFA2-467D-BD54-FCB9E647FDD7</td><td>2014-09-12 11:15:07.263</td></tr><tr><td>7</td><td>NULL</td><td>930</td><td>1</td><td>AW00000007</td><td>03E9273E-B193-448E-9823-FE0C44AEED78</td><td>2014-09-12 11:15:07.263</td></tr><tr><td>8</td><td>NULL</td><td>1024</td><td>5</td><td>AW00000008</td><td>801368B1-4323-4BFA-8BEA-5B5B1E4BD4A0</td><td>2014-09-12 11:15:07.263</td></tr><tr><td>9</td><td>NULL</td><td>620</td><td>5</td><td>AW00000009</td><td>B900BB7F-23C3-481D-80DA-C49A5BD6F772</td><td>2014-09-12 11:15:07.263</td></tr><tr><td>10</td><td>NULL</td><td>928</td><td>6</td><td>AW00000010</td><td>CDB6698D-2FF1-4FBA-8F22-60AD1D11DABD</td><td>2014-09-12 11:15:07.263</td></tr></tbody></table></div>"
      ]
     },
     "metadata": {
      "application/vnd.databricks.v1+output": {
       "addedWidgets": {},
       "aggData": [],
       "aggError": "",
       "aggOverflow": false,
       "aggSchema": [],
       "aggSeriesLimitReached": false,
       "aggType": "",
       "arguments": {},
       "columnCustomDisplayInfos": {},
       "data": [
        [
         "1",
         "NULL",
         "934",
         "1",
         "AW00000001",
         "3F5AE95E-B87D-4AED-95B4-C3797AFCB74F",
         "2014-09-12 11:15:07.263"
        ],
        [
         "2",
         "NULL",
         "1028",
         "1",
         "AW00000002",
         "E552F657-A9AF-4A7D-A645-C429D6E02491",
         "2014-09-12 11:15:07.263"
        ],
        [
         "3",
         "NULL",
         "642",
         "4",
         "AW00000003",
         "130774B1-DB21-4EF3-98C8-C104BCD6ED6D",
         "2014-09-12 11:15:07.263"
        ],
        [
         "4",
         "NULL",
         "932",
         "4",
         "AW00000004",
         "FF862851-1DAA-4044-BE7C-3E85583C054D",
         "2014-09-12 11:15:07.263"
        ],
        [
         "5",
         "NULL",
         "1026",
         "4",
         "AW00000005",
         "83905BDC-6F5E-4F71-B162-C98DA069F38A",
         "2014-09-12 11:15:07.263"
        ],
        [
         "6",
         "NULL",
         "644",
         "4",
         "AW00000006",
         "1A92DF88-BFA2-467D-BD54-FCB9E647FDD7",
         "2014-09-12 11:15:07.263"
        ],
        [
         "7",
         "NULL",
         "930",
         "1",
         "AW00000007",
         "03E9273E-B193-448E-9823-FE0C44AEED78",
         "2014-09-12 11:15:07.263"
        ],
        [
         "8",
         "NULL",
         "1024",
         "5",
         "AW00000008",
         "801368B1-4323-4BFA-8BEA-5B5B1E4BD4A0",
         "2014-09-12 11:15:07.263"
        ],
        [
         "9",
         "NULL",
         "620",
         "5",
         "AW00000009",
         "B900BB7F-23C3-481D-80DA-C49A5BD6F772",
         "2014-09-12 11:15:07.263"
        ],
        [
         "10",
         "NULL",
         "928",
         "6",
         "AW00000010",
         "CDB6698D-2FF1-4FBA-8F22-60AD1D11DABD",
         "2014-09-12 11:15:07.263"
        ]
       ],
       "datasetInfos": [],
       "dbfsResultPath": null,
       "isJsonSchema": true,
       "metadata": {},
       "overflow": false,
       "plotOptions": {
        "customPlotOptions": {},
        "displayType": "table",
        "pivotAggregation": null,
        "pivotColumns": null,
        "xColumns": null,
        "yColumns": null
       },
       "removedWidgets": [],
       "schema": [
        {
         "metadata": "{}",
         "name": "CustomerID",
         "type": "\"string\""
        },
        {
         "metadata": "{}",
         "name": "PersonID",
         "type": "\"string\""
        },
        {
         "metadata": "{}",
         "name": "StoreID",
         "type": "\"string\""
        },
        {
         "metadata": "{}",
         "name": "TerritoryID",
         "type": "\"string\""
        },
        {
         "metadata": "{}",
         "name": "AccountNumber",
         "type": "\"string\""
        },
        {
         "metadata": "{}",
         "name": "rowguid",
         "type": "\"string\""
        },
        {
         "metadata": "{}",
         "name": "ModifiedDate",
         "type": "\"string\""
        }
       ],
       "type": "table"
      }
     },
     "output_type": "display_data"
    }
   ],
   "source": [
    "df = spark.read.option(\"header\",True).options(delimiter=\";\").csv(path+\"/customer.csv\")\n",
    "display(df.limit(10))"
   ]
  },
  {
   "cell_type": "markdown",
   "metadata": {
    "application/vnd.databricks.v1+cell": {
     "cellMetadata": {},
     "inputWidgets": {},
     "nuid": "4dc7e097-f350-46f4-b528-79f12a2d62ea",
     "showTitle": false,
     "title": ""
    }
   },
   "source": [
    "#Check for column changes"
   ]
  },
  {
   "cell_type": "code",
   "execution_count": 0,
   "metadata": {
    "application/vnd.databricks.v1+cell": {
     "cellMetadata": {
      "byteLimit": 2048000,
      "rowLimit": 10000
     },
     "inputWidgets": {},
     "nuid": "12fddfde-b1f2-4421-87fa-2f5da99fd266",
     "showTitle": false,
     "title": ""
    }
   },
   "outputs": [],
   "source": [
    "def check_column_changes(df, columns):\n",
    "    '''This function checks if new columns had been added or if the column names had changed'''\n",
    "    #Get the column names from the dataframe\n",
    "    current_columns = df.columns\n",
    "    # Check if the column names have changed.\n",
    "    for columns, current_columns in zip(old_columns, new_columns):\n",
    "        if old_column != new_column:\n",
    "            print(\"There are differences in the code\")\n",
    "            return True"
   ]
  },
  {
   "cell_type": "code",
   "execution_count": 0,
   "metadata": {
    "application/vnd.databricks.v1+cell": {
     "cellMetadata": {
      "byteLimit": 2048000,
      "rowLimit": 10000
     },
     "inputWidgets": {},
     "nuid": "d25d3930-d677-49b6-9ea5-45dc67c97225",
     "showTitle": false,
     "title": ""
    }
   },
   "outputs": [
    {
     "output_type": "stream",
     "name": "stdout",
     "output_type": "stream",
     "text": [
      "Out[29]: ['CustomerID',\n 'PersonID',\n 'StoreID',\n 'TerritoryID',\n 'AccountNumber',\n 'rowguid',\n 'ModifiedDate']"
     ]
    }
   ],
   "source": [
    "#column_names=customer_df.columns\n",
    "column_names = ['CustomerID','PersonID','StoreID','TerritoryID','AccountNumber','rowguid','ModifiedDate']\n"
   ]
  },
  {
   "cell_type": "markdown",
   "metadata": {
    "application/vnd.databricks.v1+cell": {
     "cellMetadata": {},
     "inputWidgets": {},
     "nuid": "f8e6004e-848a-4d63-9fdc-1c65163189fb",
     "showTitle": false,
     "title": ""
    }
   },
   "source": [
    "#Check for missing data"
   ]
  },
  {
   "cell_type": "markdown",
   "metadata": {
    "application/vnd.databricks.v1+cell": {
     "cellMetadata": {},
     "inputWidgets": {},
     "nuid": "b9a30356-0ae8-41b7-9c16-959fb6f6c73a",
     "showTitle": false,
     "title": ""
    }
   },
   "source": [
    "#Change Data types"
   ]
  },
  {
   "cell_type": "code",
   "execution_count": 0,
   "metadata": {
    "application/vnd.databricks.v1+cell": {
     "cellMetadata": {
      "byteLimit": 2048000,
      "rowLimit": 10000
     },
     "inputWidgets": {},
     "nuid": "eddce4c2-0136-4c44-a308-a97830d13c09",
     "showTitle": false,
     "title": ""
    }
   },
   "outputs": [
    {
     "output_type": "stream",
     "name": "stdout",
     "output_type": "stream",
     "text": [
      "root\n |-- CustomerID: string (nullable = true)\n |-- PersonID: string (nullable = true)\n |-- StoreID: string (nullable = true)\n |-- TerritoryID: string (nullable = true)\n |-- AccountNumber: string (nullable = true)\n |-- rowguid: string (nullable = true)\n |-- ModifiedDate: string (nullable = true)\n\n"
     ]
    }
   ],
   "source": [
    "df.printSchema()"
   ]
  },
  {
   "cell_type": "code",
   "execution_count": 0,
   "metadata": {
    "application/vnd.databricks.v1+cell": {
     "cellMetadata": {
      "byteLimit": 2048000,
      "rowLimit": 10000
     },
     "inputWidgets": {},
     "nuid": "5fb058b8-15be-4f28-8f4b-a4ce1f2da069",
     "showTitle": false,
     "title": ""
    }
   },
   "outputs": [
    {
     "output_type": "display_data",
     "data": {
      "text/html": [
       "<style scoped>\n",
       "  .table-result-container {\n",
       "    max-height: 300px;\n",
       "    overflow: auto;\n",
       "  }\n",
       "  table, th, td {\n",
       "    border: 1px solid black;\n",
       "    border-collapse: collapse;\n",
       "  }\n",
       "  th, td {\n",
       "    padding: 5px;\n",
       "  }\n",
       "  th {\n",
       "    text-align: left;\n",
       "  }\n",
       "</style><div class='table-result-container'><table class='table-result'><thead style='background-color: white'><tr><th>CustomerID</th><th>PersonID</th><th>StoreID</th><th>TerritoryID</th><th>AccountNumber</th><th>rowguid</th><th>ModifiedDate</th></tr></thead><tbody><tr><td>1</td><td>NULL</td><td>934</td><td>1</td><td>AW00000001</td><td>3F5AE95E-B87D-4AED-95B4-C3797AFCB74F</td><td>2014-09-12T11:15:07.263+0000</td></tr><tr><td>2</td><td>NULL</td><td>1028</td><td>1</td><td>AW00000002</td><td>E552F657-A9AF-4A7D-A645-C429D6E02491</td><td>2014-09-12T11:15:07.263+0000</td></tr><tr><td>3</td><td>NULL</td><td>642</td><td>4</td><td>AW00000003</td><td>130774B1-DB21-4EF3-98C8-C104BCD6ED6D</td><td>2014-09-12T11:15:07.263+0000</td></tr><tr><td>4</td><td>NULL</td><td>932</td><td>4</td><td>AW00000004</td><td>FF862851-1DAA-4044-BE7C-3E85583C054D</td><td>2014-09-12T11:15:07.263+0000</td></tr><tr><td>5</td><td>NULL</td><td>1026</td><td>4</td><td>AW00000005</td><td>83905BDC-6F5E-4F71-B162-C98DA069F38A</td><td>2014-09-12T11:15:07.263+0000</td></tr><tr><td>6</td><td>NULL</td><td>644</td><td>4</td><td>AW00000006</td><td>1A92DF88-BFA2-467D-BD54-FCB9E647FDD7</td><td>2014-09-12T11:15:07.263+0000</td></tr><tr><td>7</td><td>NULL</td><td>930</td><td>1</td><td>AW00000007</td><td>03E9273E-B193-448E-9823-FE0C44AEED78</td><td>2014-09-12T11:15:07.263+0000</td></tr><tr><td>8</td><td>NULL</td><td>1024</td><td>5</td><td>AW00000008</td><td>801368B1-4323-4BFA-8BEA-5B5B1E4BD4A0</td><td>2014-09-12T11:15:07.263+0000</td></tr><tr><td>9</td><td>NULL</td><td>620</td><td>5</td><td>AW00000009</td><td>B900BB7F-23C3-481D-80DA-C49A5BD6F772</td><td>2014-09-12T11:15:07.263+0000</td></tr><tr><td>10</td><td>NULL</td><td>928</td><td>6</td><td>AW00000010</td><td>CDB6698D-2FF1-4FBA-8F22-60AD1D11DABD</td><td>2014-09-12T11:15:07.263+0000</td></tr></tbody></table></div>"
      ]
     },
     "metadata": {
      "application/vnd.databricks.v1+output": {
       "addedWidgets": {},
       "aggData": [],
       "aggError": "",
       "aggOverflow": false,
       "aggSchema": [],
       "aggSeriesLimitReached": false,
       "aggType": "",
       "arguments": {},
       "columnCustomDisplayInfos": {},
       "data": [
        [
         1,
         "NULL",
         934,
         1,
         "AW00000001",
         "3F5AE95E-B87D-4AED-95B4-C3797AFCB74F",
         "2014-09-12T11:15:07.263+0000"
        ],
        [
         2,
         "NULL",
         1028,
         1,
         "AW00000002",
         "E552F657-A9AF-4A7D-A645-C429D6E02491",
         "2014-09-12T11:15:07.263+0000"
        ],
        [
         3,
         "NULL",
         642,
         4,
         "AW00000003",
         "130774B1-DB21-4EF3-98C8-C104BCD6ED6D",
         "2014-09-12T11:15:07.263+0000"
        ],
        [
         4,
         "NULL",
         932,
         4,
         "AW00000004",
         "FF862851-1DAA-4044-BE7C-3E85583C054D",
         "2014-09-12T11:15:07.263+0000"
        ],
        [
         5,
         "NULL",
         1026,
         4,
         "AW00000005",
         "83905BDC-6F5E-4F71-B162-C98DA069F38A",
         "2014-09-12T11:15:07.263+0000"
        ],
        [
         6,
         "NULL",
         644,
         4,
         "AW00000006",
         "1A92DF88-BFA2-467D-BD54-FCB9E647FDD7",
         "2014-09-12T11:15:07.263+0000"
        ],
        [
         7,
         "NULL",
         930,
         1,
         "AW00000007",
         "03E9273E-B193-448E-9823-FE0C44AEED78",
         "2014-09-12T11:15:07.263+0000"
        ],
        [
         8,
         "NULL",
         1024,
         5,
         "AW00000008",
         "801368B1-4323-4BFA-8BEA-5B5B1E4BD4A0",
         "2014-09-12T11:15:07.263+0000"
        ],
        [
         9,
         "NULL",
         620,
         5,
         "AW00000009",
         "B900BB7F-23C3-481D-80DA-C49A5BD6F772",
         "2014-09-12T11:15:07.263+0000"
        ],
        [
         10,
         "NULL",
         928,
         6,
         "AW00000010",
         "CDB6698D-2FF1-4FBA-8F22-60AD1D11DABD",
         "2014-09-12T11:15:07.263+0000"
        ]
       ],
       "datasetInfos": [],
       "dbfsResultPath": null,
       "isJsonSchema": true,
       "metadata": {},
       "overflow": false,
       "plotOptions": {
        "customPlotOptions": {},
        "displayType": "table",
        "pivotAggregation": null,
        "pivotColumns": null,
        "xColumns": null,
        "yColumns": null
       },
       "removedWidgets": [],
       "schema": [
        {
         "metadata": "{}",
         "name": "CustomerID",
         "type": "\"integer\""
        },
        {
         "metadata": "{}",
         "name": "PersonID",
         "type": "\"string\""
        },
        {
         "metadata": "{}",
         "name": "StoreID",
         "type": "\"integer\""
        },
        {
         "metadata": "{}",
         "name": "TerritoryID",
         "type": "\"integer\""
        },
        {
         "metadata": "{}",
         "name": "AccountNumber",
         "type": "\"string\""
        },
        {
         "metadata": "{}",
         "name": "rowguid",
         "type": "\"string\""
        },
        {
         "metadata": "{}",
         "name": "ModifiedDate",
         "type": "\"timestamp\""
        }
       ],
       "type": "table"
      }
     },
     "output_type": "display_data"
    }
   ],
   "source": [
    "from pyspark.sql.functions import col, to_timestamp\n",
    "\n",
    "customer_df = df.withColumn(\"CustomerID\",col(\"CustomerID\").cast(\"int\"))\\\n",
    ".withColumn(\"StoreID\",col(\"StoreID\").cast(\"int\"))\\\n",
    ".withColumn(\"TerritoryID\",col(\"TerritoryID\").cast(\"int\"))\\\n",
    ".withColumn(\"ModifiedDate\",to_timestamp(col(\"ModifiedDate\"),\"yyyy-MM-dd HH:mm:ss.SSS\"))\n",
    "\n",
    "display(customer_df.limit(10))"
   ]
  },
  {
   "cell_type": "code",
   "execution_count": 0,
   "metadata": {
    "application/vnd.databricks.v1+cell": {
     "cellMetadata": {
      "byteLimit": 2048000,
      "rowLimit": 10000
     },
     "inputWidgets": {},
     "nuid": "0da702a0-4ead-4af2-a4b5-caed627ce697",
     "showTitle": false,
     "title": ""
    }
   },
   "outputs": [
    {
     "output_type": "stream",
     "name": "stdout",
     "output_type": "stream",
     "text": [
      "root\n |-- CustomerID: integer (nullable = true)\n |-- PersonID: string (nullable = true)\n |-- StoreID: integer (nullable = true)\n |-- TerritoryID: integer (nullable = true)\n |-- AccountNumber: string (nullable = true)\n |-- rowguid: string (nullable = true)\n |-- ModifiedDate: timestamp (nullable = true)\n\n"
     ]
    }
   ],
   "source": [
    "customer_df.printSchema()"
   ]
  },
  {
   "cell_type": "code",
   "execution_count": 0,
   "metadata": {
    "application/vnd.databricks.v1+cell": {
     "cellMetadata": {
      "byteLimit": 2048000,
      "rowLimit": 10000
     },
     "inputWidgets": {},
     "nuid": "be348d46-87cf-4a1e-9c01-0af3b36c4d26",
     "showTitle": false,
     "title": ""
    }
   },
   "outputs": [],
   "source": [
    "#Rename columns\n",
    "customer_df = customer_df.withColumnRenamed(\"CustomerID\",\"customer_id\")\\\n",
    "    .withColumnRenamed(\"PersonID\",\"person_id\").withColumnRenamed(\"StoreID\",\"store_id\")\\\n",
    "    .withColumnRenamed(\"TerritoryID\",\"territory_id\").withColumnRenamed(\"AccountNumber\",\"account_number\").withColumnRenamed(\"ModifiedDate\",\"modified_date\")\n",
    "\n"
   ]
  },
  {
   "cell_type": "markdown",
   "metadata": {
    "application/vnd.databricks.v1+cell": {
     "cellMetadata": {},
     "inputWidgets": {},
     "nuid": "509d13d6-10cb-46dc-bc77-34defecb94a0",
     "showTitle": false,
     "title": ""
    }
   },
   "source": [
    "#Ingest the cleaned data to the database"
   ]
  },
  {
   "cell_type": "markdown",
   "metadata": {
    "application/vnd.databricks.v1+cell": {
     "cellMetadata": {},
     "inputWidgets": {},
     "nuid": "62690033-ca69-4c9a-a9f6-40ab7a131a83",
     "showTitle": false,
     "title": ""
    }
   },
   "source": [
    "### Connection to the database"
   ]
  },
  {
   "cell_type": "code",
   "execution_count": 0,
   "metadata": {
    "application/vnd.databricks.v1+cell": {
     "cellMetadata": {
      "byteLimit": 2048000,
      "rowLimit": 10000
     },
     "inputWidgets": {},
     "nuid": "391522a6-5743-4bb2-984d-a17d82a6097c",
     "showTitle": false,
     "title": ""
    }
   },
   "outputs": [],
   "source": [
    "# Get the secrets from the jdbc secret scope.\n",
    "username = dbutils.secrets.get(scope=\"xxxxxxx\", key=\"xxxxxx\")\n",
    "password = dbutils.secrets.get(scope=\"xxxxxxx\", key=\"xxxxxxx\")\n",
    "\n",
    "\n",

    "jdbcUsername = username\n",
    "jdbcPassword = password\n",
    "jdbcHostname = \"srv-fab-projetos.database.windows.net\"\n",
    "jdbcPort = 1433\n",
    "jdbcDatabase = \"xxxxxx\"\n",
    "\n",
    "jdbcUrl = \"jdbc:sqlserver://{0}:{1};database={2}\".format(jdbcHostname, jdbcPort, jdbcDatabase)\n",
    "\n",
    "connectionProperties = {\n",
    "  \"user\" : jdbcUsername,\n",
    "  \"password\" : jdbcPassword,\n",
    "  \"driver\" : \"com.microsoft.sqlserver.jdbc.SQLServerDriver\"\n",
    "}\n",
    "\n",
    "table_name = 'xxxxxx'"
   ]
  },
  {
   "cell_type": "code",
   "execution_count": 0,
   "metadata": {
    "application/vnd.databricks.v1+cell": {
     "cellMetadata": {
      "byteLimit": 2048000,
      "rowLimit": 10000
     },
     "inputWidgets": {},
     "nuid": "12331808-505c-40ad-aeeb-e374dff62930",
     "showTitle": false,
     "title": ""
    }
   },
   "outputs": [],
   "source": [
    "customer_df.write \\\n",
    "  .format(\"jdbc\") \\\n",
    "  .option(\"url\", jdbcUrl) \\\n",
    "  .option(\"dbtable\", table_name) \\\n",
    "  .mode(\"overwrite\") \\\n",
    "  .options(**connectionProperties) \\\n",
    "  .save()"
   ]
  },
  {
   "cell_type": "markdown",
   "metadata": {
    "application/vnd.databricks.v1+cell": {
     "cellMetadata": {},
     "inputWidgets": {},
     "nuid": "1d0e7708-5e52-4888-a665-8d34b1a105ae",
     "showTitle": false,
     "title": ""
    }
   },
   "source": [
    "### Insert into the database\n"
   ]
  },
  {
   "cell_type": "code",
   "execution_count": 0,
   "metadata": {
    "application/vnd.databricks.v1+cell": {
     "cellMetadata": {
      "byteLimit": 2048000,
      "rowLimit": 10000
     },
     "inputWidgets": {},
     "nuid": "d61a9e0f-66ca-499a-a7ea-7d0794fb6f05",
     "showTitle": false,
     "title": ""
    }
   },
   "outputs": [
    {
     "output_type": "stream",
     "name": "stdout",
     "output_type": "stream",
     "text": [
      "/mnt/ingrid-sollim/ has been unmounted.\nOut[5]: True"
     ]
    }
   ],
   "source": [
    "dbutils.fs.unmount(mountpoint)"
   ]
  },
  {
   "cell_type": "code",
   "execution_count": 0,
   "metadata": {
    "application/vnd.databricks.v1+cell": {
     "cellMetadata": {},
     "inputWidgets": {},
     "nuid": "b1db45d2-aef7-46f6-8911-7b342d2fa632",
     "showTitle": false,
     "title": ""
    }
   },
   "outputs": [],
   "source": []
  }
 ],
 "metadata": {
  "application/vnd.databricks.v1+notebook": {
   "dashboards": [],
   "language": "python",
   "notebookMetadata": {
    "pythonIndentUnit": 4
   },
   "notebookName": "ROX_Customer",
   "widgets": {}
  }
 },
 "nbformat": 4,
 "nbformat_minor": 0
}
