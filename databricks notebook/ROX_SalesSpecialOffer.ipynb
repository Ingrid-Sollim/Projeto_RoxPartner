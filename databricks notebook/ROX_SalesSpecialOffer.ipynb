{
 "cells": [
  {
   "cell_type": "code",
   "execution_count": 0,
   "metadata": {
    "application/vnd.databricks.v1+cell": {
     "cellMetadata": {
      "byteLimit": 2048000,
      "rowLimit": 10000
     },
     "inputWidgets": {},
     "nuid": "4fec3468-4450-432c-8d35-0fc80b0e2851",
     "showTitle": false,
     "title": ""
    }
   },
   "outputs": [],
   "source": [
    "import xml.etree.ElementTree as ET"
   ]
  },
  {
   "cell_type": "code",
   "execution_count": 0,
   "metadata": {
    "application/vnd.databricks.v1+cell": {
     "cellMetadata": {
      "byteLimit": 2048000,
      "rowLimit": 10000
     },
     "inputWidgets": {},
     "nuid": "efe667e8-2da3-433d-93e7-da6c3f582e85",
     "showTitle": false,
     "title": ""
    }
   },
   "outputs": [
    {
     "output_type": "stream",
     "name": "stdout",
     "output_type": "stream",
     "text": [
      "ERROR: Could not find a version that satisfies the requirement spark-xml (from versions: none)\nERROR: No matching distribution found for spark-xml\nWARNING: You are using pip version 21.2.4; however, version 23.2.1 is available.\nYou should consider upgrading via the '/local_disk0/.ephemeral_nfs/envs/pythonEnv-425920c6-12d2-4716-bab5-ea8af7b78da3/bin/python -m pip install --upgrade pip' command.\n"
     ]
    }
   ],
   "source": [
    "%sh\n",
    "pip install spark-xml"
   ]
  },
  {
   "cell_type": "markdown",
   "metadata": {
    "application/vnd.databricks.v1+cell": {
     "cellMetadata": {},
     "inputWidgets": {},
     "nuid": "052113b6-1c3b-43f4-8fa7-f389a0531535",
     "showTitle": false,
     "title": ""
    }
   },
   "source": [
    "# Connection to blob"
   ]
  },
  {
   "cell_type": "code",
   "execution_count": 0,
   "metadata": {
    "application/vnd.databricks.v1+cell": {
     "cellMetadata": {
      "byteLimit": 2048000,
      "rowLimit": 10000
     },
     "inputWidgets": {},
     "nuid": "413a1989-28e5-49fd-8d7d-25a772cd4bf2",
     "showTitle": false,
     "title": ""
    }
   },
   "outputs": [
    {
     "output_type": "stream",
     "name": "stdout",
     "output_type": "stream",
     "text": [
      "Mount point '/mnt/ingrid-sollim/' is already mounted.\n"
     ]
    }
   ],
   "source": [
    "storageAccount = \"datalakefabdeprojetos\"\n",
    "containerName = \"ingrid-sollim\"\n",
    "mountpoint = \"/mnt/ingrid-sollim/\"\n",
    "storageEndpoint = f\"wasbs://{containerName}@{storageAccount}.blob.core.windows.net\" \n",
    "storageKey = dbutils.secrets.get(scope=\"Kv-fab-de-proj-dev\",key=\"kv-ingrid-sollim\")\n",
    "storageConn = f\"fs.azure.account.key.{storageAccount}.blob.core.windows.net\"\n",
    "try:\n",
    "    if not any(mount.mountPoint==mountpoint for mount in dbutils.fs.mounts()):\n",
    "        dbutils.fs.mount(\n",
    "        source = storageEndpoint,\n",
    "        mount_point = mountpoint,\n",
    "        extra_configs = {storageConn:storageKey}\n",
    "    )\n",
    "        print(f\"{mountpoint} has been mounted\")\n",
    "    else:\n",
    "        print(f\"Mount point '{mountpoint}' is already mounted.\")\n",
    "except Exception as e:\n",
    "    raise e  # Re-raise the exception if mounting fails\n"
   ]
  },
  {
   "cell_type": "code",
   "execution_count": 0,
   "metadata": {
    "application/vnd.databricks.v1+cell": {
     "cellMetadata": {
      "byteLimit": 2048000,
      "rowLimit": 10000
     },
     "inputWidgets": {},
     "nuid": "2614625f-8c72-4645-a634-d36f6368161d",
     "showTitle": false,
     "title": ""
    }
   },
   "outputs": [
    {
     "output_type": "display_data",
     "data": {
      "text/html": [
       "<style scoped>\n",
       "  .table-result-container {\n",
       "    max-height: 300px;\n",
       "    overflow: auto;\n",
       "  }\n",
       "  table, th, td {\n",
       "    border: 1px solid black;\n",
       "    border-collapse: collapse;\n",
       "  }\n",
       "  th, td {\n",
       "    padding: 5px;\n",
       "  }\n",
       "  th {\n",
       "    text-align: left;\n",
       "  }\n",
       "</style><div class='table-result-container'><table class='table-result'><thead style='background-color: white'><tr><th>path</th><th>name</th><th>size</th><th>modificationTime</th></tr></thead><tbody><tr><td>dbfs:/mnt/ingrid-sollim/bikes/customer.csv</td><td>customer.csv</td><td>1813963</td><td>1694474860000</td></tr><tr><td>dbfs:/mnt/ingrid-sollim/bikes/person.csv</td><td>person.csv</td><td>13646947</td><td>1694474860000</td></tr><tr><td>dbfs:/mnt/ingrid-sollim/bikes/product.csv</td><td>product.csv</td><td>104823</td><td>1694474860000</td></tr><tr><td>dbfs:/mnt/ingrid-sollim/bikes/salesorderdetail.csv</td><td>salesorderdetail.csv</td><td>13801182</td><td>1694474860000</td></tr><tr><td>dbfs:/mnt/ingrid-sollim/bikes/salesorderheader.csv</td><td>salesorderheader.csv</td><td>8267704</td><td>1694474862000</td></tr><tr><td>dbfs:/mnt/ingrid-sollim/bikes/spoffer.csv</td><td>spoffer.csv</td><td>36680</td><td>1694474860000</td></tr></tbody></table></div>"
      ]
     },
     "metadata": {
      "application/vnd.databricks.v1+output": {
       "addedWidgets": {},
       "aggData": [],
       "aggError": "",
       "aggOverflow": false,
       "aggSchema": [],
       "aggSeriesLimitReached": false,
       "aggType": "",
       "arguments": {},
       "columnCustomDisplayInfos": {},
       "data": [
        [
         "dbfs:/mnt/ingrid-sollim/bikes/customer.csv",
         "customer.csv",
         1813963,
         1694474860000
        ],
        [
         "dbfs:/mnt/ingrid-sollim/bikes/person.csv",
         "person.csv",
         13646947,
         1694474860000
        ],
        [
         "dbfs:/mnt/ingrid-sollim/bikes/product.csv",
         "product.csv",
         104823,
         1694474860000
        ],
        [
         "dbfs:/mnt/ingrid-sollim/bikes/salesorderdetail.csv",
         "salesorderdetail.csv",
         13801182,
         1694474860000
        ],
        [
         "dbfs:/mnt/ingrid-sollim/bikes/salesorderheader.csv",
         "salesorderheader.csv",
         8267704,
         1694474862000
        ],
        [
         "dbfs:/mnt/ingrid-sollim/bikes/spoffer.csv",
         "spoffer.csv",
         36680,
         1694474860000
        ]
       ],
       "datasetInfos": [],
       "dbfsResultPath": null,
       "isJsonSchema": true,
       "metadata": {},
       "overflow": false,
       "plotOptions": {
        "customPlotOptions": {},
        "displayType": "table",
        "pivotAggregation": null,
        "pivotColumns": null,
        "xColumns": null,
        "yColumns": null
       },
       "removedWidgets": [],
       "schema": [
        {
         "metadata": "{}",
         "name": "path",
         "type": "\"string\""
        },
        {
         "metadata": "{}",
         "name": "name",
         "type": "\"string\""
        },
        {
         "metadata": "{}",
         "name": "size",
         "type": "\"long\""
        },
        {
         "metadata": "{}",
         "name": "modificationTime",
         "type": "\"long\""
        }
       ],
       "type": "table"
      }
     },
     "output_type": "display_data"
    }
   ],
   "source": [
    "path=mountpoint+\"bikes\"\n",
    "display(dbutils.fs.ls(path))"
   ]
  },
  {
   "cell_type": "code",
   "execution_count": 0,
   "metadata": {
    "application/vnd.databricks.v1+cell": {
     "cellMetadata": {
      "byteLimit": 2048000,
      "rowLimit": 10000
     },
     "inputWidgets": {},
     "nuid": "351ed6b9-443e-475a-8136-3c54a806d70b",
     "showTitle": false,
     "title": ""
    }
   },
   "outputs": [
    {
     "output_type": "display_data",
     "data": {
      "text/html": [
       "<style scoped>\n",
       "  .table-result-container {\n",
       "    max-height: 300px;\n",
       "    overflow: auto;\n",
       "  }\n",
       "  table, th, td {\n",
       "    border: 1px solid black;\n",
       "    border-collapse: collapse;\n",
       "  }\n",
       "  th, td {\n",
       "    padding: 5px;\n",
       "  }\n",
       "  th {\n",
       "    text-align: left;\n",
       "  }\n",
       "</style><div class='table-result-container'><table class='table-result'><thead style='background-color: white'><tr><th>SpecialOfferID</th><th>ProductID</th><th>rowguid</th><th>ModifiedDate</th></tr></thead><tbody><tr><td>1</td><td>680</td><td>BB30B868-D86C-4557-8DB2-4B2D0A83A0FB</td><td>2011-04-01 00:00:00.000</td></tr><tr><td>1</td><td>706</td><td>B3C9A4B1-2AE6-4CBA-B552-1F206C9F4C1F</td><td>2011-04-01 00:00:00.000</td></tr><tr><td>1</td><td>707</td><td>27B711FE-0B77-4EA4-AD1A-7C239956BEF4</td><td>2011-04-01 00:00:00.000</td></tr><tr><td>1</td><td>708</td><td>46CBB78B-246E-4D69-9BD6-E521277C1078</td><td>2011-04-01 00:00:00.000</td></tr><tr><td>1</td><td>709</td><td>CF102AA0-055F-4D2B-8B98-04B161758EA8</td><td>2011-04-01 00:00:00.000</td></tr><tr><td>1</td><td>710</td><td>63718DA1-464B-4325-9514-CDEE46CB124F</td><td>2011-04-01 00:00:00.000</td></tr><tr><td>1</td><td>711</td><td>457EB971-D1C9-48CA-B947-AE7E1B114377</td><td>2011-04-01 00:00:00.000</td></tr><tr><td>1</td><td>712</td><td>5B948448-BAE5-4F2A-A1F3-8203E892FD24</td><td>2011-04-01 00:00:00.000</td></tr><tr><td>1</td><td>713</td><td>07768F40-6E46-430F-AC1A-FF6A3629729C</td><td>2011-04-01 00:00:00.000</td></tr><tr><td>1</td><td>714</td><td>85004BCE-C74A-4D4E-8D17-3157991A1400</td><td>2011-04-01 00:00:00.000</td></tr></tbody></table></div>"
      ]
     },
     "metadata": {
      "application/vnd.databricks.v1+output": {
       "addedWidgets": {},
       "aggData": [],
       "aggError": "",
       "aggOverflow": false,
       "aggSchema": [],
       "aggSeriesLimitReached": false,
       "aggType": "",
       "arguments": {},
       "columnCustomDisplayInfos": {},
       "data": [
        [
         "1",
         "680",
         "BB30B868-D86C-4557-8DB2-4B2D0A83A0FB",
         "2011-04-01 00:00:00.000"
        ],
        [
         "1",
         "706",
         "B3C9A4B1-2AE6-4CBA-B552-1F206C9F4C1F",
         "2011-04-01 00:00:00.000"
        ],
        [
         "1",
         "707",
         "27B711FE-0B77-4EA4-AD1A-7C239956BEF4",
         "2011-04-01 00:00:00.000"
        ],
        [
         "1",
         "708",
         "46CBB78B-246E-4D69-9BD6-E521277C1078",
         "2011-04-01 00:00:00.000"
        ],
        [
         "1",
         "709",
         "CF102AA0-055F-4D2B-8B98-04B161758EA8",
         "2011-04-01 00:00:00.000"
        ],
        [
         "1",
         "710",
         "63718DA1-464B-4325-9514-CDEE46CB124F",
         "2011-04-01 00:00:00.000"
        ],
        [
         "1",
         "711",
         "457EB971-D1C9-48CA-B947-AE7E1B114377",
         "2011-04-01 00:00:00.000"
        ],
        [
         "1",
         "712",
         "5B948448-BAE5-4F2A-A1F3-8203E892FD24",
         "2011-04-01 00:00:00.000"
        ],
        [
         "1",
         "713",
         "07768F40-6E46-430F-AC1A-FF6A3629729C",
         "2011-04-01 00:00:00.000"
        ],
        [
         "1",
         "714",
         "85004BCE-C74A-4D4E-8D17-3157991A1400",
         "2011-04-01 00:00:00.000"
        ]
       ],
       "datasetInfos": [],
       "dbfsResultPath": null,
       "isJsonSchema": true,
       "metadata": {},
       "overflow": false,
       "plotOptions": {
        "customPlotOptions": {},
        "displayType": "table",
        "pivotAggregation": null,
        "pivotColumns": null,
        "xColumns": null,
        "yColumns": null
       },
       "removedWidgets": [],
       "schema": [
        {
         "metadata": "{}",
         "name": "SpecialOfferID",
         "type": "\"string\""
        },
        {
         "metadata": "{}",
         "name": "ProductID",
         "type": "\"string\""
        },
        {
         "metadata": "{}",
         "name": "rowguid",
         "type": "\"string\""
        },
        {
         "metadata": "{}",
         "name": "ModifiedDate",
         "type": "\"string\""
        }
       ],
       "type": "table"
      }
     },
     "output_type": "display_data"
    }
   ],
   "source": [
    "df = spark.read.option(\"header\",True).options(delimiter=\";\").csv(path+\"/spoffer.csv\")\n",
    "display(df.limit(10))"
   ]
  },
  {
   "cell_type": "code",
   "execution_count": 0,
   "metadata": {
    "application/vnd.databricks.v1+cell": {
     "cellMetadata": {
      "byteLimit": 2048000,
      "rowLimit": 10000
     },
     "inputWidgets": {},
     "nuid": "c8f45fb1-dbf7-49b2-8312-42d2a8ce68f1",
     "showTitle": false,
     "title": ""
    }
   },
   "outputs": [
    {
     "output_type": "stream",
     "name": "stdout",
     "output_type": "stream",
     "text": [
      "root\n |-- SpecialOfferID: string (nullable = true)\n |-- ProductID: string (nullable = true)\n |-- rowguid: string (nullable = true)\n |-- ModifiedDate: string (nullable = true)\n\n"
     ]
    }
   ],
   "source": [
    "df.printSchema()"
   ]
  },
  {
   "cell_type": "code",
   "execution_count": 0,
   "metadata": {
    "application/vnd.databricks.v1+cell": {
     "cellMetadata": {
      "byteLimit": 2048000,
      "rowLimit": 10000
     },
     "inputWidgets": {},
     "nuid": "e7e991cc-a7a9-4586-adb4-10a97f27bb0b",
     "showTitle": false,
     "title": ""
    }
   },
   "outputs": [
    {
     "output_type": "display_data",
     "data": {
      "text/html": [
       "<style scoped>\n",
       "  .table-result-container {\n",
       "    max-height: 300px;\n",
       "    overflow: auto;\n",
       "  }\n",
       "  table, th, td {\n",
       "    border: 1px solid black;\n",
       "    border-collapse: collapse;\n",
       "  }\n",
       "  th, td {\n",
       "    padding: 5px;\n",
       "  }\n",
       "  th {\n",
       "    text-align: left;\n",
       "  }\n",
       "</style><div class='table-result-container'><table class='table-result'><thead style='background-color: white'><tr><th>ModifiedDate</th></tr></thead><tbody><tr><td>2011-04-01 00:00:00.000</td></tr><tr><td>2014-03-01 00:00:00.000</td></tr><tr><td>2012-04-30 00:00:00.000</td></tr><tr><td>2013-04-30 00:00:00.000</td></tr><tr><td>2012-03-14 00:00:00.000</td></tr><tr><td>2011-05-01 00:00:00.000</td></tr><tr><td>2013-06-14 00:00:00.000</td></tr><tr><td>2013-04-14 00:00:00.000</td></tr></tbody></table></div>"
      ]
     },
     "metadata": {
      "application/vnd.databricks.v1+output": {
       "addedWidgets": {},
       "aggData": [],
       "aggError": "",
       "aggOverflow": false,
       "aggSchema": [],
       "aggSeriesLimitReached": false,
       "aggType": "",
       "arguments": {},
       "columnCustomDisplayInfos": {},
       "data": [
        [
         "2011-04-01 00:00:00.000"
        ],
        [
         "2014-03-01 00:00:00.000"
        ],
        [
         "2012-04-30 00:00:00.000"
        ],
        [
         "2013-04-30 00:00:00.000"
        ],
        [
         "2012-03-14 00:00:00.000"
        ],
        [
         "2011-05-01 00:00:00.000"
        ],
        [
         "2013-06-14 00:00:00.000"
        ],
        [
         "2013-04-14 00:00:00.000"
        ]
       ],
       "datasetInfos": [],
       "dbfsResultPath": null,
       "isJsonSchema": true,
       "metadata": {},
       "overflow": false,
       "plotOptions": {
        "customPlotOptions": {},
        "displayType": "table",
        "pivotAggregation": null,
        "pivotColumns": null,
        "xColumns": null,
        "yColumns": null
       },
       "removedWidgets": [],
       "schema": [
        {
         "metadata": "{}",
         "name": "ModifiedDate",
         "type": "\"string\""
        }
       ],
       "type": "table"
      }
     },
     "output_type": "display_data"
    }
   ],
   "source": [
    "display(df.select(\"ModifiedDate\").distinct())"
   ]
  },
  {
   "cell_type": "code",
   "execution_count": 0,
   "metadata": {
    "application/vnd.databricks.v1+cell": {
     "cellMetadata": {
      "byteLimit": 2048000,
      "rowLimit": 10000
     },
     "inputWidgets": {},
     "nuid": "2397217a-f1c8-469f-90a6-ffa8e7bfac5a",
     "showTitle": false,
     "title": ""
    }
   },
   "outputs": [],
   "source": [
    "from pyspark.sql.functions import expr, col, regexp_replace,regexp_extract,when, to_date,to_timestamp"
   ]
  },
  {
   "cell_type": "markdown",
   "metadata": {
    "application/vnd.databricks.v1+cell": {
     "cellMetadata": {},
     "inputWidgets": {},
     "nuid": "b9a30356-0ae8-41b7-9c16-959fb6f6c73a",
     "showTitle": false,
     "title": ""
    }
   },
   "source": [
    "#Change Data types"
   ]
  },
  {
   "cell_type": "code",
   "execution_count": 0,
   "metadata": {
    "application/vnd.databricks.v1+cell": {
     "cellMetadata": {
      "byteLimit": 2048000,
      "rowLimit": 10000
     },
     "inputWidgets": {},
     "nuid": "bf33122f-9155-4907-9398-7604c03879ab",
     "showTitle": false,
     "title": ""
    }
   },
   "outputs": [
    {
     "output_type": "display_data",
     "data": {
      "text/html": [
       "<style scoped>\n",
       "  .table-result-container {\n",
       "    max-height: 300px;\n",
       "    overflow: auto;\n",
       "  }\n",
       "  table, th, td {\n",
       "    border: 1px solid black;\n",
       "    border-collapse: collapse;\n",
       "  }\n",
       "  th, td {\n",
       "    padding: 5px;\n",
       "  }\n",
       "  th {\n",
       "    text-align: left;\n",
       "  }\n",
       "</style><div class='table-result-container'><table class='table-result'><thead style='background-color: white'><tr><th>SpecialOfferID</th><th>ProductID</th><th>rowguid</th><th>ModifiedDate</th></tr></thead><tbody><tr><td>1</td><td>680</td><td>BB30B868-D86C-4557-8DB2-4B2D0A83A0FB</td><td>2011-04-01</td></tr><tr><td>1</td><td>706</td><td>B3C9A4B1-2AE6-4CBA-B552-1F206C9F4C1F</td><td>2011-04-01</td></tr><tr><td>1</td><td>707</td><td>27B711FE-0B77-4EA4-AD1A-7C239956BEF4</td><td>2011-04-01</td></tr><tr><td>1</td><td>708</td><td>46CBB78B-246E-4D69-9BD6-E521277C1078</td><td>2011-04-01</td></tr><tr><td>1</td><td>709</td><td>CF102AA0-055F-4D2B-8B98-04B161758EA8</td><td>2011-04-01</td></tr><tr><td>1</td><td>710</td><td>63718DA1-464B-4325-9514-CDEE46CB124F</td><td>2011-04-01</td></tr><tr><td>1</td><td>711</td><td>457EB971-D1C9-48CA-B947-AE7E1B114377</td><td>2011-04-01</td></tr><tr><td>1</td><td>712</td><td>5B948448-BAE5-4F2A-A1F3-8203E892FD24</td><td>2011-04-01</td></tr><tr><td>1</td><td>713</td><td>07768F40-6E46-430F-AC1A-FF6A3629729C</td><td>2011-04-01</td></tr><tr><td>1</td><td>714</td><td>85004BCE-C74A-4D4E-8D17-3157991A1400</td><td>2011-04-01</td></tr></tbody></table></div>"
      ]
     },
     "metadata": {
      "application/vnd.databricks.v1+output": {
       "addedWidgets": {},
       "aggData": [],
       "aggError": "",
       "aggOverflow": false,
       "aggSchema": [],
       "aggSeriesLimitReached": false,
       "aggType": "",
       "arguments": {},
       "columnCustomDisplayInfos": {},
       "data": [
        [
         1,
         680,
         "BB30B868-D86C-4557-8DB2-4B2D0A83A0FB",
         "2011-04-01"
        ],
        [
         1,
         706,
         "B3C9A4B1-2AE6-4CBA-B552-1F206C9F4C1F",
         "2011-04-01"
        ],
        [
         1,
         707,
         "27B711FE-0B77-4EA4-AD1A-7C239956BEF4",
         "2011-04-01"
        ],
        [
         1,
         708,
         "46CBB78B-246E-4D69-9BD6-E521277C1078",
         "2011-04-01"
        ],
        [
         1,
         709,
         "CF102AA0-055F-4D2B-8B98-04B161758EA8",
         "2011-04-01"
        ],
        [
         1,
         710,
         "63718DA1-464B-4325-9514-CDEE46CB124F",
         "2011-04-01"
        ],
        [
         1,
         711,
         "457EB971-D1C9-48CA-B947-AE7E1B114377",
         "2011-04-01"
        ],
        [
         1,
         712,
         "5B948448-BAE5-4F2A-A1F3-8203E892FD24",
         "2011-04-01"
        ],
        [
         1,
         713,
         "07768F40-6E46-430F-AC1A-FF6A3629729C",
         "2011-04-01"
        ],
        [
         1,
         714,
         "85004BCE-C74A-4D4E-8D17-3157991A1400",
         "2011-04-01"
        ]
       ],
       "datasetInfos": [],
       "dbfsResultPath": null,
       "isJsonSchema": true,
       "metadata": {},
       "overflow": false,
       "plotOptions": {
        "customPlotOptions": {},
        "displayType": "table",
        "pivotAggregation": null,
        "pivotColumns": null,
        "xColumns": null,
        "yColumns": null
       },
       "removedWidgets": [],
       "schema": [
        {
         "metadata": "{}",
         "name": "SpecialOfferID",
         "type": "\"integer\""
        },
        {
         "metadata": "{}",
         "name": "ProductID",
         "type": "\"integer\""
        },
        {
         "metadata": "{}",
         "name": "rowguid",
         "type": "\"string\""
        },
        {
         "metadata": "{}",
         "name": "ModifiedDate",
         "type": "\"date\""
        }
       ],
       "type": "table"
      }
     },
     "output_type": "display_data"
    }
   ],
   "source": [
    "df_data = df.withColumn(\"SpecialOfferID\",col(\"SpecialOfferID\").cast(\"int\"))\\\n",
    ".withColumn(\"ProductID\",col(\"ProductID\").cast(\"int\"))\\\n",
    ".withColumn(\"ModifiedDate\",to_date(to_timestamp(col(\"ModifiedDate\"), \"yyyy-MM-dd HH:mm:ss.SSS\"),\"yyyy-MM-dd\"))\n",
    "\n",
    "display(df_data.limit(10))"
   ]
  },
  {
   "cell_type": "code",
   "execution_count": 0,
   "metadata": {
    "application/vnd.databricks.v1+cell": {
     "cellMetadata": {
      "byteLimit": 2048000,
      "rowLimit": 10000
     },
     "inputWidgets": {},
     "nuid": "75ab1eda-db4f-4c19-a3fe-5a186a471d9e",
     "showTitle": false,
     "title": ""
    }
   },
   "outputs": [
    {
     "output_type": "display_data",
     "data": {
      "text/html": [
       "<style scoped>\n",
       "  .table-result-container {\n",
       "    max-height: 300px;\n",
       "    overflow: auto;\n",
       "  }\n",
       "  table, th, td {\n",
       "    border: 1px solid black;\n",
       "    border-collapse: collapse;\n",
       "  }\n",
       "  th, td {\n",
       "    padding: 5px;\n",
       "  }\n",
       "  th {\n",
       "    text-align: left;\n",
       "  }\n",
       "</style><div class='table-result-container'><table class='table-result'><thead style='background-color: white'><tr><th>special_offer_id</th><th>product_id</th><th>rowguid</th><th>modified_date</th></tr></thead><tbody><tr><td>1</td><td>680</td><td>BB30B868-D86C-4557-8DB2-4B2D0A83A0FB</td><td>2011-04-01</td></tr><tr><td>1</td><td>706</td><td>B3C9A4B1-2AE6-4CBA-B552-1F206C9F4C1F</td><td>2011-04-01</td></tr><tr><td>1</td><td>707</td><td>27B711FE-0B77-4EA4-AD1A-7C239956BEF4</td><td>2011-04-01</td></tr><tr><td>1</td><td>708</td><td>46CBB78B-246E-4D69-9BD6-E521277C1078</td><td>2011-04-01</td></tr><tr><td>1</td><td>709</td><td>CF102AA0-055F-4D2B-8B98-04B161758EA8</td><td>2011-04-01</td></tr><tr><td>1</td><td>710</td><td>63718DA1-464B-4325-9514-CDEE46CB124F</td><td>2011-04-01</td></tr><tr><td>1</td><td>711</td><td>457EB971-D1C9-48CA-B947-AE7E1B114377</td><td>2011-04-01</td></tr><tr><td>1</td><td>712</td><td>5B948448-BAE5-4F2A-A1F3-8203E892FD24</td><td>2011-04-01</td></tr><tr><td>1</td><td>713</td><td>07768F40-6E46-430F-AC1A-FF6A3629729C</td><td>2011-04-01</td></tr><tr><td>1</td><td>714</td><td>85004BCE-C74A-4D4E-8D17-3157991A1400</td><td>2011-04-01</td></tr></tbody></table></div>"
      ]
     },
     "metadata": {
      "application/vnd.databricks.v1+output": {
       "addedWidgets": {},
       "aggData": [],
       "aggError": "",
       "aggOverflow": false,
       "aggSchema": [],
       "aggSeriesLimitReached": false,
       "aggType": "",
       "arguments": {},
       "columnCustomDisplayInfos": {},
       "data": [
        [
         1,
         680,
         "BB30B868-D86C-4557-8DB2-4B2D0A83A0FB",
         "2011-04-01"
        ],
        [
         1,
         706,
         "B3C9A4B1-2AE6-4CBA-B552-1F206C9F4C1F",
         "2011-04-01"
        ],
        [
         1,
         707,
         "27B711FE-0B77-4EA4-AD1A-7C239956BEF4",
         "2011-04-01"
        ],
        [
         1,
         708,
         "46CBB78B-246E-4D69-9BD6-E521277C1078",
         "2011-04-01"
        ],
        [
         1,
         709,
         "CF102AA0-055F-4D2B-8B98-04B161758EA8",
         "2011-04-01"
        ],
        [
         1,
         710,
         "63718DA1-464B-4325-9514-CDEE46CB124F",
         "2011-04-01"
        ],
        [
         1,
         711,
         "457EB971-D1C9-48CA-B947-AE7E1B114377",
         "2011-04-01"
        ],
        [
         1,
         712,
         "5B948448-BAE5-4F2A-A1F3-8203E892FD24",
         "2011-04-01"
        ],
        [
         1,
         713,
         "07768F40-6E46-430F-AC1A-FF6A3629729C",
         "2011-04-01"
        ],
        [
         1,
         714,
         "85004BCE-C74A-4D4E-8D17-3157991A1400",
         "2011-04-01"
        ]
       ],
       "datasetInfos": [],
       "dbfsResultPath": null,
       "isJsonSchema": true,
       "metadata": {},
       "overflow": false,
       "plotOptions": {
        "customPlotOptions": {},
        "displayType": "table",
        "pivotAggregation": null,
        "pivotColumns": null,
        "xColumns": null,
        "yColumns": null
       },
       "removedWidgets": [],
       "schema": [
        {
         "metadata": "{}",
         "name": "special_offer_id",
         "type": "\"integer\""
        },
        {
         "metadata": "{}",
         "name": "product_id",
         "type": "\"integer\""
        },
        {
         "metadata": "{}",
         "name": "rowguid",
         "type": "\"string\""
        },
        {
         "metadata": "{}",
         "name": "modified_date",
         "type": "\"date\""
        }
       ],
       "type": "table"
      }
     },
     "output_type": "display_data"
    }
   ],
   "source": [
    "column_mapping = {\n",
    "'SpecialOfferID':'special_offer_id',\n",
    " 'ProductID':'product_id',\n",
    " 'rowguid':'rowguid',\n",
    " 'ModifiedDate':'modified_date'\n",
    "}\n",
    "\n",
    "# Create a list of column expressions with aliases\n",
    "select_expr = [col(old_col).alias(new_col) for old_col, new_col in column_mapping.items()]\n",
    "\n",
    "# Apply the column renaming using select and alias\n",
    "special_offer = df_data.select(*select_expr)\n",
    "display(special_offer.limit(10))"
   ]
  },
  {
   "cell_type": "code",
   "execution_count": 0,
   "metadata": {
    "application/vnd.databricks.v1+cell": {
     "cellMetadata": {
      "byteLimit": 2048000,
      "rowLimit": 10000
     },
     "inputWidgets": {},
     "nuid": "eddce4c2-0136-4c44-a308-a97830d13c09",
     "showTitle": false,
     "title": ""
    }
   },
   "outputs": [
    {
     "output_type": "stream",
     "name": "stdout",
     "output_type": "stream",
     "text": [
      "root\n |-- special_offer_id: integer (nullable = true)\n |-- product_id: integer (nullable = true)\n |-- rowguid: string (nullable = true)\n |-- modified_date: date (nullable = true)\n\n"
     ]
    }
   ],
   "source": [
    "special_offer.printSchema()"
   ]
  },
  {
   "cell_type": "markdown",
   "metadata": {
    "application/vnd.databricks.v1+cell": {
     "cellMetadata": {},
     "inputWidgets": {},
     "nuid": "509d13d6-10cb-46dc-bc77-34defecb94a0",
     "showTitle": false,
     "title": ""
    }
   },
   "source": [
    "#Ingest the cleaned data to the database"
   ]
  },
  {
   "cell_type": "markdown",
   "metadata": {
    "application/vnd.databricks.v1+cell": {
     "cellMetadata": {},
     "inputWidgets": {},
     "nuid": "62690033-ca69-4c9a-a9f6-40ab7a131a83",
     "showTitle": false,
     "title": ""
    }
   },
   "source": [
    "### Connection to the database"
   ]
  },
  {
   "cell_type": "code",
   "execution_count": 0,
   "metadata": {
    "application/vnd.databricks.v1+cell": {
     "cellMetadata": {
      "byteLimit": 2048000,
      "rowLimit": 10000
     },
     "inputWidgets": {},
     "nuid": "391522a6-5743-4bb2-984d-a17d82a6097c",
     "showTitle": false,
     "title": ""
    }
   },
   "outputs": [],
   "source": [
    "# Get the secrets from the jdbc secret scope.\n",
    "username = dbutils.secrets.get(scope=\"Kv-fab-de-proj-dev\", key=\"kv-soll-dblogin\")\n",
    "password = dbutils.secrets.get(scope=\"Kv-fab-de-proj-dev\", key=\"kv-soll-dbpass\")\n",
    "\n",
    "jdbcHostname = \"srv-fab-projetos.database.windows.net\"\n",
    "jdbcPort = 1433\n",
    "jdbcDatabase = \"db-fab-projetos\"\n",
    "\n",
    "jdbcUrl = \"jdbc:sqlserver://{0}:{1};database={2}\".format(jdbcHostname, jdbcPort, jdbcDatabase)\n",
    "\n",
    "connectionProperties = {\n",
    "  \"user\" : username,\n",
    "  \"password\" : password,\n",
    "  \"driver\" : \"com.microsoft.sqlserver.jdbc.SQLServerDriver\"\n",
    "}\n",
    "\n",
    "table_name = 'sollim.special_offer'"
   ]
  },
  {
   "cell_type": "markdown",
   "metadata": {
    "application/vnd.databricks.v1+cell": {
     "cellMetadata": {},
     "inputWidgets": {},
     "nuid": "1d0e7708-5e52-4888-a665-8d34b1a105ae",
     "showTitle": false,
     "title": ""
    }
   },
   "source": [
    "### Insert into the database\n"
   ]
  },
  {
   "cell_type": "code",
   "execution_count": 0,
   "metadata": {
    "application/vnd.databricks.v1+cell": {
     "cellMetadata": {
      "byteLimit": 2048000,
      "rowLimit": 10000
     },
     "inputWidgets": {},
     "nuid": "12331808-505c-40ad-aeeb-e374dff62930",
     "showTitle": false,
     "title": ""
    }
   },
   "outputs": [],
   "source": [
    "special_offer.write \\\n",
    "  .format(\"jdbc\") \\\n",
    "  .option(\"url\", jdbcUrl) \\\n",
    "  .option(\"dbtable\", table_name) \\\n",
    "  .mode(\"overwrite\") \\\n",
    "  .options(**connectionProperties) \\\n",
    "  .save()"
   ]
  },
  {
   "cell_type": "code",
   "execution_count": 0,
   "metadata": {
    "application/vnd.databricks.v1+cell": {
     "cellMetadata": {
      "byteLimit": 2048000,
      "rowLimit": 10000
     },
     "inputWidgets": {},
     "nuid": "d61a9e0f-66ca-499a-a7ea-7d0794fb6f05",
     "showTitle": false,
     "title": ""
    }
   },
   "outputs": [
    {
     "output_type": "stream",
     "name": "stdout",
     "output_type": "stream",
     "text": [
      "/mnt/ingrid-sollim/ has been unmounted.\nOut[17]: True"
     ]
    }
   ],
   "source": [
    "dbutils.fs.unmount(mountpoint)"
   ]
  }
 ],
 "metadata": {
  "application/vnd.databricks.v1+notebook": {
   "dashboards": [],
   "language": "python",
   "notebookMetadata": {
    "mostRecentlyExecutedCommandWithImplicitDF": {
     "commandId": 3286741429713165,
     "dataframes": [
      "_sqldf"
     ]
    },
    "pythonIndentUnit": 4
   },
   "notebookName": "ROX_SalesSpecialOffer",
   "widgets": {}
  }
 },
 "nbformat": 4,
 "nbformat_minor": 0
}
