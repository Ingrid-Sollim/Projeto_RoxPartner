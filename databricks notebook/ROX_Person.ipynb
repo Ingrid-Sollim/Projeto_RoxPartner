{
 "cells": [
  {
   "cell_type": "code",
   "execution_count": 0,
   "metadata": {
    "application/vnd.databricks.v1+cell": {
     "cellMetadata": {
      "byteLimit": 2048000,
      "rowLimit": 10000
     },
     "inputWidgets": {},
     "nuid": "4fec3468-4450-432c-8d35-0fc80b0e2851",
     "showTitle": false,
     "title": ""
    }
   },
   "outputs": [],
   "source": [
    "import xml.etree.ElementTree as ET"
   ]
  },
  {
   "cell_type": "code",
   "execution_count": 0,
   "metadata": {
    "application/vnd.databricks.v1+cell": {
     "cellMetadata": {
      "byteLimit": 2048000,
      "rowLimit": 10000
     },
     "inputWidgets": {},
     "nuid": "efe667e8-2da3-433d-93e7-da6c3f582e85",
     "showTitle": false,
     "title": ""
    }
   },
   "outputs": [
    {
     "output_type": "stream",
     "name": "stdout",
     "output_type": "stream",
     "text": [
      "ERROR: Could not find a version that satisfies the requirement spark-xml (from versions: none)\nERROR: No matching distribution found for spark-xml\nWARNING: You are using pip version 21.2.4; however, version 23.2.1 is available.\nYou should consider upgrading via the '/local_disk0/.ephemeral_nfs/envs/pythonEnv-425920c6-12d2-4716-bab5-ea8af7b78da3/bin/python -m pip install --upgrade pip' command.\n"
     ]
    }
   ],
   "source": [
    "%sh\n",
    "pip install spark-xml"
   ]
  },
  {
   "cell_type": "markdown",
   "metadata": {
    "application/vnd.databricks.v1+cell": {
     "cellMetadata": {},
     "inputWidgets": {},
     "nuid": "052113b6-1c3b-43f4-8fa7-f389a0531535",
     "showTitle": false,
     "title": ""
    }
   },
   "source": [
    "# Connection to blob"
   ]
  },
  {
   "cell_type": "code",
   "execution_count": 0,
   "metadata": {
    "application/vnd.databricks.v1+cell": {
     "cellMetadata": {
      "byteLimit": 2048000,
      "rowLimit": 10000
     },
     "inputWidgets": {},
     "nuid": "413a1989-28e5-49fd-8d7d-25a772cd4bf2",
     "showTitle": false,
     "title": ""
    }
   },
   "outputs": [
    {
     "output_type": "stream",
     "name": "stdout",
     "output_type": "stream",
     "text": [
      "Mount point '/mnt/ingrid-sollim/' is already mounted.\n"
     ]
    }
   ],
   "source": [
    "storageAccount = \"datalakefabdeprojetos\"\n",
    "containerName = \"ingrid-sollim\"\n",
    "mountpoint = \"/mnt/ingrid-sollim/\"\n",
    "storageEndpoint = f\"wasbs://{containerName}@{storageAccount}.blob.core.windows.net\" \n",
    "storageKey = dbutils.secrets.get(scope=\"Kv-fab-de-proj-dev\",key=\"kv-ingrid-sollim\")\n",
    "storageConn = f\"fs.azure.account.key.{storageAccount}.blob.core.windows.net\"\n",
    "try:\n",
    "    if not any(mount.mountPoint==mountpoint for mount in dbutils.fs.mounts()):\n",
    "        dbutils.fs.mount(\n",
    "        source = storageEndpoint,\n",
    "        mount_point = mountpoint,\n",
    "        extra_configs = {storageConn:storageKey}\n",
    "    )\n",
    "        print(f\"{mountpoint} has been mounted\")\n",
    "    else:\n",
    "        print(f\"Mount point '{mountpoint}' is already mounted.\")\n",
    "except Exception as e:\n",
    "    raise e  # Re-raise the exception if mounting fails\n"
   ]
  },
  {
   "cell_type": "code",
   "execution_count": 0,
   "metadata": {
    "application/vnd.databricks.v1+cell": {
     "cellMetadata": {
      "byteLimit": 2048000,
      "rowLimit": 10000
     },
     "inputWidgets": {},
     "nuid": "2614625f-8c72-4645-a634-d36f6368161d",
     "showTitle": false,
     "title": ""
    }
   },
   "outputs": [
    {
     "output_type": "display_data",
     "data": {
      "text/html": [
       "<style scoped>\n",
       "  .table-result-container {\n",
       "    max-height: 300px;\n",
       "    overflow: auto;\n",
       "  }\n",
       "  table, th, td {\n",
       "    border: 1px solid black;\n",
       "    border-collapse: collapse;\n",
       "  }\n",
       "  th, td {\n",
       "    padding: 5px;\n",
       "  }\n",
       "  th {\n",
       "    text-align: left;\n",
       "  }\n",
       "</style><div class='table-result-container'><table class='table-result'><thead style='background-color: white'><tr><th>path</th><th>name</th><th>size</th><th>modificationTime</th></tr></thead><tbody><tr><td>dbfs:/mnt/ingrid-sollim/bikes/customer.csv</td><td>customer.csv</td><td>1813963</td><td>1694474860000</td></tr><tr><td>dbfs:/mnt/ingrid-sollim/bikes/person.csv</td><td>person.csv</td><td>13646947</td><td>1694474860000</td></tr><tr><td>dbfs:/mnt/ingrid-sollim/bikes/product.csv</td><td>product.csv</td><td>104823</td><td>1694474860000</td></tr><tr><td>dbfs:/mnt/ingrid-sollim/bikes/salesorderdetail.csv</td><td>salesorderdetail.csv</td><td>13801182</td><td>1694474860000</td></tr><tr><td>dbfs:/mnt/ingrid-sollim/bikes/salesorderheader.csv</td><td>salesorderheader.csv</td><td>8267704</td><td>1694474862000</td></tr><tr><td>dbfs:/mnt/ingrid-sollim/bikes/spoffer.csv</td><td>spoffer.csv</td><td>36680</td><td>1694474860000</td></tr></tbody></table></div>"
      ]
     },
     "metadata": {
      "application/vnd.databricks.v1+output": {
       "addedWidgets": {},
       "aggData": [],
       "aggError": "",
       "aggOverflow": false,
       "aggSchema": [],
       "aggSeriesLimitReached": false,
       "aggType": "",
       "arguments": {},
       "columnCustomDisplayInfos": {},
       "data": [
        [
         "dbfs:/mnt/ingrid-sollim/bikes/customer.csv",
         "customer.csv",
         1813963,
         1694474860000
        ],
        [
         "dbfs:/mnt/ingrid-sollim/bikes/person.csv",
         "person.csv",
         13646947,
         1694474860000
        ],
        [
         "dbfs:/mnt/ingrid-sollim/bikes/product.csv",
         "product.csv",
         104823,
         1694474860000
        ],
        [
         "dbfs:/mnt/ingrid-sollim/bikes/salesorderdetail.csv",
         "salesorderdetail.csv",
         13801182,
         1694474860000
        ],
        [
         "dbfs:/mnt/ingrid-sollim/bikes/salesorderheader.csv",
         "salesorderheader.csv",
         8267704,
         1694474862000
        ],
        [
         "dbfs:/mnt/ingrid-sollim/bikes/spoffer.csv",
         "spoffer.csv",
         36680,
         1694474860000
        ]
       ],
       "datasetInfos": [],
       "dbfsResultPath": null,
       "isJsonSchema": true,
       "metadata": {},
       "overflow": false,
       "plotOptions": {
        "customPlotOptions": {},
        "displayType": "table",
        "pivotAggregation": null,
        "pivotColumns": null,
        "xColumns": null,
        "yColumns": null
       },
       "removedWidgets": [],
       "schema": [
        {
         "metadata": "{}",
         "name": "path",
         "type": "\"string\""
        },
        {
         "metadata": "{}",
         "name": "name",
         "type": "\"string\""
        },
        {
         "metadata": "{}",
         "name": "size",
         "type": "\"long\""
        },
        {
         "metadata": "{}",
         "name": "modificationTime",
         "type": "\"long\""
        }
       ],
       "type": "table"
      }
     },
     "output_type": "display_data"
    }
   ],
   "source": [
    "path=mountpoint+\"bikes\"\n",
    "display(dbutils.fs.ls(path))"
   ]
  },
  {
   "cell_type": "code",
   "execution_count": 0,
   "metadata": {
    "application/vnd.databricks.v1+cell": {
     "cellMetadata": {
      "byteLimit": 2048000,
      "rowLimit": 10000
     },
     "inputWidgets": {},
     "nuid": "351ed6b9-443e-475a-8136-3c54a806d70b",
     "showTitle": false,
     "title": ""
    }
   },
   "outputs": [
    {
     "output_type": "display_data",
     "data": {
      "text/html": [
       "<style scoped>\n",
       "  .table-result-container {\n",
       "    max-height: 300px;\n",
       "    overflow: auto;\n",
       "  }\n",
       "  table, th, td {\n",
       "    border: 1px solid black;\n",
       "    border-collapse: collapse;\n",
       "  }\n",
       "  th, td {\n",
       "    padding: 5px;\n",
       "  }\n",
       "  th {\n",
       "    text-align: left;\n",
       "  }\n",
       "</style><div class='table-result-container'><table class='table-result'><thead style='background-color: white'><tr><th>BusinessEntityID</th><th>PersonType</th><th>NameStyle</th><th>Title</th><th>FirstName</th><th>MiddleName</th><th>LastName</th><th>Suffix</th><th>EmailPromotion</th><th>AdditionalContactInfo</th><th>Demographics</th><th>rowguid</th><th>ModifiedDate</th></tr></thead><tbody><tr><td>1</td><td>EM</td><td>0</td><td>NULL</td><td>Ken</td><td>J</td><td>Sánchez</td><td>NULL</td><td>0</td><td>NULL</td><td>\"<IndividualSurvey xmlns=\"\"http://schemas.microsoft.com/sqlserver/2004/07/adventure-works/IndividualSurvey\"\"><TotalPurchaseYTD>0</TotalPurchaseYTD></IndividualSurvey>\"</td><td>92C4279F-1207-48A3-8448-4636514EB7E2</td><td>2009-01-07 00:00:00.000</td></tr><tr><td>2</td><td>EM</td><td>0</td><td>NULL</td><td>Terri</td><td>Lee</td><td>Duffy</td><td>NULL</td><td>1</td><td>NULL</td><td>\"<IndividualSurvey xmlns=\"\"http://schemas.microsoft.com/sqlserver/2004/07/adventure-works/IndividualSurvey\"\"><TotalPurchaseYTD>0</TotalPurchaseYTD></IndividualSurvey>\"</td><td>D8763459-8AA8-47CC-AFF7-C9079AF79033</td><td>2008-01-24 00:00:00.000</td></tr><tr><td>3</td><td>EM</td><td>0</td><td>NULL</td><td>Roberto</td><td>NULL</td><td>Tamburello</td><td>NULL</td><td>0</td><td>NULL</td><td>\"<IndividualSurvey xmlns=\"\"http://schemas.microsoft.com/sqlserver/2004/07/adventure-works/IndividualSurvey\"\"><TotalPurchaseYTD>0</TotalPurchaseYTD></IndividualSurvey>\"</td><td>E1A2555E-0828-434B-A33B-6F38136A37DE</td><td>2007-11-04 00:00:00.000</td></tr><tr><td>4</td><td>EM</td><td>0</td><td>NULL</td><td>Rob</td><td>NULL</td><td>Walters</td><td>NULL</td><td>0</td><td>NULL</td><td>\"<IndividualSurvey xmlns=\"\"http://schemas.microsoft.com/sqlserver/2004/07/adventure-works/IndividualSurvey\"\"><TotalPurchaseYTD>0</TotalPurchaseYTD></IndividualSurvey>\"</td><td>F2D7CE06-38B3-4357-805B-F4B6B71C01FF</td><td>2007-11-28 00:00:00.000</td></tr><tr><td>5</td><td>EM</td><td>0</td><td>Ms.</td><td>Gail</td><td>A</td><td>Erickson</td><td>NULL</td><td>0</td><td>NULL</td><td>\"<IndividualSurvey xmlns=\"\"http://schemas.microsoft.com/sqlserver/2004/07/adventure-works/IndividualSurvey\"\"><TotalPurchaseYTD>0</TotalPurchaseYTD></IndividualSurvey>\"</td><td>F3A3F6B4-AE3B-430C-A754-9F2231BA6FEF</td><td>2007-12-30 00:00:00.000</td></tr><tr><td>6</td><td>EM</td><td>0</td><td>Mr.</td><td>Jossef</td><td>H</td><td>Goldberg</td><td>NULL</td><td>0</td><td>NULL</td><td>\"<IndividualSurvey xmlns=\"\"http://schemas.microsoft.com/sqlserver/2004/07/adventure-works/IndividualSurvey\"\"><TotalPurchaseYTD>0</TotalPurchaseYTD></IndividualSurvey>\"</td><td>0DEA28FD-EFFE-482A-AFD3-B7E8F199D56F</td><td>2013-12-16 00:00:00.000</td></tr><tr><td>7</td><td>EM</td><td>0</td><td>NULL</td><td>Dylan</td><td>A</td><td>Miller</td><td>NULL</td><td>2</td><td>NULL</td><td>\"<IndividualSurvey xmlns=\"\"http://schemas.microsoft.com/sqlserver/2004/07/adventure-works/IndividualSurvey\"\"><TotalPurchaseYTD>0</TotalPurchaseYTD></IndividualSurvey>\"</td><td>C45E8AB8-01BE-4B76-B215-820C8368181A</td><td>2009-02-01 00:00:00.000</td></tr><tr><td>8</td><td>EM</td><td>0</td><td>NULL</td><td>Diane</td><td>L</td><td>Margheim</td><td>NULL</td><td>0</td><td>NULL</td><td>\"<IndividualSurvey xmlns=\"\"http://schemas.microsoft.com/sqlserver/2004/07/adventure-works/IndividualSurvey\"\"><TotalPurchaseYTD>0</TotalPurchaseYTD></IndividualSurvey>\"</td><td>A948E590-4A56-45A9-BC9A-160A1CC9D990</td><td>2008-12-22 00:00:00.000</td></tr><tr><td>9</td><td>EM</td><td>0</td><td>NULL</td><td>Gigi</td><td>N</td><td>Matthew</td><td>NULL</td><td>0</td><td>NULL</td><td>\"<IndividualSurvey xmlns=\"\"http://schemas.microsoft.com/sqlserver/2004/07/adventure-works/IndividualSurvey\"\"><TotalPurchaseYTD>0</TotalPurchaseYTD></IndividualSurvey>\"</td><td>5FC28C0E-6D36-4252-9846-05CAA0B1F6C5</td><td>2009-01-09 00:00:00.000</td></tr><tr><td>10</td><td>EM</td><td>0</td><td>NULL</td><td>Michael</td><td>NULL</td><td>Raheem</td><td>NULL</td><td>2</td><td>NULL</td><td>\"<IndividualSurvey xmlns=\"\"http://schemas.microsoft.com/sqlserver/2004/07/adventure-works/IndividualSurvey\"\"><TotalPurchaseYTD>0</TotalPurchaseYTD></IndividualSurvey>\"</td><td>CA2C740E-75B2-420C-9D4B-E3CBC6609604</td><td>2009-04-26 00:00:00.000</td></tr></tbody></table></div>"
      ]
     },
     "metadata": {
      "application/vnd.databricks.v1+output": {
       "addedWidgets": {},
       "aggData": [],
       "aggError": "",
       "aggOverflow": false,
       "aggSchema": [],
       "aggSeriesLimitReached": false,
       "aggType": "",
       "arguments": {},
       "columnCustomDisplayInfos": {},
       "data": [
        [
         "1",
         "EM",
         "0",
         "NULL",
         "Ken",
         "J",
         "Sánchez",
         "NULL",
         "0",
         "NULL",
         "\"<IndividualSurvey xmlns=\"\"http://schemas.microsoft.com/sqlserver/2004/07/adventure-works/IndividualSurvey\"\"><TotalPurchaseYTD>0</TotalPurchaseYTD></IndividualSurvey>\"",
         "92C4279F-1207-48A3-8448-4636514EB7E2",
         "2009-01-07 00:00:00.000"
        ],
        [
         "2",
         "EM",
         "0",
         "NULL",
         "Terri",
         "Lee",
         "Duffy",
         "NULL",
         "1",
         "NULL",
         "\"<IndividualSurvey xmlns=\"\"http://schemas.microsoft.com/sqlserver/2004/07/adventure-works/IndividualSurvey\"\"><TotalPurchaseYTD>0</TotalPurchaseYTD></IndividualSurvey>\"",
         "D8763459-8AA8-47CC-AFF7-C9079AF79033",
         "2008-01-24 00:00:00.000"
        ],
        [
         "3",
         "EM",
         "0",
         "NULL",
         "Roberto",
         "NULL",
         "Tamburello",
         "NULL",
         "0",
         "NULL",
         "\"<IndividualSurvey xmlns=\"\"http://schemas.microsoft.com/sqlserver/2004/07/adventure-works/IndividualSurvey\"\"><TotalPurchaseYTD>0</TotalPurchaseYTD></IndividualSurvey>\"",
         "E1A2555E-0828-434B-A33B-6F38136A37DE",
         "2007-11-04 00:00:00.000"
        ],
        [
         "4",
         "EM",
         "0",
         "NULL",
         "Rob",
         "NULL",
         "Walters",
         "NULL",
         "0",
         "NULL",
         "\"<IndividualSurvey xmlns=\"\"http://schemas.microsoft.com/sqlserver/2004/07/adventure-works/IndividualSurvey\"\"><TotalPurchaseYTD>0</TotalPurchaseYTD></IndividualSurvey>\"",
         "F2D7CE06-38B3-4357-805B-F4B6B71C01FF",
         "2007-11-28 00:00:00.000"
        ],
        [
         "5",
         "EM",
         "0",
         "Ms.",
         "Gail",
         "A",
         "Erickson",
         "NULL",
         "0",
         "NULL",
         "\"<IndividualSurvey xmlns=\"\"http://schemas.microsoft.com/sqlserver/2004/07/adventure-works/IndividualSurvey\"\"><TotalPurchaseYTD>0</TotalPurchaseYTD></IndividualSurvey>\"",
         "F3A3F6B4-AE3B-430C-A754-9F2231BA6FEF",
         "2007-12-30 00:00:00.000"
        ],
        [
         "6",
         "EM",
         "0",
         "Mr.",
         "Jossef",
         "H",
         "Goldberg",
         "NULL",
         "0",
         "NULL",
         "\"<IndividualSurvey xmlns=\"\"http://schemas.microsoft.com/sqlserver/2004/07/adventure-works/IndividualSurvey\"\"><TotalPurchaseYTD>0</TotalPurchaseYTD></IndividualSurvey>\"",
         "0DEA28FD-EFFE-482A-AFD3-B7E8F199D56F",
         "2013-12-16 00:00:00.000"
        ],
        [
         "7",
         "EM",
         "0",
         "NULL",
         "Dylan",
         "A",
         "Miller",
         "NULL",
         "2",
         "NULL",
         "\"<IndividualSurvey xmlns=\"\"http://schemas.microsoft.com/sqlserver/2004/07/adventure-works/IndividualSurvey\"\"><TotalPurchaseYTD>0</TotalPurchaseYTD></IndividualSurvey>\"",
         "C45E8AB8-01BE-4B76-B215-820C8368181A",
         "2009-02-01 00:00:00.000"
        ],
        [
         "8",
         "EM",
         "0",
         "NULL",
         "Diane",
         "L",
         "Margheim",
         "NULL",
         "0",
         "NULL",
         "\"<IndividualSurvey xmlns=\"\"http://schemas.microsoft.com/sqlserver/2004/07/adventure-works/IndividualSurvey\"\"><TotalPurchaseYTD>0</TotalPurchaseYTD></IndividualSurvey>\"",
         "A948E590-4A56-45A9-BC9A-160A1CC9D990",
         "2008-12-22 00:00:00.000"
        ],
        [
         "9",
         "EM",
         "0",
         "NULL",
         "Gigi",
         "N",
         "Matthew",
         "NULL",
         "0",
         "NULL",
         "\"<IndividualSurvey xmlns=\"\"http://schemas.microsoft.com/sqlserver/2004/07/adventure-works/IndividualSurvey\"\"><TotalPurchaseYTD>0</TotalPurchaseYTD></IndividualSurvey>\"",
         "5FC28C0E-6D36-4252-9846-05CAA0B1F6C5",
         "2009-01-09 00:00:00.000"
        ],
        [
         "10",
         "EM",
         "0",
         "NULL",
         "Michael",
         "NULL",
         "Raheem",
         "NULL",
         "2",
         "NULL",
         "\"<IndividualSurvey xmlns=\"\"http://schemas.microsoft.com/sqlserver/2004/07/adventure-works/IndividualSurvey\"\"><TotalPurchaseYTD>0</TotalPurchaseYTD></IndividualSurvey>\"",
         "CA2C740E-75B2-420C-9D4B-E3CBC6609604",
         "2009-04-26 00:00:00.000"
        ]
       ],
       "datasetInfos": [],
       "dbfsResultPath": null,
       "isJsonSchema": true,
       "metadata": {},
       "overflow": false,
       "plotOptions": {
        "customPlotOptions": {},
        "displayType": "table",
        "pivotAggregation": null,
        "pivotColumns": null,
        "xColumns": null,
        "yColumns": null
       },
       "removedWidgets": [],
       "schema": [
        {
         "metadata": "{}",
         "name": "BusinessEntityID",
         "type": "\"string\""
        },
        {
         "metadata": "{}",
         "name": "PersonType",
         "type": "\"string\""
        },
        {
         "metadata": "{}",
         "name": "NameStyle",
         "type": "\"string\""
        },
        {
         "metadata": "{}",
         "name": "Title",
         "type": "\"string\""
        },
        {
         "metadata": "{}",
         "name": "FirstName",
         "type": "\"string\""
        },
        {
         "metadata": "{}",
         "name": "MiddleName",
         "type": "\"string\""
        },
        {
         "metadata": "{}",
         "name": "LastName",
         "type": "\"string\""
        },
        {
         "metadata": "{}",
         "name": "Suffix",
         "type": "\"string\""
        },
        {
         "metadata": "{}",
         "name": "EmailPromotion",
         "type": "\"string\""
        },
        {
         "metadata": "{}",
         "name": "AdditionalContactInfo",
         "type": "\"string\""
        },
        {
         "metadata": "{}",
         "name": "Demographics",
         "type": "\"string\""
        },
        {
         "metadata": "{}",
         "name": "rowguid",
         "type": "\"string\""
        },
        {
         "metadata": "{}",
         "name": "ModifiedDate",
         "type": "\"string\""
        }
       ],
       "type": "table"
      }
     },
     "output_type": "display_data"
    }
   ],
   "source": [
    "df = spark.read.option(\"header\",True).options(delimiter=\";\").csv(path+\"/person.csv\")\n",
    "display(df.limit(10))"
   ]
  },
  {
   "cell_type": "code",
   "execution_count": 0,
   "metadata": {
    "application/vnd.databricks.v1+cell": {
     "cellMetadata": {
      "byteLimit": 2048000,
      "rowLimit": 10000
     },
     "inputWidgets": {},
     "nuid": "2397217a-f1c8-469f-90a6-ffa8e7bfac5a",
     "showTitle": false,
     "title": ""
    }
   },
   "outputs": [],
   "source": [
    "from pyspark.sql.functions import expr, col, regexp_replace,regexp_extract,when"
   ]
  },
  {
   "cell_type": "markdown",
   "metadata": {
    "application/vnd.databricks.v1+cell": {
     "cellMetadata": {},
     "inputWidgets": {},
     "nuid": "f8e6004e-848a-4d63-9fdc-1c65163189fb",
     "showTitle": false,
     "title": ""
    }
   },
   "source": [
    "#Check for missing data"
   ]
  },
  {
   "cell_type": "code",
   "execution_count": 0,
   "metadata": {
    "application/vnd.databricks.v1+cell": {
     "cellMetadata": {
      "byteLimit": 2048000,
      "rowLimit": 10000
     },
     "inputWidgets": {},
     "nuid": "9b633f4e-0816-4979-a959-e7e7bdb371e9",
     "showTitle": false,
     "title": ""
    }
   },
   "outputs": [
    {
     "output_type": "display_data",
     "data": {
      "text/html": [
       "<style scoped>\n",
       "  .table-result-container {\n",
       "    max-height: 300px;\n",
       "    overflow: auto;\n",
       "  }\n",
       "  table, th, td {\n",
       "    border: 1px solid black;\n",
       "    border-collapse: collapse;\n",
       "  }\n",
       "  th, td {\n",
       "    padding: 5px;\n",
       "  }\n",
       "  th {\n",
       "    text-align: left;\n",
       "  }\n",
       "</style><div class='table-result-container'><table class='table-result'><thead style='background-color: white'><tr><th>BusinessEntityID</th><th>PersonType</th><th>NameStyle</th><th>Title</th><th>FirstName</th><th>MiddleName</th><th>LastName</th><th>Suffix</th><th>EmailPromotion</th><th>AdditionalContactInfo</th><th>Demographics</th><th>rowguid</th><th>ModifiedDate</th></tr></thead><tbody><tr><td>1</td><td>EM</td><td>0</td><td>null</td><td>Ken</td><td>J</td><td>Sánchez</td><td>null</td><td>0</td><td>null</td><td>\"<IndividualSurvey xmlns=\"\"http://schemas.microsoft.com/sqlserver/2004/07/adventure-works/IndividualSurvey\"\"><TotalPurchaseYTD>0</TotalPurchaseYTD></IndividualSurvey>\"</td><td>92C4279F-1207-48A3-8448-4636514EB7E2</td><td>2009-01-07 00:00:00.000</td></tr><tr><td>2</td><td>EM</td><td>0</td><td>null</td><td>Terri</td><td>Lee</td><td>Duffy</td><td>null</td><td>1</td><td>null</td><td>\"<IndividualSurvey xmlns=\"\"http://schemas.microsoft.com/sqlserver/2004/07/adventure-works/IndividualSurvey\"\"><TotalPurchaseYTD>0</TotalPurchaseYTD></IndividualSurvey>\"</td><td>D8763459-8AA8-47CC-AFF7-C9079AF79033</td><td>2008-01-24 00:00:00.000</td></tr><tr><td>3</td><td>EM</td><td>0</td><td>null</td><td>Roberto</td><td>null</td><td>Tamburello</td><td>null</td><td>0</td><td>null</td><td>\"<IndividualSurvey xmlns=\"\"http://schemas.microsoft.com/sqlserver/2004/07/adventure-works/IndividualSurvey\"\"><TotalPurchaseYTD>0</TotalPurchaseYTD></IndividualSurvey>\"</td><td>E1A2555E-0828-434B-A33B-6F38136A37DE</td><td>2007-11-04 00:00:00.000</td></tr><tr><td>4</td><td>EM</td><td>0</td><td>null</td><td>Rob</td><td>null</td><td>Walters</td><td>null</td><td>0</td><td>null</td><td>\"<IndividualSurvey xmlns=\"\"http://schemas.microsoft.com/sqlserver/2004/07/adventure-works/IndividualSurvey\"\"><TotalPurchaseYTD>0</TotalPurchaseYTD></IndividualSurvey>\"</td><td>F2D7CE06-38B3-4357-805B-F4B6B71C01FF</td><td>2007-11-28 00:00:00.000</td></tr><tr><td>5</td><td>EM</td><td>0</td><td>Ms.</td><td>Gail</td><td>A</td><td>Erickson</td><td>null</td><td>0</td><td>null</td><td>\"<IndividualSurvey xmlns=\"\"http://schemas.microsoft.com/sqlserver/2004/07/adventure-works/IndividualSurvey\"\"><TotalPurchaseYTD>0</TotalPurchaseYTD></IndividualSurvey>\"</td><td>F3A3F6B4-AE3B-430C-A754-9F2231BA6FEF</td><td>2007-12-30 00:00:00.000</td></tr><tr><td>6</td><td>EM</td><td>0</td><td>Mr.</td><td>Jossef</td><td>H</td><td>Goldberg</td><td>null</td><td>0</td><td>null</td><td>\"<IndividualSurvey xmlns=\"\"http://schemas.microsoft.com/sqlserver/2004/07/adventure-works/IndividualSurvey\"\"><TotalPurchaseYTD>0</TotalPurchaseYTD></IndividualSurvey>\"</td><td>0DEA28FD-EFFE-482A-AFD3-B7E8F199D56F</td><td>2013-12-16 00:00:00.000</td></tr><tr><td>7</td><td>EM</td><td>0</td><td>null</td><td>Dylan</td><td>A</td><td>Miller</td><td>null</td><td>2</td><td>null</td><td>\"<IndividualSurvey xmlns=\"\"http://schemas.microsoft.com/sqlserver/2004/07/adventure-works/IndividualSurvey\"\"><TotalPurchaseYTD>0</TotalPurchaseYTD></IndividualSurvey>\"</td><td>C45E8AB8-01BE-4B76-B215-820C8368181A</td><td>2009-02-01 00:00:00.000</td></tr><tr><td>8</td><td>EM</td><td>0</td><td>null</td><td>Diane</td><td>L</td><td>Margheim</td><td>null</td><td>0</td><td>null</td><td>\"<IndividualSurvey xmlns=\"\"http://schemas.microsoft.com/sqlserver/2004/07/adventure-works/IndividualSurvey\"\"><TotalPurchaseYTD>0</TotalPurchaseYTD></IndividualSurvey>\"</td><td>A948E590-4A56-45A9-BC9A-160A1CC9D990</td><td>2008-12-22 00:00:00.000</td></tr><tr><td>9</td><td>EM</td><td>0</td><td>null</td><td>Gigi</td><td>N</td><td>Matthew</td><td>null</td><td>0</td><td>null</td><td>\"<IndividualSurvey xmlns=\"\"http://schemas.microsoft.com/sqlserver/2004/07/adventure-works/IndividualSurvey\"\"><TotalPurchaseYTD>0</TotalPurchaseYTD></IndividualSurvey>\"</td><td>5FC28C0E-6D36-4252-9846-05CAA0B1F6C5</td><td>2009-01-09 00:00:00.000</td></tr><tr><td>10</td><td>EM</td><td>0</td><td>null</td><td>Michael</td><td>null</td><td>Raheem</td><td>null</td><td>2</td><td>null</td><td>\"<IndividualSurvey xmlns=\"\"http://schemas.microsoft.com/sqlserver/2004/07/adventure-works/IndividualSurvey\"\"><TotalPurchaseYTD>0</TotalPurchaseYTD></IndividualSurvey>\"</td><td>CA2C740E-75B2-420C-9D4B-E3CBC6609604</td><td>2009-04-26 00:00:00.000</td></tr></tbody></table></div>"
      ]
     },
     "metadata": {
      "application/vnd.databricks.v1+output": {
       "addedWidgets": {},
       "aggData": [],
       "aggError": "",
       "aggOverflow": false,
       "aggSchema": [],
       "aggSeriesLimitReached": false,
       "aggType": "",
       "arguments": {},
       "columnCustomDisplayInfos": {},
       "data": [
        [
         "1",
         "EM",
         "0",
         null,
         "Ken",
         "J",
         "Sánchez",
         null,
         "0",
         null,
         "\"<IndividualSurvey xmlns=\"\"http://schemas.microsoft.com/sqlserver/2004/07/adventure-works/IndividualSurvey\"\"><TotalPurchaseYTD>0</TotalPurchaseYTD></IndividualSurvey>\"",
         "92C4279F-1207-48A3-8448-4636514EB7E2",
         "2009-01-07 00:00:00.000"
        ],
        [
         "2",
         "EM",
         "0",
         null,
         "Terri",
         "Lee",
         "Duffy",
         null,
         "1",
         null,
         "\"<IndividualSurvey xmlns=\"\"http://schemas.microsoft.com/sqlserver/2004/07/adventure-works/IndividualSurvey\"\"><TotalPurchaseYTD>0</TotalPurchaseYTD></IndividualSurvey>\"",
         "D8763459-8AA8-47CC-AFF7-C9079AF79033",
         "2008-01-24 00:00:00.000"
        ],
        [
         "3",
         "EM",
         "0",
         null,
         "Roberto",
         null,
         "Tamburello",
         null,
         "0",
         null,
         "\"<IndividualSurvey xmlns=\"\"http://schemas.microsoft.com/sqlserver/2004/07/adventure-works/IndividualSurvey\"\"><TotalPurchaseYTD>0</TotalPurchaseYTD></IndividualSurvey>\"",
         "E1A2555E-0828-434B-A33B-6F38136A37DE",
         "2007-11-04 00:00:00.000"
        ],
        [
         "4",
         "EM",
         "0",
         null,
         "Rob",
         null,
         "Walters",
         null,
         "0",
         null,
         "\"<IndividualSurvey xmlns=\"\"http://schemas.microsoft.com/sqlserver/2004/07/adventure-works/IndividualSurvey\"\"><TotalPurchaseYTD>0</TotalPurchaseYTD></IndividualSurvey>\"",
         "F2D7CE06-38B3-4357-805B-F4B6B71C01FF",
         "2007-11-28 00:00:00.000"
        ],
        [
         "5",
         "EM",
         "0",
         "Ms.",
         "Gail",
         "A",
         "Erickson",
         null,
         "0",
         null,
         "\"<IndividualSurvey xmlns=\"\"http://schemas.microsoft.com/sqlserver/2004/07/adventure-works/IndividualSurvey\"\"><TotalPurchaseYTD>0</TotalPurchaseYTD></IndividualSurvey>\"",
         "F3A3F6B4-AE3B-430C-A754-9F2231BA6FEF",
         "2007-12-30 00:00:00.000"
        ],
        [
         "6",
         "EM",
         "0",
         "Mr.",
         "Jossef",
         "H",
         "Goldberg",
         null,
         "0",
         null,
         "\"<IndividualSurvey xmlns=\"\"http://schemas.microsoft.com/sqlserver/2004/07/adventure-works/IndividualSurvey\"\"><TotalPurchaseYTD>0</TotalPurchaseYTD></IndividualSurvey>\"",
         "0DEA28FD-EFFE-482A-AFD3-B7E8F199D56F",
         "2013-12-16 00:00:00.000"
        ],
        [
         "7",
         "EM",
         "0",
         null,
         "Dylan",
         "A",
         "Miller",
         null,
         "2",
         null,
         "\"<IndividualSurvey xmlns=\"\"http://schemas.microsoft.com/sqlserver/2004/07/adventure-works/IndividualSurvey\"\"><TotalPurchaseYTD>0</TotalPurchaseYTD></IndividualSurvey>\"",
         "C45E8AB8-01BE-4B76-B215-820C8368181A",
         "2009-02-01 00:00:00.000"
        ],
        [
         "8",
         "EM",
         "0",
         null,
         "Diane",
         "L",
         "Margheim",
         null,
         "0",
         null,
         "\"<IndividualSurvey xmlns=\"\"http://schemas.microsoft.com/sqlserver/2004/07/adventure-works/IndividualSurvey\"\"><TotalPurchaseYTD>0</TotalPurchaseYTD></IndividualSurvey>\"",
         "A948E590-4A56-45A9-BC9A-160A1CC9D990",
         "2008-12-22 00:00:00.000"
        ],
        [
         "9",
         "EM",
         "0",
         null,
         "Gigi",
         "N",
         "Matthew",
         null,
         "0",
         null,
         "\"<IndividualSurvey xmlns=\"\"http://schemas.microsoft.com/sqlserver/2004/07/adventure-works/IndividualSurvey\"\"><TotalPurchaseYTD>0</TotalPurchaseYTD></IndividualSurvey>\"",
         "5FC28C0E-6D36-4252-9846-05CAA0B1F6C5",
         "2009-01-09 00:00:00.000"
        ],
        [
         "10",
         "EM",
         "0",
         null,
         "Michael",
         null,
         "Raheem",
         null,
         "2",
         null,
         "\"<IndividualSurvey xmlns=\"\"http://schemas.microsoft.com/sqlserver/2004/07/adventure-works/IndividualSurvey\"\"><TotalPurchaseYTD>0</TotalPurchaseYTD></IndividualSurvey>\"",
         "CA2C740E-75B2-420C-9D4B-E3CBC6609604",
         "2009-04-26 00:00:00.000"
        ]
       ],
       "datasetInfos": [],
       "dbfsResultPath": null,
       "isJsonSchema": true,
       "metadata": {},
       "overflow": false,
       "plotOptions": {
        "customPlotOptions": {},
        "displayType": "table",
        "pivotAggregation": null,
        "pivotColumns": null,
        "xColumns": null,
        "yColumns": null
       },
       "removedWidgets": [],
       "schema": [
        {
         "metadata": "{}",
         "name": "BusinessEntityID",
         "type": "\"string\""
        },
        {
         "metadata": "{}",
         "name": "PersonType",
         "type": "\"string\""
        },
        {
         "metadata": "{}",
         "name": "NameStyle",
         "type": "\"string\""
        },
        {
         "metadata": "{}",
         "name": "Title",
         "type": "\"string\""
        },
        {
         "metadata": "{}",
         "name": "FirstName",
         "type": "\"string\""
        },
        {
         "metadata": "{}",
         "name": "MiddleName",
         "type": "\"string\""
        },
        {
         "metadata": "{}",
         "name": "LastName",
         "type": "\"string\""
        },
        {
         "metadata": "{}",
         "name": "Suffix",
         "type": "\"string\""
        },
        {
         "metadata": "{}",
         "name": "EmailPromotion",
         "type": "\"string\""
        },
        {
         "metadata": "{}",
         "name": "AdditionalContactInfo",
         "type": "\"string\""
        },
        {
         "metadata": "{}",
         "name": "Demographics",
         "type": "\"string\""
        },
        {
         "metadata": "{}",
         "name": "rowguid",
         "type": "\"string\""
        },
        {
         "metadata": "{}",
         "name": "ModifiedDate",
         "type": "\"string\""
        }
       ],
       "type": "table"
      }
     },
     "output_type": "display_data"
    }
   ],
   "source": [
    "#Replace NULL string for null values \n",
    "# Specify the columns to be processed\n",
    "columns_to_replace_null = [\"Title\", \"MiddleName\", \"Suffix\", \"AdditionalContactInfo\"]\n",
    "\n",
    "# Create a new DataFrame by conditionally replacing \"NULL\" with null values\n",
    "null_replaced = df\n",
    "for coluna in columns_to_replace_null:\n",
    "    null_replaced = null_replaced.withColumn(coluna, when(col(coluna) == \"NULL\", None).otherwise(col(coluna)))\n",
    "\n",
    "# Show the resulting DataFrame\n",
    "display(null_replaced.limit(10))"
   ]
  },
  {
   "cell_type": "markdown",
   "metadata": {
    "application/vnd.databricks.v1+cell": {
     "cellMetadata": {},
     "inputWidgets": {},
     "nuid": "4a2d12b1-e6ab-41b9-bcdb-611a9b013faa",
     "showTitle": false,
     "title": ""
    }
   },
   "source": [
    "# Clean XML column"
   ]
  },
  {
   "cell_type": "code",
   "execution_count": 0,
   "metadata": {
    "application/vnd.databricks.v1+cell": {
     "cellMetadata": {
      "byteLimit": 2048000,
      "rowLimit": 10000
     },
     "inputWidgets": {},
     "nuid": "0917178a-e207-4348-a926-95bc09fe34ac",
     "showTitle": false,
     "title": ""
    }
   },
   "outputs": [
    {
     "output_type": "display_data",
     "data": {
      "text/html": [
       "<style scoped>\n",
       "  .table-result-container {\n",
       "    max-height: 300px;\n",
       "    overflow: auto;\n",
       "  }\n",
       "  table, th, td {\n",
       "    border: 1px solid black;\n",
       "    border-collapse: collapse;\n",
       "  }\n",
       "  th, td {\n",
       "    padding: 5px;\n",
       "  }\n",
       "  th {\n",
       "    text-align: left;\n",
       "  }\n",
       "</style><div class='table-result-container'><table class='table-result'><thead style='background-color: white'><tr><th>AdditionalContactInfo</th></tr></thead><tbody><tr><td>\"<AdditionalContactInfo xmlns=\"\"http://schemas.microsoft.com/sqlserver/2004/07/adventure-works/ContactInfo\"\" xmlns:crm=\"\"http://schemas.microsoft.com/sqlserver/2004/07/adventure-works/ContactRecord\"\" xmlns:act=\"\"http://schemas.microsoft.com/sqlserver/2004/07/adventure-works/ContactTypes\"\">Additional phone numbers.<act:mobile><act:number>750-555-8888</act:number><act:SpecialInstructions>If customer is not at work, call<act:telephoneNumber><act:number>222-555-4444</act:number></act:telephoneNumber></act:SpecialInstructions></act:mobile>Customer uses these two additional email addresses.<act:eMail><act:eMailAddress>Customer4@sample.com</act:eMailAddress></act:eMail><act:eMail><act:eMailAddress>Customer4@contoso.com</act:eMailAddress><act:SpecialInstructions>This is secondary email address.</act:SpecialInstructions></act:eMail><crm:ContactRecord date=\"\"2002-01-01Z\"\">Customer is expanding his sports and recreation business. Sales is negotiating large sales order with this customer. We called Joe at<act:mobile><act:number>750-555-8888</act:number></act:mobile>We are still working on competitive pricing. Looks promising, but we need additional marketing support to wrap this up.</crm:ContactRecord></AdditionalContactInfo>\"</td></tr><tr><td>\"<AdditionalContactInfo xmlns=\"\"http://schemas.microsoft.com/sqlserver/2004/07/adventure-works/ContactInfo\"\" xmlns:crm=\"\"http://schemas.microsoft.com/sqlserver/2004/07/adventure-works/ContactRecord\"\" xmlns:act=\"\"http://schemas.microsoft.com/sqlserver/2004/07/adventure-works/ContactTypes\"\">Additional email address.<act:eMail><act:eMailAddress>Customer6@sample.com</act:eMailAddress></act:eMail><crm:ContactRecord date=\"\"2002-07-01Z\"\">Customer called us. Interested in the new Touring models.</crm:ContactRecord></AdditionalContactInfo>\"</td></tr><tr><td>\"<AdditionalContactInfo xmlns=\"\"http://schemas.microsoft.com/sqlserver/2004/07/adventure-works/ContactInfo\"\" xmlns:crm=\"\"http://schemas.microsoft.com/sqlserver/2004/07/adventure-works/ContactRecord\"\" xmlns:act=\"\"http://schemas.microsoft.com/sqlserver/2004/07/adventure-works/ContactTypes\"\">These are additional phone numbers the customer provided.<act:telephoneNumber><act:number>206-555-2222</act:number><act:SpecialInstructions>Best time to call is Monday-Wednesday mornings.</act:SpecialInstructions></act:telephoneNumber><act:mobile><act:number>209-555-2122</act:number></act:mobile></AdditionalContactInfo>\"</td></tr><tr><td>\"<AdditionalContactInfo xmlns=\"\"http://schemas.microsoft.com/sqlserver/2004/07/adventure-works/ContactInfo\"\" xmlns:crm=\"\"http://schemas.microsoft.com/sqlserver/2004/07/adventure-works/ContactRecord\"\" xmlns:act=\"\"http://schemas.microsoft.com/sqlserver/2004/07/adventure-works/ContactTypes\"\">Additional home and mobile phone numbers:<act:telephoneNumber><act:number>253-555-4689</act:number></act:telephoneNumber><act:mobile><act:number>253-555-4878</act:number></act:mobile></AdditionalContactInfo>\"</td></tr><tr><td>\"<AdditionalContactInfo xmlns=\"\"http://schemas.microsoft.com/sqlserver/2004/07/adventure-works/ContactInfo\"\" xmlns:crm=\"\"http://schemas.microsoft.com/sqlserver/2004/07/adventure-works/ContactRecord\"\" xmlns:act=\"\"http://schemas.microsoft.com/sqlserver/2004/07/adventure-works/ContactTypes\"\"><crm:ContactRecord date=\"\"2002-09-02Z\"\">Marketing called this customer. Customer provided this phone number for follow-up questions.<act:telephoneNumber><act:number>305-555-8888</act:number><act:SpecialInstructions>If no answer, try this pager number.<act:pager><act:number>308-555-3678</act:number></act:pager></act:SpecialInstructions></act:telephoneNumber> and this mobile number<act:mobile><act:number>308-555-4888</act:number></act:mobile></crm:ContactRecord></AdditionalContactInfo>\"</td></tr><tr><td>\"<AdditionalContactInfo xmlns=\"\"http://schemas.microsoft.com/sqlserver/2004/07/adventure-works/ContactInfo\"\" xmlns:crm=\"\"http://schemas.microsoft.com/sqlserver/2004/07/adventure-works/ContactRecord\"\" xmlns:act=\"\"http://schemas.microsoft.com/sqlserver/2004/07/adventure-works/ContactTypes\"\"><crm:ContactRecord date=\"\"2002-09-02Z\"\">The customer is interested in the Road-450 and Mountain-500 series bicycles. Customer called us. We need to follow up. Pager <act:pager><act:number>206-555-1234</act:number></act:pager> is the best way to reach.</crm:ContactRecord></AdditionalContactInfo>\"</td></tr><tr><td>\"<AdditionalContactInfo xmlns=\"\"http://schemas.microsoft.com/sqlserver/2004/07/adventure-works/ContactInfo\"\" xmlns:crm=\"\"http://schemas.microsoft.com/sqlserver/2004/07/adventure-works/ContactRecord\"\" xmlns:act=\"\"http://schemas.microsoft.com/sqlserver/2004/07/adventure-works/ContactTypes\"\">These are additional phone and pager numbers for the customer.<act:telephoneNumber><act:number>206-555-2222</act:number><act:SpecialInstructions>On weekends, contact the manager at this number.</act:SpecialInstructions></act:telephoneNumber><act:telephoneNumber><act:number>206-555-1234</act:number></act:telephoneNumber><act:pager><act:number>206-555-1244</act:number><act:SpecialInstructions>Do not page between 9:00 a.m. and 5:00 p.m.</act:SpecialInstructions></act:pager>Customer provided this additional home address.<act:homePostalAddress><act:Street>P.O Box 5</act:Street><act:City>Edmonds</act:City><act:StateProvince>WA</act:StateProvince><act:PostalCode>98431</act:PostalCode><act:CountryRegion>USA</act:CountryRegion><act:SpecialInstructions>This is an alternative address for billing only.</act:SpecialInstructions></act:homePostalAddress><act:eMail><act:eMailAddress>Joe@sample.com</act:eMailAddress><act:SpecialInstructions>Do not send e-mail for urgent issues. Use telephone instead.</act:SpecialInstructions></act:eMail><crm:ContactRecord date=\"\"2001-07-02Z\"\">Sales contacted this customer to explain new pricing.</crm:ContactRecord></AdditionalContactInfo>\"</td></tr><tr><td>\"<AdditionalContactInfo xmlns=\"\"http://schemas.microsoft.com/sqlserver/2004/07/adventure-works/ContactInfo\"\" xmlns:crm=\"\"http://schemas.microsoft.com/sqlserver/2004/07/adventure-works/ContactRecord\"\" xmlns:act=\"\"http://schemas.microsoft.com/sqlserver/2004/07/adventure-works/ContactTypes\"\"><crm:ContactRecord date=\"\"2002-01-01Z\"\">Sales contacted this customer for the first time at<act:telephoneNumber><act:number>432-4444</act:number></act:telephoneNumber>We talked about the Road bike price drop and the new spring models. Customer provided us new mobile number<act:mobile><act:number>432-555-7809</act:number></act:mobile></crm:ContactRecord></AdditionalContactInfo>\"</td></tr><tr><td>\"<AdditionalContactInfo xmlns=\"\"http://schemas.microsoft.com/sqlserver/2004/07/adventure-works/ContactInfo\"\" xmlns:crm=\"\"http://schemas.microsoft.com/sqlserver/2004/07/adventure-works/ContactRecord\"\" xmlns:act=\"\"http://schemas.microsoft.com/sqlserver/2004/07/adventure-works/ContactTypes\"\">Customer provided this telephone number for weekend access.<act:telephoneNumber><act:number>605-555-9877</act:number></act:telephoneNumber>secondary phone number.<act:pager><act:number>310-555-5432</act:number><act:SpecialInstructions>Page only if other contact attempts fail.</act:SpecialInstructions></act:pager>Additional home address.<act:homePostalAddress><act:Street>990 5th Avenue</act:Street><act:City>Redmond</act:City><act:StateProvince>WA</act:StateProvince><act:PostalCode>98052</act:PostalCode><act:CountryRegion>USA</act:CountryRegion><act:SpecialInstructions>Use this address for billing only.</act:SpecialInstructions></act:homePostalAddress><act:eMail><act:eMailAddress>Customer3@sample.com</act:eMailAddress><act:SpecialInstructions>Do not send e-mails for urgent issues. Use telephone instead.</act:SpecialInstructions></act:eMail><crm:ContactRecord date=\"\"2002-01-01Z\"\">Customer first contacted the sales department. This customer is interested in opening a new bicycle store.</crm:ContactRecord><crm:ContactRecord date=\"\"2002-01-05Z\"\">Linda in sales returned the call. Customer provided another telephone number for off-hour coverage.<act:telephoneNumber><act:number>302-555-7733</act:number></act:telephoneNumber>We are still negotiating possible long-term contract.</crm:ContactRecord></AdditionalContactInfo>\"</td></tr><tr><td>\"<AdditionalContactInfo xmlns=\"\"http://schemas.microsoft.com/sqlserver/2004/07/adventure-works/ContactInfo\"\" xmlns:crm=\"\"http://schemas.microsoft.com/sqlserver/2004/07/adventure-works/ContactRecord\"\" xmlns:act=\"\"http://schemas.microsoft.com/sqlserver/2004/07/adventure-works/ContactTypes\"\"><act:telephoneNumber><act:number>425-555-1112</act:number><act:SpecialInstructions>Call only after 5:00 p.m.</act:SpecialInstructions></act:telephoneNumber>Note that the customer has a secondary home address.<act:homePostalAddress><act:Street>123 Oak</act:Street><act:City>Seattle</act:City><act:StateProvince>WA</act:StateProvince><act:PostalCode>98001</act:PostalCode><act:CountryRegion>USA</act:CountryRegion><act:SpecialInstructions>If correspondence to the primary address fails, try this one.</act:SpecialInstructions></act:homePostalAddress>Customer provided additional email address.<act:eMail><act:eMailAddress>customer1@sample.com</act:eMailAddress><act:SpecialInstructions>For urgent issues, do not send e-mail. Instead use this emergency contact phone<act:telephoneNumber><act:number>425-555-1111</act:number></act:telephoneNumber>.</act:SpecialInstructions></act:eMail><crm:ContactRecord date=\"\"2001-06-02Z\"\">This customer is interested in purchasing high-end bicycles for his family. The customer contacted Michael in sales.</crm:ContactRecord></AdditionalContactInfo>\"</td></tr><tr><td>NULL</td></tr></tbody></table></div>"
      ]
     },
     "metadata": {
      "application/vnd.databricks.v1+output": {
       "addedWidgets": {},
       "aggData": [],
       "aggError": "",
       "aggOverflow": false,
       "aggSchema": [],
       "aggSeriesLimitReached": false,
       "aggType": "",
       "arguments": {},
       "columnCustomDisplayInfos": {},
       "data": [
        [
         "\"<AdditionalContactInfo xmlns=\"\"http://schemas.microsoft.com/sqlserver/2004/07/adventure-works/ContactInfo\"\" xmlns:crm=\"\"http://schemas.microsoft.com/sqlserver/2004/07/adventure-works/ContactRecord\"\" xmlns:act=\"\"http://schemas.microsoft.com/sqlserver/2004/07/adventure-works/ContactTypes\"\">Additional phone numbers.<act:mobile><act:number>750-555-8888</act:number><act:SpecialInstructions>If customer is not at work, call<act:telephoneNumber><act:number>222-555-4444</act:number></act:telephoneNumber></act:SpecialInstructions></act:mobile>Customer uses these two additional email addresses.<act:eMail><act:eMailAddress>Customer4@sample.com</act:eMailAddress></act:eMail><act:eMail><act:eMailAddress>Customer4@contoso.com</act:eMailAddress><act:SpecialInstructions>This is secondary email address.</act:SpecialInstructions></act:eMail><crm:ContactRecord date=\"\"2002-01-01Z\"\">Customer is expanding his sports and recreation business. Sales is negotiating large sales order with this customer. We called Joe at<act:mobile><act:number>750-555-8888</act:number></act:mobile>We are still working on competitive pricing. Looks promising, but we need additional marketing support to wrap this up.</crm:ContactRecord></AdditionalContactInfo>\""
        ],
        [
         "\"<AdditionalContactInfo xmlns=\"\"http://schemas.microsoft.com/sqlserver/2004/07/adventure-works/ContactInfo\"\" xmlns:crm=\"\"http://schemas.microsoft.com/sqlserver/2004/07/adventure-works/ContactRecord\"\" xmlns:act=\"\"http://schemas.microsoft.com/sqlserver/2004/07/adventure-works/ContactTypes\"\">Additional email address.<act:eMail><act:eMailAddress>Customer6@sample.com</act:eMailAddress></act:eMail><crm:ContactRecord date=\"\"2002-07-01Z\"\">Customer called us. Interested in the new Touring models.</crm:ContactRecord></AdditionalContactInfo>\""
        ],
        [
         "\"<AdditionalContactInfo xmlns=\"\"http://schemas.microsoft.com/sqlserver/2004/07/adventure-works/ContactInfo\"\" xmlns:crm=\"\"http://schemas.microsoft.com/sqlserver/2004/07/adventure-works/ContactRecord\"\" xmlns:act=\"\"http://schemas.microsoft.com/sqlserver/2004/07/adventure-works/ContactTypes\"\">These are additional phone numbers the customer provided.<act:telephoneNumber><act:number>206-555-2222</act:number><act:SpecialInstructions>Best time to call is Monday-Wednesday mornings.</act:SpecialInstructions></act:telephoneNumber><act:mobile><act:number>209-555-2122</act:number></act:mobile></AdditionalContactInfo>\""
        ],
        [
         "\"<AdditionalContactInfo xmlns=\"\"http://schemas.microsoft.com/sqlserver/2004/07/adventure-works/ContactInfo\"\" xmlns:crm=\"\"http://schemas.microsoft.com/sqlserver/2004/07/adventure-works/ContactRecord\"\" xmlns:act=\"\"http://schemas.microsoft.com/sqlserver/2004/07/adventure-works/ContactTypes\"\">Additional home and mobile phone numbers:<act:telephoneNumber><act:number>253-555-4689</act:number></act:telephoneNumber><act:mobile><act:number>253-555-4878</act:number></act:mobile></AdditionalContactInfo>\""
        ],
        [
         "\"<AdditionalContactInfo xmlns=\"\"http://schemas.microsoft.com/sqlserver/2004/07/adventure-works/ContactInfo\"\" xmlns:crm=\"\"http://schemas.microsoft.com/sqlserver/2004/07/adventure-works/ContactRecord\"\" xmlns:act=\"\"http://schemas.microsoft.com/sqlserver/2004/07/adventure-works/ContactTypes\"\"><crm:ContactRecord date=\"\"2002-09-02Z\"\">Marketing called this customer. Customer provided this phone number for follow-up questions.<act:telephoneNumber><act:number>305-555-8888</act:number><act:SpecialInstructions>If no answer, try this pager number.<act:pager><act:number>308-555-3678</act:number></act:pager></act:SpecialInstructions></act:telephoneNumber> and this mobile number<act:mobile><act:number>308-555-4888</act:number></act:mobile></crm:ContactRecord></AdditionalContactInfo>\""
        ],
        [
         "\"<AdditionalContactInfo xmlns=\"\"http://schemas.microsoft.com/sqlserver/2004/07/adventure-works/ContactInfo\"\" xmlns:crm=\"\"http://schemas.microsoft.com/sqlserver/2004/07/adventure-works/ContactRecord\"\" xmlns:act=\"\"http://schemas.microsoft.com/sqlserver/2004/07/adventure-works/ContactTypes\"\"><crm:ContactRecord date=\"\"2002-09-02Z\"\">The customer is interested in the Road-450 and Mountain-500 series bicycles. Customer called us. We need to follow up. Pager <act:pager><act:number>206-555-1234</act:number></act:pager> is the best way to reach.</crm:ContactRecord></AdditionalContactInfo>\""
        ],
        [
         "\"<AdditionalContactInfo xmlns=\"\"http://schemas.microsoft.com/sqlserver/2004/07/adventure-works/ContactInfo\"\" xmlns:crm=\"\"http://schemas.microsoft.com/sqlserver/2004/07/adventure-works/ContactRecord\"\" xmlns:act=\"\"http://schemas.microsoft.com/sqlserver/2004/07/adventure-works/ContactTypes\"\">These are additional phone and pager numbers for the customer.<act:telephoneNumber><act:number>206-555-2222</act:number><act:SpecialInstructions>On weekends, contact the manager at this number.</act:SpecialInstructions></act:telephoneNumber><act:telephoneNumber><act:number>206-555-1234</act:number></act:telephoneNumber><act:pager><act:number>206-555-1244</act:number><act:SpecialInstructions>Do not page between 9:00 a.m. and 5:00 p.m.</act:SpecialInstructions></act:pager>Customer provided this additional home address.<act:homePostalAddress><act:Street>P.O Box 5</act:Street><act:City>Edmonds</act:City><act:StateProvince>WA</act:StateProvince><act:PostalCode>98431</act:PostalCode><act:CountryRegion>USA</act:CountryRegion><act:SpecialInstructions>This is an alternative address for billing only.</act:SpecialInstructions></act:homePostalAddress><act:eMail><act:eMailAddress>Joe@sample.com</act:eMailAddress><act:SpecialInstructions>Do not send e-mail for urgent issues. Use telephone instead.</act:SpecialInstructions></act:eMail><crm:ContactRecord date=\"\"2001-07-02Z\"\">Sales contacted this customer to explain new pricing.</crm:ContactRecord></AdditionalContactInfo>\""
        ],
        [
         "\"<AdditionalContactInfo xmlns=\"\"http://schemas.microsoft.com/sqlserver/2004/07/adventure-works/ContactInfo\"\" xmlns:crm=\"\"http://schemas.microsoft.com/sqlserver/2004/07/adventure-works/ContactRecord\"\" xmlns:act=\"\"http://schemas.microsoft.com/sqlserver/2004/07/adventure-works/ContactTypes\"\"><crm:ContactRecord date=\"\"2002-01-01Z\"\">Sales contacted this customer for the first time at<act:telephoneNumber><act:number>432-4444</act:number></act:telephoneNumber>We talked about the Road bike price drop and the new spring models. Customer provided us new mobile number<act:mobile><act:number>432-555-7809</act:number></act:mobile></crm:ContactRecord></AdditionalContactInfo>\""
        ],
        [
         "\"<AdditionalContactInfo xmlns=\"\"http://schemas.microsoft.com/sqlserver/2004/07/adventure-works/ContactInfo\"\" xmlns:crm=\"\"http://schemas.microsoft.com/sqlserver/2004/07/adventure-works/ContactRecord\"\" xmlns:act=\"\"http://schemas.microsoft.com/sqlserver/2004/07/adventure-works/ContactTypes\"\">Customer provided this telephone number for weekend access.<act:telephoneNumber><act:number>605-555-9877</act:number></act:telephoneNumber>secondary phone number.<act:pager><act:number>310-555-5432</act:number><act:SpecialInstructions>Page only if other contact attempts fail.</act:SpecialInstructions></act:pager>Additional home address.<act:homePostalAddress><act:Street>990 5th Avenue</act:Street><act:City>Redmond</act:City><act:StateProvince>WA</act:StateProvince><act:PostalCode>98052</act:PostalCode><act:CountryRegion>USA</act:CountryRegion><act:SpecialInstructions>Use this address for billing only.</act:SpecialInstructions></act:homePostalAddress><act:eMail><act:eMailAddress>Customer3@sample.com</act:eMailAddress><act:SpecialInstructions>Do not send e-mails for urgent issues. Use telephone instead.</act:SpecialInstructions></act:eMail><crm:ContactRecord date=\"\"2002-01-01Z\"\">Customer first contacted the sales department. This customer is interested in opening a new bicycle store.</crm:ContactRecord><crm:ContactRecord date=\"\"2002-01-05Z\"\">Linda in sales returned the call. Customer provided another telephone number for off-hour coverage.<act:telephoneNumber><act:number>302-555-7733</act:number></act:telephoneNumber>We are still negotiating possible long-term contract.</crm:ContactRecord></AdditionalContactInfo>\""
        ],
        [
         "\"<AdditionalContactInfo xmlns=\"\"http://schemas.microsoft.com/sqlserver/2004/07/adventure-works/ContactInfo\"\" xmlns:crm=\"\"http://schemas.microsoft.com/sqlserver/2004/07/adventure-works/ContactRecord\"\" xmlns:act=\"\"http://schemas.microsoft.com/sqlserver/2004/07/adventure-works/ContactTypes\"\"><act:telephoneNumber><act:number>425-555-1112</act:number><act:SpecialInstructions>Call only after 5:00 p.m.</act:SpecialInstructions></act:telephoneNumber>Note that the customer has a secondary home address.<act:homePostalAddress><act:Street>123 Oak</act:Street><act:City>Seattle</act:City><act:StateProvince>WA</act:StateProvince><act:PostalCode>98001</act:PostalCode><act:CountryRegion>USA</act:CountryRegion><act:SpecialInstructions>If correspondence to the primary address fails, try this one.</act:SpecialInstructions></act:homePostalAddress>Customer provided additional email address.<act:eMail><act:eMailAddress>customer1@sample.com</act:eMailAddress><act:SpecialInstructions>For urgent issues, do not send e-mail. Instead use this emergency contact phone<act:telephoneNumber><act:number>425-555-1111</act:number></act:telephoneNumber>.</act:SpecialInstructions></act:eMail><crm:ContactRecord date=\"\"2001-06-02Z\"\">This customer is interested in purchasing high-end bicycles for his family. The customer contacted Michael in sales.</crm:ContactRecord></AdditionalContactInfo>\""
        ],
        [
         "NULL"
        ]
       ],
       "datasetInfos": [],
       "dbfsResultPath": null,
       "isJsonSchema": true,
       "metadata": {},
       "overflow": false,
       "plotOptions": {
        "customPlotOptions": {},
        "displayType": "table",
        "pivotAggregation": null,
        "pivotColumns": null,
        "xColumns": null,
        "yColumns": null
       },
       "removedWidgets": [],
       "schema": [
        {
         "metadata": "{}",
         "name": "AdditionalContactInfo",
         "type": "\"string\""
        }
       ],
       "type": "table"
      }
     },
     "output_type": "display_data"
    }
   ],
   "source": [
    "display(df.select(\"AdditionalContactInfo\").distinct())"
   ]
  },
  {
   "cell_type": "code",
   "execution_count": 0,
   "metadata": {
    "application/vnd.databricks.v1+cell": {
     "cellMetadata": {
      "byteLimit": 2048000,
      "rowLimit": 10000
     },
     "inputWidgets": {},
     "nuid": "902f0cdf-cff9-4d30-91f9-bb276d4c156c",
     "showTitle": false,
     "title": ""
    }
   },
   "outputs": [
    {
     "output_type": "display_data",
     "data": {
      "text/html": [
       "<style scoped>\n",
       "  .table-result-container {\n",
       "    max-height: 300px;\n",
       "    overflow: auto;\n",
       "  }\n",
       "  table, th, td {\n",
       "    border: 1px solid black;\n",
       "    border-collapse: collapse;\n",
       "  }\n",
       "  th, td {\n",
       "    padding: 5px;\n",
       "  }\n",
       "  th {\n",
       "    text-align: left;\n",
       "  }\n",
       "</style><div class='table-result-container'><table class='table-result'><thead style='background-color: white'><tr><th>BusinessEntityID</th><th>PersonType</th><th>NameStyle</th><th>Title</th><th>FirstName</th><th>MiddleName</th><th>LastName</th><th>Suffix</th><th>EmailPromotion</th><th>AdditionalContactInfo</th><th>Demographics</th><th>rowguid</th><th>ModifiedDate</th><th>new_column</th></tr></thead><tbody><tr><td>291</td><td>SC</td><td>0</td><td>Mr.</td><td>Gustavo</td><td>NULL</td><td>Achong</td><td>NULL</td><td>2</td><td>\"<AdditionalContactInfo xmlns=\"\"http://schemas.microsoft.com/sqlserver/2004/07/adventure-works/ContactInfo\"\" xmlns:crm=\"\"http://schemas.microsoft.com/sqlserver/2004/07/adventure-works/ContactRecord\"\" xmlns:act=\"\"http://schemas.microsoft.com/sqlserver/2004/07/adventure-works/ContactTypes\"\"><act:telephoneNumber><act:number>425-555-1112</act:number><act:SpecialInstructions>Call only after 5:00 p.m.</act:SpecialInstructions></act:telephoneNumber>Note that the customer has a secondary home address.<act:homePostalAddress><act:Street>123 Oak</act:Street><act:City>Seattle</act:City><act:StateProvince>WA</act:StateProvince><act:PostalCode>98001</act:PostalCode><act:CountryRegion>USA</act:CountryRegion><act:SpecialInstructions>If correspondence to the primary address fails, try this one.</act:SpecialInstructions></act:homePostalAddress>Customer provided additional email address.<act:eMail><act:eMailAddress>customer1@sample.com</act:eMailAddress><act:SpecialInstructions>For urgent issues, do not send e-mail. Instead use this emergency contact phone<act:telephoneNumber><act:number>425-555-1111</act:number></act:telephoneNumber>.</act:SpecialInstructions></act:eMail><crm:ContactRecord date=\"\"2001-06-02Z\"\">This customer is interested in purchasing high-end bicycles for his family. The customer contacted Michael in sales.</crm:ContactRecord></AdditionalContactInfo>\"</td><td>\"<IndividualSurvey xmlns=\"\"http://schemas.microsoft.com/sqlserver/2004/07/adventure-works/IndividualSurvey\"\"><TotalPurchaseYTD>-13909.13111</TotalPurchaseYTD></IndividualSurvey>\"</td><td>D4C132D3-FCB5-4231-9DD5-888A54BEC693</td><td>2015-04-15 16:33:33.060</td><td>425-555-1112</td></tr><tr><td>293</td><td>SC</td><td>0</td><td>Ms.</td><td>Catherine</td><td>R.</td><td>Abel</td><td>NULL</td><td>1</td><td>\"<AdditionalContactInfo xmlns=\"\"http://schemas.microsoft.com/sqlserver/2004/07/adventure-works/ContactInfo\"\" xmlns:crm=\"\"http://schemas.microsoft.com/sqlserver/2004/07/adventure-works/ContactRecord\"\" xmlns:act=\"\"http://schemas.microsoft.com/sqlserver/2004/07/adventure-works/ContactTypes\"\">These are additional phone and pager numbers for the customer.<act:telephoneNumber><act:number>206-555-2222</act:number><act:SpecialInstructions>On weekends, contact the manager at this number.</act:SpecialInstructions></act:telephoneNumber><act:telephoneNumber><act:number>206-555-1234</act:number></act:telephoneNumber><act:pager><act:number>206-555-1244</act:number><act:SpecialInstructions>Do not page between 9:00 a.m. and 5:00 p.m.</act:SpecialInstructions></act:pager>Customer provided this additional home address.<act:homePostalAddress><act:Street>P.O Box 5</act:Street><act:City>Edmonds</act:City><act:StateProvince>WA</act:StateProvince><act:PostalCode>98431</act:PostalCode><act:CountryRegion>USA</act:CountryRegion><act:SpecialInstructions>This is an alternative address for billing only.</act:SpecialInstructions></act:homePostalAddress><act:eMail><act:eMailAddress>Joe@sample.com</act:eMailAddress><act:SpecialInstructions>Do not send e-mail for urgent issues. Use telephone instead.</act:SpecialInstructions></act:eMail><crm:ContactRecord date=\"\"2001-07-02Z\"\">Sales contacted this customer to explain new pricing.</crm:ContactRecord></AdditionalContactInfo>\"</td><td>\"<IndividualSurvey xmlns=\"\"http://schemas.microsoft.com/sqlserver/2004/07/adventure-works/IndividualSurvey\"\"><TotalPurchaseYTD>-3943.7544</TotalPurchaseYTD></IndividualSurvey>\"</td><td>D54E0552-C226-4C22-AF3B-762CA854CDD3</td><td>2015-04-15 16:33:33.077</td><td>206-555-2222</td></tr><tr><td>295</td><td>SC</td><td>0</td><td>Ms.</td><td>Kim</td><td>NULL</td><td>Abercrombie</td><td>NULL</td><td>0</td><td>\"<AdditionalContactInfo xmlns=\"\"http://schemas.microsoft.com/sqlserver/2004/07/adventure-works/ContactInfo\"\" xmlns:crm=\"\"http://schemas.microsoft.com/sqlserver/2004/07/adventure-works/ContactRecord\"\" xmlns:act=\"\"http://schemas.microsoft.com/sqlserver/2004/07/adventure-works/ContactTypes\"\">Customer provided this telephone number for weekend access.<act:telephoneNumber><act:number>605-555-9877</act:number></act:telephoneNumber>secondary phone number.<act:pager><act:number>310-555-5432</act:number><act:SpecialInstructions>Page only if other contact attempts fail.</act:SpecialInstructions></act:pager>Additional home address.<act:homePostalAddress><act:Street>990 5th Avenue</act:Street><act:City>Redmond</act:City><act:StateProvince>WA</act:StateProvince><act:PostalCode>98052</act:PostalCode><act:CountryRegion>USA</act:CountryRegion><act:SpecialInstructions>Use this address for billing only.</act:SpecialInstructions></act:homePostalAddress><act:eMail><act:eMailAddress>Customer3@sample.com</act:eMailAddress><act:SpecialInstructions>Do not send e-mails for urgent issues. Use telephone instead.</act:SpecialInstructions></act:eMail><crm:ContactRecord date=\"\"2002-01-01Z\"\">Customer first contacted the sales department. This customer is interested in opening a new bicycle store.</crm:ContactRecord><crm:ContactRecord date=\"\"2002-01-05Z\"\">Linda in sales returned the call. Customer provided another telephone number for off-hour coverage.<act:telephoneNumber><act:number>302-555-7733</act:number></act:telephoneNumber>We are still negotiating possible long-term contract.</crm:ContactRecord></AdditionalContactInfo>\"</td><td>\"<IndividualSurvey xmlns=\"\"http://schemas.microsoft.com/sqlserver/2004/07/adventure-works/IndividualSurvey\"\"><TotalPurchaseYTD>-7948.6029</TotalPurchaseYTD></IndividualSurvey>\"</td><td>F7CBDB48-0B44-470E-9F37-7060446FBFB9</td><td>2015-04-15 16:33:33.077</td><td>605-555-9877</td></tr><tr><td>297</td><td>SC</td><td>0</td><td>Sr.</td><td>Humberto</td><td>NULL</td><td>Acevedo</td><td>NULL</td><td>2</td><td>\"<AdditionalContactInfo xmlns=\"\"http://schemas.microsoft.com/sqlserver/2004/07/adventure-works/ContactInfo\"\" xmlns:crm=\"\"http://schemas.microsoft.com/sqlserver/2004/07/adventure-works/ContactRecord\"\" xmlns:act=\"\"http://schemas.microsoft.com/sqlserver/2004/07/adventure-works/ContactTypes\"\">Additional phone numbers.<act:mobile><act:number>750-555-8888</act:number><act:SpecialInstructions>If customer is not at work, call<act:telephoneNumber><act:number>222-555-4444</act:number></act:telephoneNumber></act:SpecialInstructions></act:mobile>Customer uses these two additional email addresses.<act:eMail><act:eMailAddress>Customer4@sample.com</act:eMailAddress></act:eMail><act:eMail><act:eMailAddress>Customer4@contoso.com</act:eMailAddress><act:SpecialInstructions>This is secondary email address.</act:SpecialInstructions></act:eMail><crm:ContactRecord date=\"\"2002-01-01Z\"\">Customer is expanding his sports and recreation business. Sales is negotiating large sales order with this customer. We called Joe at<act:mobile><act:number>750-555-8888</act:number></act:mobile>We are still working on competitive pricing. Looks promising, but we need additional marketing support to wrap this up.</crm:ContactRecord></AdditionalContactInfo>\"</td><td>\"<IndividualSurvey xmlns=\"\"http://schemas.microsoft.com/sqlserver/2004/07/adventure-works/IndividualSurvey\"\"><TotalPurchaseYTD>-20021.0528</TotalPurchaseYTD></IndividualSurvey>\"</td><td>5A41D336-84CF-44D7-B12B-83B64B511F7E</td><td>2015-04-15 16:33:33.090</td><td>750-555-8888</td></tr><tr><td>299</td><td>SC</td><td>0</td><td>Sra.</td><td>Pilar</td><td>NULL</td><td>Ackerman</td><td>NULL</td><td>0</td><td>\"<AdditionalContactInfo xmlns=\"\"http://schemas.microsoft.com/sqlserver/2004/07/adventure-works/ContactInfo\"\" xmlns:crm=\"\"http://schemas.microsoft.com/sqlserver/2004/07/adventure-works/ContactRecord\"\" xmlns:act=\"\"http://schemas.microsoft.com/sqlserver/2004/07/adventure-works/ContactTypes\"\"><crm:ContactRecord date=\"\"2002-01-01Z\"\">Sales contacted this customer for the first time at<act:telephoneNumber><act:number>432-4444</act:number></act:telephoneNumber>We talked about the Road bike price drop and the new spring models. Customer provided us new mobile number<act:mobile><act:number>432-555-7809</act:number></act:mobile></crm:ContactRecord></AdditionalContactInfo>\"</td><td>\"<IndividualSurvey xmlns=\"\"http://schemas.microsoft.com/sqlserver/2004/07/adventure-works/IndividualSurvey\"\"><TotalPurchaseYTD>-5158.224</TotalPurchaseYTD></IndividualSurvey>\"</td><td>DF1FB8AB-2323-4330-9AB8-54E13CE6D8F9</td><td>2015-04-15 16:33:33.090</td><td>432-4444</td></tr><tr><td>301</td><td>SC</td><td>0</td><td>Ms.</td><td>Frances</td><td>B.</td><td>Adams</td><td>NULL</td><td>1</td><td>\"<AdditionalContactInfo xmlns=\"\"http://schemas.microsoft.com/sqlserver/2004/07/adventure-works/ContactInfo\"\" xmlns:crm=\"\"http://schemas.microsoft.com/sqlserver/2004/07/adventure-works/ContactRecord\"\" xmlns:act=\"\"http://schemas.microsoft.com/sqlserver/2004/07/adventure-works/ContactTypes\"\">Additional email address.<act:eMail><act:eMailAddress>Customer6@sample.com</act:eMailAddress></act:eMail><crm:ContactRecord date=\"\"2002-07-01Z\"\">Customer called us. Interested in the new Touring models.</crm:ContactRecord></AdditionalContactInfo>\"</td><td>\"<IndividualSurvey xmlns=\"\"http://schemas.microsoft.com/sqlserver/2004/07/adventure-works/IndividualSurvey\"\"><TotalPurchaseYTD>-14477.2375</TotalPurchaseYTD></IndividualSurvey>\"</td><td>66980082-C186-40AE-972A-74560E78C1AF</td><td>2015-04-15 16:33:33.090</td><td></td></tr><tr><td>303</td><td>SC</td><td>0</td><td>Ms.</td><td>Margaret</td><td>J.</td><td>Smith</td><td>NULL</td><td>0</td><td>\"<AdditionalContactInfo xmlns=\"\"http://schemas.microsoft.com/sqlserver/2004/07/adventure-works/ContactInfo\"\" xmlns:crm=\"\"http://schemas.microsoft.com/sqlserver/2004/07/adventure-works/ContactRecord\"\" xmlns:act=\"\"http://schemas.microsoft.com/sqlserver/2004/07/adventure-works/ContactTypes\"\">These are additional phone numbers the customer provided.<act:telephoneNumber><act:number>206-555-2222</act:number><act:SpecialInstructions>Best time to call is Monday-Wednesday mornings.</act:SpecialInstructions></act:telephoneNumber><act:mobile><act:number>209-555-2122</act:number></act:mobile></AdditionalContactInfo>\"</td><td>\"<IndividualSurvey xmlns=\"\"http://schemas.microsoft.com/sqlserver/2004/07/adventure-works/IndividualSurvey\"\"><TotalPurchaseYTD>-2421.0199</TotalPurchaseYTD></IndividualSurvey>\"</td><td>691818E1-FC19-445F-B161-E401867368E3</td><td>2015-04-15 16:33:33.107</td><td>206-555-2222</td></tr><tr><td>305</td><td>SC</td><td>0</td><td>Ms.</td><td>Carla</td><td>J.</td><td>Adams</td><td>NULL</td><td>0</td><td>\"<AdditionalContactInfo xmlns=\"\"http://schemas.microsoft.com/sqlserver/2004/07/adventure-works/ContactInfo\"\" xmlns:crm=\"\"http://schemas.microsoft.com/sqlserver/2004/07/adventure-works/ContactRecord\"\" xmlns:act=\"\"http://schemas.microsoft.com/sqlserver/2004/07/adventure-works/ContactTypes\"\"><crm:ContactRecord date=\"\"2002-09-02Z\"\">The customer is interested in the Road-450 and Mountain-500 series bicycles. Customer called us. We need to follow up. Pager <act:pager><act:number>206-555-1234</act:number></act:pager> is the best way to reach.</crm:ContactRecord></AdditionalContactInfo>\"</td><td>\"<IndividualSurvey xmlns=\"\"http://schemas.microsoft.com/sqlserver/2004/07/adventure-works/IndividualSurvey\"\"><TotalPurchaseYTD>-22476.234</TotalPurchaseYTD></IndividualSurvey>\"</td><td>5F183B92-1648-4948-8937-47C9C10F0583</td><td>2015-04-15 16:33:33.107</td><td>206-555-1234</td></tr><tr><td>307</td><td>SC</td><td>0</td><td>Mr.</td><td>Jay</td><td>NULL</td><td>Adams</td><td>NULL</td><td>1</td><td>\"<AdditionalContactInfo xmlns=\"\"http://schemas.microsoft.com/sqlserver/2004/07/adventure-works/ContactInfo\"\" xmlns:crm=\"\"http://schemas.microsoft.com/sqlserver/2004/07/adventure-works/ContactRecord\"\" xmlns:act=\"\"http://schemas.microsoft.com/sqlserver/2004/07/adventure-works/ContactTypes\"\">Additional home and mobile phone numbers:<act:telephoneNumber><act:number>253-555-4689</act:number></act:telephoneNumber><act:mobile><act:number>253-555-4878</act:number></act:mobile></AdditionalContactInfo>\"</td><td>\"<IndividualSurvey xmlns=\"\"http://schemas.microsoft.com/sqlserver/2004/07/adventure-works/IndividualSurvey\"\"><TotalPurchaseYTD>-23834.7669</TotalPurchaseYTD></IndividualSurvey>\"</td><td>38256645-4B88-4169-B68A-5B0118F18445</td><td>2015-04-15 16:33:33.123</td><td>253-555-4689</td></tr><tr><td>309</td><td>SC</td><td>0</td><td>Mr.</td><td>Ronald</td><td>L.</td><td>Adina</td><td>NULL</td><td>0</td><td>\"<AdditionalContactInfo xmlns=\"\"http://schemas.microsoft.com/sqlserver/2004/07/adventure-works/ContactInfo\"\" xmlns:crm=\"\"http://schemas.microsoft.com/sqlserver/2004/07/adventure-works/ContactRecord\"\" xmlns:act=\"\"http://schemas.microsoft.com/sqlserver/2004/07/adventure-works/ContactTypes\"\"><crm:ContactRecord date=\"\"2002-09-02Z\"\">Marketing called this customer. Customer provided this phone number for follow-up questions.<act:telephoneNumber><act:number>305-555-8888</act:number><act:SpecialInstructions>If no answer, try this pager number.<act:pager><act:number>308-555-3678</act:number></act:pager></act:SpecialInstructions></act:telephoneNumber> and this mobile number<act:mobile><act:number>308-555-4888</act:number></act:mobile></crm:ContactRecord></AdditionalContactInfo>\"</td><td>\"<IndividualSurvey xmlns=\"\"http://schemas.microsoft.com/sqlserver/2004/07/adventure-works/IndividualSurvey\"\"><TotalPurchaseYTD>-7618.4208</TotalPurchaseYTD></IndividualSurvey>\"</td><td>DBB05A55-2256-42B1-901E-824D28158911</td><td>2015-04-15 16:33:33.123</td><td>305-555-8888</td></tr></tbody></table></div>"
      ]
     },
     "metadata": {
      "application/vnd.databricks.v1+output": {
       "addedWidgets": {},
       "aggData": [],
       "aggError": "",
       "aggOverflow": false,
       "aggSchema": [],
       "aggSeriesLimitReached": false,
       "aggType": "",
       "arguments": {},
       "columnCustomDisplayInfos": {},
       "data": [
        [
         "291",
         "SC",
         "0",
         "Mr.",
         "Gustavo",
         "NULL",
         "Achong",
         "NULL",
         "2",
         "\"<AdditionalContactInfo xmlns=\"\"http://schemas.microsoft.com/sqlserver/2004/07/adventure-works/ContactInfo\"\" xmlns:crm=\"\"http://schemas.microsoft.com/sqlserver/2004/07/adventure-works/ContactRecord\"\" xmlns:act=\"\"http://schemas.microsoft.com/sqlserver/2004/07/adventure-works/ContactTypes\"\"><act:telephoneNumber><act:number>425-555-1112</act:number><act:SpecialInstructions>Call only after 5:00 p.m.</act:SpecialInstructions></act:telephoneNumber>Note that the customer has a secondary home address.<act:homePostalAddress><act:Street>123 Oak</act:Street><act:City>Seattle</act:City><act:StateProvince>WA</act:StateProvince><act:PostalCode>98001</act:PostalCode><act:CountryRegion>USA</act:CountryRegion><act:SpecialInstructions>If correspondence to the primary address fails, try this one.</act:SpecialInstructions></act:homePostalAddress>Customer provided additional email address.<act:eMail><act:eMailAddress>customer1@sample.com</act:eMailAddress><act:SpecialInstructions>For urgent issues, do not send e-mail. Instead use this emergency contact phone<act:telephoneNumber><act:number>425-555-1111</act:number></act:telephoneNumber>.</act:SpecialInstructions></act:eMail><crm:ContactRecord date=\"\"2001-06-02Z\"\">This customer is interested in purchasing high-end bicycles for his family. The customer contacted Michael in sales.</crm:ContactRecord></AdditionalContactInfo>\"",
         "\"<IndividualSurvey xmlns=\"\"http://schemas.microsoft.com/sqlserver/2004/07/adventure-works/IndividualSurvey\"\"><TotalPurchaseYTD>-13909.13111</TotalPurchaseYTD></IndividualSurvey>\"",
         "D4C132D3-FCB5-4231-9DD5-888A54BEC693",
         "2015-04-15 16:33:33.060",
         "425-555-1112"
        ],
        [
         "293",
         "SC",
         "0",
         "Ms.",
         "Catherine",
         "R.",
         "Abel",
         "NULL",
         "1",
         "\"<AdditionalContactInfo xmlns=\"\"http://schemas.microsoft.com/sqlserver/2004/07/adventure-works/ContactInfo\"\" xmlns:crm=\"\"http://schemas.microsoft.com/sqlserver/2004/07/adventure-works/ContactRecord\"\" xmlns:act=\"\"http://schemas.microsoft.com/sqlserver/2004/07/adventure-works/ContactTypes\"\">These are additional phone and pager numbers for the customer.<act:telephoneNumber><act:number>206-555-2222</act:number><act:SpecialInstructions>On weekends, contact the manager at this number.</act:SpecialInstructions></act:telephoneNumber><act:telephoneNumber><act:number>206-555-1234</act:number></act:telephoneNumber><act:pager><act:number>206-555-1244</act:number><act:SpecialInstructions>Do not page between 9:00 a.m. and 5:00 p.m.</act:SpecialInstructions></act:pager>Customer provided this additional home address.<act:homePostalAddress><act:Street>P.O Box 5</act:Street><act:City>Edmonds</act:City><act:StateProvince>WA</act:StateProvince><act:PostalCode>98431</act:PostalCode><act:CountryRegion>USA</act:CountryRegion><act:SpecialInstructions>This is an alternative address for billing only.</act:SpecialInstructions></act:homePostalAddress><act:eMail><act:eMailAddress>Joe@sample.com</act:eMailAddress><act:SpecialInstructions>Do not send e-mail for urgent issues. Use telephone instead.</act:SpecialInstructions></act:eMail><crm:ContactRecord date=\"\"2001-07-02Z\"\">Sales contacted this customer to explain new pricing.</crm:ContactRecord></AdditionalContactInfo>\"",
         "\"<IndividualSurvey xmlns=\"\"http://schemas.microsoft.com/sqlserver/2004/07/adventure-works/IndividualSurvey\"\"><TotalPurchaseYTD>-3943.7544</TotalPurchaseYTD></IndividualSurvey>\"",
         "D54E0552-C226-4C22-AF3B-762CA854CDD3",
         "2015-04-15 16:33:33.077",
         "206-555-2222"
        ],
        [
         "295",
         "SC",
         "0",
         "Ms.",
         "Kim",
         "NULL",
         "Abercrombie",
         "NULL",
         "0",
         "\"<AdditionalContactInfo xmlns=\"\"http://schemas.microsoft.com/sqlserver/2004/07/adventure-works/ContactInfo\"\" xmlns:crm=\"\"http://schemas.microsoft.com/sqlserver/2004/07/adventure-works/ContactRecord\"\" xmlns:act=\"\"http://schemas.microsoft.com/sqlserver/2004/07/adventure-works/ContactTypes\"\">Customer provided this telephone number for weekend access.<act:telephoneNumber><act:number>605-555-9877</act:number></act:telephoneNumber>secondary phone number.<act:pager><act:number>310-555-5432</act:number><act:SpecialInstructions>Page only if other contact attempts fail.</act:SpecialInstructions></act:pager>Additional home address.<act:homePostalAddress><act:Street>990 5th Avenue</act:Street><act:City>Redmond</act:City><act:StateProvince>WA</act:StateProvince><act:PostalCode>98052</act:PostalCode><act:CountryRegion>USA</act:CountryRegion><act:SpecialInstructions>Use this address for billing only.</act:SpecialInstructions></act:homePostalAddress><act:eMail><act:eMailAddress>Customer3@sample.com</act:eMailAddress><act:SpecialInstructions>Do not send e-mails for urgent issues. Use telephone instead.</act:SpecialInstructions></act:eMail><crm:ContactRecord date=\"\"2002-01-01Z\"\">Customer first contacted the sales department. This customer is interested in opening a new bicycle store.</crm:ContactRecord><crm:ContactRecord date=\"\"2002-01-05Z\"\">Linda in sales returned the call. Customer provided another telephone number for off-hour coverage.<act:telephoneNumber><act:number>302-555-7733</act:number></act:telephoneNumber>We are still negotiating possible long-term contract.</crm:ContactRecord></AdditionalContactInfo>\"",
         "\"<IndividualSurvey xmlns=\"\"http://schemas.microsoft.com/sqlserver/2004/07/adventure-works/IndividualSurvey\"\"><TotalPurchaseYTD>-7948.6029</TotalPurchaseYTD></IndividualSurvey>\"",
         "F7CBDB48-0B44-470E-9F37-7060446FBFB9",
         "2015-04-15 16:33:33.077",
         "605-555-9877"
        ],
        [
         "297",
         "SC",
         "0",
         "Sr.",
         "Humberto",
         "NULL",
         "Acevedo",
         "NULL",
         "2",
         "\"<AdditionalContactInfo xmlns=\"\"http://schemas.microsoft.com/sqlserver/2004/07/adventure-works/ContactInfo\"\" xmlns:crm=\"\"http://schemas.microsoft.com/sqlserver/2004/07/adventure-works/ContactRecord\"\" xmlns:act=\"\"http://schemas.microsoft.com/sqlserver/2004/07/adventure-works/ContactTypes\"\">Additional phone numbers.<act:mobile><act:number>750-555-8888</act:number><act:SpecialInstructions>If customer is not at work, call<act:telephoneNumber><act:number>222-555-4444</act:number></act:telephoneNumber></act:SpecialInstructions></act:mobile>Customer uses these two additional email addresses.<act:eMail><act:eMailAddress>Customer4@sample.com</act:eMailAddress></act:eMail><act:eMail><act:eMailAddress>Customer4@contoso.com</act:eMailAddress><act:SpecialInstructions>This is secondary email address.</act:SpecialInstructions></act:eMail><crm:ContactRecord date=\"\"2002-01-01Z\"\">Customer is expanding his sports and recreation business. Sales is negotiating large sales order with this customer. We called Joe at<act:mobile><act:number>750-555-8888</act:number></act:mobile>We are still working on competitive pricing. Looks promising, but we need additional marketing support to wrap this up.</crm:ContactRecord></AdditionalContactInfo>\"",
         "\"<IndividualSurvey xmlns=\"\"http://schemas.microsoft.com/sqlserver/2004/07/adventure-works/IndividualSurvey\"\"><TotalPurchaseYTD>-20021.0528</TotalPurchaseYTD></IndividualSurvey>\"",
         "5A41D336-84CF-44D7-B12B-83B64B511F7E",
         "2015-04-15 16:33:33.090",
         "750-555-8888"
        ],
        [
         "299",
         "SC",
         "0",
         "Sra.",
         "Pilar",
         "NULL",
         "Ackerman",
         "NULL",
         "0",
         "\"<AdditionalContactInfo xmlns=\"\"http://schemas.microsoft.com/sqlserver/2004/07/adventure-works/ContactInfo\"\" xmlns:crm=\"\"http://schemas.microsoft.com/sqlserver/2004/07/adventure-works/ContactRecord\"\" xmlns:act=\"\"http://schemas.microsoft.com/sqlserver/2004/07/adventure-works/ContactTypes\"\"><crm:ContactRecord date=\"\"2002-01-01Z\"\">Sales contacted this customer for the first time at<act:telephoneNumber><act:number>432-4444</act:number></act:telephoneNumber>We talked about the Road bike price drop and the new spring models. Customer provided us new mobile number<act:mobile><act:number>432-555-7809</act:number></act:mobile></crm:ContactRecord></AdditionalContactInfo>\"",
         "\"<IndividualSurvey xmlns=\"\"http://schemas.microsoft.com/sqlserver/2004/07/adventure-works/IndividualSurvey\"\"><TotalPurchaseYTD>-5158.224</TotalPurchaseYTD></IndividualSurvey>\"",
         "DF1FB8AB-2323-4330-9AB8-54E13CE6D8F9",
         "2015-04-15 16:33:33.090",
         "432-4444"
        ],
        [
         "301",
         "SC",
         "0",
         "Ms.",
         "Frances",
         "B.",
         "Adams",
         "NULL",
         "1",
         "\"<AdditionalContactInfo xmlns=\"\"http://schemas.microsoft.com/sqlserver/2004/07/adventure-works/ContactInfo\"\" xmlns:crm=\"\"http://schemas.microsoft.com/sqlserver/2004/07/adventure-works/ContactRecord\"\" xmlns:act=\"\"http://schemas.microsoft.com/sqlserver/2004/07/adventure-works/ContactTypes\"\">Additional email address.<act:eMail><act:eMailAddress>Customer6@sample.com</act:eMailAddress></act:eMail><crm:ContactRecord date=\"\"2002-07-01Z\"\">Customer called us. Interested in the new Touring models.</crm:ContactRecord></AdditionalContactInfo>\"",
         "\"<IndividualSurvey xmlns=\"\"http://schemas.microsoft.com/sqlserver/2004/07/adventure-works/IndividualSurvey\"\"><TotalPurchaseYTD>-14477.2375</TotalPurchaseYTD></IndividualSurvey>\"",
         "66980082-C186-40AE-972A-74560E78C1AF",
         "2015-04-15 16:33:33.090",
         ""
        ],
        [
         "303",
         "SC",
         "0",
         "Ms.",
         "Margaret",
         "J.",
         "Smith",
         "NULL",
         "0",
         "\"<AdditionalContactInfo xmlns=\"\"http://schemas.microsoft.com/sqlserver/2004/07/adventure-works/ContactInfo\"\" xmlns:crm=\"\"http://schemas.microsoft.com/sqlserver/2004/07/adventure-works/ContactRecord\"\" xmlns:act=\"\"http://schemas.microsoft.com/sqlserver/2004/07/adventure-works/ContactTypes\"\">These are additional phone numbers the customer provided.<act:telephoneNumber><act:number>206-555-2222</act:number><act:SpecialInstructions>Best time to call is Monday-Wednesday mornings.</act:SpecialInstructions></act:telephoneNumber><act:mobile><act:number>209-555-2122</act:number></act:mobile></AdditionalContactInfo>\"",
         "\"<IndividualSurvey xmlns=\"\"http://schemas.microsoft.com/sqlserver/2004/07/adventure-works/IndividualSurvey\"\"><TotalPurchaseYTD>-2421.0199</TotalPurchaseYTD></IndividualSurvey>\"",
         "691818E1-FC19-445F-B161-E401867368E3",
         "2015-04-15 16:33:33.107",
         "206-555-2222"
        ],
        [
         "305",
         "SC",
         "0",
         "Ms.",
         "Carla",
         "J.",
         "Adams",
         "NULL",
         "0",
         "\"<AdditionalContactInfo xmlns=\"\"http://schemas.microsoft.com/sqlserver/2004/07/adventure-works/ContactInfo\"\" xmlns:crm=\"\"http://schemas.microsoft.com/sqlserver/2004/07/adventure-works/ContactRecord\"\" xmlns:act=\"\"http://schemas.microsoft.com/sqlserver/2004/07/adventure-works/ContactTypes\"\"><crm:ContactRecord date=\"\"2002-09-02Z\"\">The customer is interested in the Road-450 and Mountain-500 series bicycles. Customer called us. We need to follow up. Pager <act:pager><act:number>206-555-1234</act:number></act:pager> is the best way to reach.</crm:ContactRecord></AdditionalContactInfo>\"",
         "\"<IndividualSurvey xmlns=\"\"http://schemas.microsoft.com/sqlserver/2004/07/adventure-works/IndividualSurvey\"\"><TotalPurchaseYTD>-22476.234</TotalPurchaseYTD></IndividualSurvey>\"",
         "5F183B92-1648-4948-8937-47C9C10F0583",
         "2015-04-15 16:33:33.107",
         "206-555-1234"
        ],
        [
         "307",
         "SC",
         "0",
         "Mr.",
         "Jay",
         "NULL",
         "Adams",
         "NULL",
         "1",
         "\"<AdditionalContactInfo xmlns=\"\"http://schemas.microsoft.com/sqlserver/2004/07/adventure-works/ContactInfo\"\" xmlns:crm=\"\"http://schemas.microsoft.com/sqlserver/2004/07/adventure-works/ContactRecord\"\" xmlns:act=\"\"http://schemas.microsoft.com/sqlserver/2004/07/adventure-works/ContactTypes\"\">Additional home and mobile phone numbers:<act:telephoneNumber><act:number>253-555-4689</act:number></act:telephoneNumber><act:mobile><act:number>253-555-4878</act:number></act:mobile></AdditionalContactInfo>\"",
         "\"<IndividualSurvey xmlns=\"\"http://schemas.microsoft.com/sqlserver/2004/07/adventure-works/IndividualSurvey\"\"><TotalPurchaseYTD>-23834.7669</TotalPurchaseYTD></IndividualSurvey>\"",
         "38256645-4B88-4169-B68A-5B0118F18445",
         "2015-04-15 16:33:33.123",
         "253-555-4689"
        ],
        [
         "309",
         "SC",
         "0",
         "Mr.",
         "Ronald",
         "L.",
         "Adina",
         "NULL",
         "0",
         "\"<AdditionalContactInfo xmlns=\"\"http://schemas.microsoft.com/sqlserver/2004/07/adventure-works/ContactInfo\"\" xmlns:crm=\"\"http://schemas.microsoft.com/sqlserver/2004/07/adventure-works/ContactRecord\"\" xmlns:act=\"\"http://schemas.microsoft.com/sqlserver/2004/07/adventure-works/ContactTypes\"\"><crm:ContactRecord date=\"\"2002-09-02Z\"\">Marketing called this customer. Customer provided this phone number for follow-up questions.<act:telephoneNumber><act:number>305-555-8888</act:number><act:SpecialInstructions>If no answer, try this pager number.<act:pager><act:number>308-555-3678</act:number></act:pager></act:SpecialInstructions></act:telephoneNumber> and this mobile number<act:mobile><act:number>308-555-4888</act:number></act:mobile></crm:ContactRecord></AdditionalContactInfo>\"",
         "\"<IndividualSurvey xmlns=\"\"http://schemas.microsoft.com/sqlserver/2004/07/adventure-works/IndividualSurvey\"\"><TotalPurchaseYTD>-7618.4208</TotalPurchaseYTD></IndividualSurvey>\"",
         "DBB05A55-2256-42B1-901E-824D28158911",
         "2015-04-15 16:33:33.123",
         "305-555-8888"
        ]
       ],
       "datasetInfos": [],
       "dbfsResultPath": null,
       "isJsonSchema": true,
       "metadata": {},
       "overflow": false,
       "plotOptions": {
        "customPlotOptions": {},
        "displayType": "table",
        "pivotAggregation": null,
        "pivotColumns": null,
        "xColumns": null,
        "yColumns": null
       },
       "removedWidgets": [],
       "schema": [
        {
         "metadata": "{}",
         "name": "BusinessEntityID",
         "type": "\"string\""
        },
        {
         "metadata": "{}",
         "name": "PersonType",
         "type": "\"string\""
        },
        {
         "metadata": "{}",
         "name": "NameStyle",
         "type": "\"string\""
        },
        {
         "metadata": "{}",
         "name": "Title",
         "type": "\"string\""
        },
        {
         "metadata": "{}",
         "name": "FirstName",
         "type": "\"string\""
        },
        {
         "metadata": "{}",
         "name": "MiddleName",
         "type": "\"string\""
        },
        {
         "metadata": "{}",
         "name": "LastName",
         "type": "\"string\""
        },
        {
         "metadata": "{}",
         "name": "Suffix",
         "type": "\"string\""
        },
        {
         "metadata": "{}",
         "name": "EmailPromotion",
         "type": "\"string\""
        },
        {
         "metadata": "{}",
         "name": "AdditionalContactInfo",
         "type": "\"string\""
        },
        {
         "metadata": "{}",
         "name": "Demographics",
         "type": "\"string\""
        },
        {
         "metadata": "{}",
         "name": "rowguid",
         "type": "\"string\""
        },
        {
         "metadata": "{}",
         "name": "ModifiedDate",
         "type": "\"string\""
        },
        {
         "metadata": "{}",
         "name": "new_column",
         "type": "\"string\""
        }
       ],
       "type": "table"
      }
     },
     "output_type": "display_data"
    }
   ],
   "source": [
    "df_xlm = df.withColumn(\"new_column\", regexp_extract(df[\"AdditionalContactInfo\"], \"<act:number>(.*?)</act:number>\", 1))\n",
    "display(df_xlm[df_xlm[\"AdditionalContactInfo\"]!=\"NULL\"].limit(10))"
   ]
  },
  {
   "cell_type": "code",
   "execution_count": 0,
   "metadata": {
    "application/vnd.databricks.v1+cell": {
     "cellMetadata": {
      "byteLimit": 2048000,
      "rowLimit": 10000
     },
     "inputWidgets": {},
     "nuid": "5caf20ba-a681-4697-b449-2ff3c6b15433",
     "showTitle": false,
     "title": ""
    }
   },
   "outputs": [],
   "source": [
    "@udf\n",
    "def extract_ab(xml):\n",
    "    doc = ET.fromstring(xml)\n",
    "    return [doc.attrib['crm:ContactRecord date'], doc.attrib['act:numbe']]"
   ]
  },
  {
   "cell_type": "code",
   "execution_count": 0,
   "metadata": {
    "application/vnd.databricks.v1+cell": {
     "cellMetadata": {
      "byteLimit": 2048000,
      "rowLimit": 10000
     },
     "inputWidgets": {},
     "nuid": "50f06f62-0797-4fcd-993a-0dfddd373c00",
     "showTitle": false,
     "title": ""
    }
   },
   "outputs": [
    {
     "output_type": "display_data",
     "data": {
      "text/html": [
       "<style scoped>\n",
       "  .ansiout {\n",
       "    display: block;\n",
       "    unicode-bidi: embed;\n",
       "    white-space: pre-wrap;\n",
       "    word-wrap: break-word;\n",
       "    word-break: break-all;\n",
       "    font-family: \"Source Code Pro\", \"Menlo\", monospace;;\n",
       "    font-size: 13px;\n",
       "    color: #555;\n",
       "    margin-left: 4px;\n",
       "    line-height: 19px;\n",
       "  }\n",
       "</style>\n",
       "org.apache.spark.SparkException: Job aborted due to stage failure: Task 0 in stage 12.0 failed 4 times, most recent failure: Lost task 0.3 in stage 12.0 (TID 31) (10.10.1.4 executor 0): org.apache.spark.api.python.PythonException: 'xml.etree.ElementTree.ParseError: syntax error: line 1, column 0', from <command-3286741429713163>, line 3. Full traceback below:\n",
       "Traceback (most recent call last):\n",
       "  File \"<command-3286741429713163>\", line 3, in extract_ab\n",
       "  File \"/usr/lib/python3.9/xml/etree/ElementTree.py\", line 1348, in XML\n",
       "    return parser.close()\n",
       "xml.etree.ElementTree.ParseError: syntax error: line 1, column 0\n",
       "\n",
       "\tat org.apache.spark.api.python.BasePythonRunner$ReaderIterator.handlePythonException(PythonRunner.scala:694)\n",
       "\tat org.apache.spark.sql.execution.python.PythonUDFRunner$$anon$2.read(PythonUDFRunner.scala:88)\n",
       "\tat org.apache.spark.sql.execution.python.PythonUDFRunner$$anon$2.read(PythonUDFRunner.scala:70)\n",
       "\tat org.apache.spark.api.python.BasePythonRunner$ReaderIterator.hasNext(PythonRunner.scala:647)\n",
       "\tat org.apache.spark.InterruptibleIterator.hasNext(InterruptibleIterator.scala:37)\n",
       "\tat scala.collection.Iterator$$anon$11.hasNext(Iterator.scala:491)\n",
       "\tat scala.collection.Iterator$$anon$10.hasNext(Iterator.scala:460)\n",
       "\tat scala.collection.Iterator$$anon$10.hasNext(Iterator.scala:460)\n",
       "\tat org.apache.spark.sql.catalyst.expressions.GeneratedClass$GeneratedIteratorForCodegenStage2.processNext(Unknown Source)\n",
       "\tat org.apache.spark.sql.execution.BufferedRowIterator.hasNext(BufferedRowIterator.java:43)\n",
       "\tat org.apache.spark.sql.execution.WholeStageCodegenExec$$anon$1.hasNext(WholeStageCodegenExec.scala:761)\n",
       "\tat org.apache.spark.sql.execution.collect.UnsafeRowBatchUtils$.encodeUnsafeRows(UnsafeRowBatchUtils.scala:80)\n",
       "\tat org.apache.spark.sql.execution.collect.Collector.$anonfun$processFunc$1(Collector.scala:186)\n",
       "\tat org.apache.spark.scheduler.ResultTask.$anonfun$runTask$3(ResultTask.scala:75)\n",
       "\tat com.databricks.spark.util.ExecutorFrameProfiler$.record(ExecutorFrameProfiler.scala:110)\n",
       "\tat org.apache.spark.scheduler.ResultTask.$anonfun$runTask$1(ResultTask.scala:75)\n",
       "\tat com.databricks.spark.util.ExecutorFrameProfiler$.record(ExecutorFrameProfiler.scala:110)\n",
       "\tat org.apache.spark.scheduler.ResultTask.runTask(ResultTask.scala:55)\n",
       "\tat org.apache.spark.scheduler.Task.doRunTask(Task.scala:174)\n",
       "\tat org.apache.spark.scheduler.Task.$anonfun$run$4(Task.scala:137)\n",
       "\tat com.databricks.unity.EmptyHandle$.runWithAndClose(UCSHandle.scala:125)\n",
       "\tat org.apache.spark.scheduler.Task.$anonfun$run$1(Task.scala:137)\n",
       "\tat com.databricks.spark.util.ExecutorFrameProfiler$.record(ExecutorFrameProfiler.scala:110)\n",
       "\tat org.apache.spark.scheduler.Task.run(Task.scala:96)\n",
       "\tat org.apache.spark.executor.Executor$TaskRunner.$anonfun$run$13(Executor.scala:902)\n",
       "\tat org.apache.spark.util.Utils$.tryWithSafeFinally(Utils.scala:1697)\n",
       "\tat org.apache.spark.executor.Executor$TaskRunner.$anonfun$run$4(Executor.scala:905)\n",
       "\tat scala.runtime.java8.JFunction0$mcV$sp.apply(JFunction0$mcV$sp.java:23)\n",
       "\tat com.databricks.spark.util.ExecutorFrameProfiler$.record(ExecutorFrameProfiler.scala:110)\n",
       "\tat org.apache.spark.executor.Executor$TaskRunner.run(Executor.scala:760)\n",
       "\tat java.util.concurrent.ThreadPoolExecutor.runWorker(ThreadPoolExecutor.java:1149)\n",
       "\tat java.util.concurrent.ThreadPoolExecutor$Worker.run(ThreadPoolExecutor.java:624)\n",
       "\tat java.lang.Thread.run(Thread.java:750)\n",
       "\n",
       "Driver stacktrace:\n",
       "\tat org.apache.spark.scheduler.DAGScheduler.failJobAndIndependentStages(DAGScheduler.scala:3381)\n",
       "\tat org.apache.spark.scheduler.DAGScheduler.$anonfun$abortStage$2(DAGScheduler.scala:3313)\n",
       "\tat org.apache.spark.scheduler.DAGScheduler.$anonfun$abortStage$2$adapted(DAGScheduler.scala:3304)\n",
       "\tat scala.collection.mutable.ResizableArray.foreach(ResizableArray.scala:62)\n",
       "\tat scala.collection.mutable.ResizableArray.foreach$(ResizableArray.scala:55)\n",
       "\tat scala.collection.mutable.ArrayBuffer.foreach(ArrayBuffer.scala:49)\n",
       "\tat org.apache.spark.scheduler.DAGScheduler.abortStage(DAGScheduler.scala:3304)\n",
       "\tat org.apache.spark.scheduler.DAGScheduler.$anonfun$handleTaskSetFailed$1(DAGScheduler.scala:1428)\n",
       "\tat org.apache.spark.scheduler.DAGScheduler.$anonfun$handleTaskSetFailed$1$adapted(DAGScheduler.scala:1428)\n",
       "\tat scala.Option.foreach(Option.scala:407)\n",
       "\tat org.apache.spark.scheduler.DAGScheduler.handleTaskSetFailed(DAGScheduler.scala:1428)\n",
       "\tat org.apache.spark.scheduler.DAGSchedulerEventProcessLoop.doOnReceive(DAGScheduler.scala:3593)\n",
       "\tat org.apache.spark.scheduler.DAGSchedulerEventProcessLoop.onReceive(DAGScheduler.scala:3531)\n",
       "\tat org.apache.spark.scheduler.DAGSchedulerEventProcessLoop.onReceive(DAGScheduler.scala:3519)\n",
       "\tat org.apache.spark.util.EventLoop$$anon$1.run(EventLoop.scala:51)\n",
       "\tat org.apache.spark.scheduler.DAGScheduler.$anonfun$runJob$1(DAGScheduler.scala:1177)\n",
       "\tat scala.runtime.java8.JFunction0$mcV$sp.apply(JFunction0$mcV$sp.java:23)\n",
       "\tat com.databricks.spark.util.FrameProfiler$.record(FrameProfiler.scala:80)\n",
       "\tat org.apache.spark.scheduler.DAGScheduler.runJob(DAGScheduler.scala:1165)\n",
       "\tat org.apache.spark.SparkContext.runJobInternal(SparkContext.scala:2746)\n",
       "\tat org.apache.spark.sql.execution.collect.Collector.$anonfun$runSparkJobs$1(Collector.scala:312)\n",
       "\tat scala.runtime.java8.JFunction0$mcV$sp.apply(JFunction0$mcV$sp.java:23)\n",
       "\tat com.databricks.spark.util.FrameProfiler$.record(FrameProfiler.scala:80)\n",
       "\tat org.apache.spark.sql.execution.collect.Collector.runSparkJobs(Collector.scala:271)\n",
       "\tat org.apache.spark.sql.execution.collect.Collector.collect(Collector.scala:322)\n",
       "\tat org.apache.spark.sql.execution.collect.Collector$.collect(Collector.scala:105)\n",
       "\tat org.apache.spark.sql.execution.collect.Collector$.collect(Collector.scala:112)\n",
       "\tat org.apache.spark.sql.execution.qrc.InternalRowFormat$.collect(cachedSparkResults.scala:115)\n",
       "\tat org.apache.spark.sql.execution.qrc.InternalRowFormat$.collect(cachedSparkResults.scala:104)\n",
       "\tat org.apache.spark.sql.execution.qrc.InternalRowFormat$.collect(cachedSparkResults.scala:88)\n",
       "\tat org.apache.spark.sql.execution.qrc.ResultCacheManager.$anonfun$computeResult$1(ResultCacheManager.scala:527)\n",
       "\tat com.databricks.spark.util.FrameProfiler$.record(FrameProfiler.scala:80)\n",
       "\tat org.apache.spark.sql.execution.qrc.ResultCacheManager.collectResult$1(ResultCacheManager.scala:519)\n",
       "\tat org.apache.spark.sql.execution.qrc.ResultCacheManager.computeResult(ResultCacheManager.scala:539)\n",
       "\tat org.apache.spark.sql.execution.qrc.ResultCacheManager.$anonfun$getOrComputeResultInternal$1(ResultCacheManager.scala:396)\n",
       "\tat scala.Option.getOrElse(Option.scala:189)\n",
       "\tat org.apache.spark.sql.execution.qrc.ResultCacheManager.getOrComputeResultInternal(ResultCacheManager.scala:390)\n",
       "\tat org.apache.spark.sql.execution.qrc.ResultCacheManager.getOrComputeResult(ResultCacheManager.scala:292)\n",
       "\tat org.apache.spark.sql.execution.SparkPlan.$anonfun$executeCollectResult$1(SparkPlan.scala:433)\n",
       "\tat com.databricks.spark.util.FrameProfiler$.record(FrameProfiler.scala:80)\n",
       "\tat org.apache.spark.sql.execution.SparkPlan.executeCollectResult(SparkPlan.scala:430)\n",
       "\tat org.apache.spark.sql.Dataset.collectResult(Dataset.scala:3426)\n",
       "\tat org.apache.spark.sql.Dataset.$anonfun$collectResult$1(Dataset.scala:3417)\n",
       "\tat org.apache.spark.sql.Dataset.$anonfun$withAction$3(Dataset.scala:4292)\n",
       "\tat org.apache.spark.sql.execution.QueryExecution$.withInternalError(QueryExecution.scala:763)\n",
       "\tat org.apache.spark.sql.Dataset.$anonfun$withAction$2(Dataset.scala:4290)\n",
       "\tat org.apache.spark.sql.execution.SQLExecution$.$anonfun$withCustomExecutionEnv$8(SQLExecution.scala:249)\n",
       "\tat org.apache.spark.sql.execution.SQLExecution$.withSQLConfPropagated(SQLExecution.scala:399)\n",
       "\tat org.apache.spark.sql.execution.SQLExecution$.$anonfun$withCustomExecutionEnv$1(SQLExecution.scala:194)\n",
       "\tat org.apache.spark.sql.SparkSession.withActive(SparkSession.scala:985)\n",
       "\tat org.apache.spark.sql.execution.SQLExecution$.withCustomExecutionEnv(SQLExecution.scala:148)\n",
       "\tat org.apache.spark.sql.execution.SQLExecution$.withNewExecutionId(SQLExecution.scala:349)\n",
       "\tat org.apache.spark.sql.Dataset.withAction(Dataset.scala:4290)\n",
       "\tat org.apache.spark.sql.Dataset.collectResult(Dataset.scala:3416)\n",
       "\tat com.databricks.backend.daemon.driver.OutputAggregator$.withOutputAggregation0(OutputAggregator.scala:267)\n",
       "\tat com.databricks.backend.daemon.driver.OutputAggregator$.withOutputAggregation(OutputAggregator.scala:101)\n",
       "\tat com.databricks.backend.daemon.driver.PythonDriverLocalBase.generateTableResult(PythonDriverLocalBase.scala:723)\n",
       "\tat com.databricks.backend.daemon.driver.JupyterDriverLocal.computeListResultsItem(JupyterDriverLocal.scala:1405)\n",
       "\tat com.databricks.backend.daemon.driver.JupyterDriverLocal$JupyterEntryPoint.addCustomDisplayData(JupyterDriverLocal.scala:500)\n",
       "\tat sun.reflect.NativeMethodAccessorImpl.invoke0(Native Method)\n",
       "\tat sun.reflect.NativeMethodAccessorImpl.invoke(NativeMethodAccessorImpl.java:62)\n",
       "\tat sun.reflect.DelegatingMethodAccessorImpl.invoke(DelegatingMethodAccessorImpl.java:43)\n",
       "\tat java.lang.reflect.Method.invoke(Method.java:498)\n",
       "\tat py4j.reflection.MethodInvoker.invoke(MethodInvoker.java:244)\n",
       "\tat py4j.reflection.ReflectionEngine.invoke(ReflectionEngine.java:380)\n",
       "\tat py4j.Gateway.invoke(Gateway.java:306)\n",
       "\tat py4j.commands.AbstractCommand.invokeMethod(AbstractCommand.java:132)\n",
       "\tat py4j.commands.CallCommand.execute(CallCommand.java:79)\n",
       "\tat py4j.ClientServerConnection.waitForCommands(ClientServerConnection.java:195)\n",
       "\tat py4j.ClientServerConnection.run(ClientServerConnection.java:115)\n",
       "\tat java.lang.Thread.run(Thread.java:750)\n",
       "Caused by: org.apache.spark.api.python.PythonException: 'xml.etree.ElementTree.ParseError: syntax error: line 1, column 0', from <command-3286741429713163>, line 3. Full traceback below:\n",
       "Traceback (most recent call last):\n",
       "  File \"<command-3286741429713163>\", line 3, in extract_ab\n",
       "  File \"/usr/lib/python3.9/xml/etree/ElementTree.py\", line 1348, in XML\n",
       "    return parser.close()\n",
       "xml.etree.ElementTree.ParseError: syntax error: line 1, column 0\n",
       "\n",
       "\tat org.apache.spark.api.python.BasePythonRunner$ReaderIterator.handlePythonException(PythonRunner.scala:694)\n",
       "\tat org.apache.spark.sql.execution.python.PythonUDFRunner$$anon$2.read(PythonUDFRunner.scala:88)\n",
       "\tat org.apache.spark.sql.execution.python.PythonUDFRunner$$anon$2.read(PythonUDFRunner.scala:70)\n",
       "\tat org.apache.spark.api.python.BasePythonRunner$ReaderIterator.hasNext(PythonRunner.scala:647)\n",
       "\tat org.apache.spark.InterruptibleIterator.hasNext(InterruptibleIterator.scala:37)\n",
       "\tat scala.collection.Iterator$$anon$11.hasNext(Iterator.scala:491)\n",
       "\tat scala.collection.Iterator$$anon$10.hasNext(Iterator.scala:460)\n",
       "\tat scala.collection.Iterator$$anon$10.hasNext(Iterator.scala:460)\n",
       "\tat org.apache.spark.sql.catalyst.expressions.GeneratedClass$GeneratedIteratorForCodegenStage2.processNext(Unknown Source)\n",
       "\tat org.apache.spark.sql.execution.BufferedRowIterator.hasNext(BufferedRowIterator.java:43)\n",
       "\tat org.apache.spark.sql.execution.WholeStageCodegenExec$$anon$1.hasNext(WholeStageCodegenExec.scala:761)\n",
       "\tat org.apache.spark.sql.execution.collect.UnsafeRowBatchUtils$.encodeUnsafeRows(UnsafeRowBatchUtils.scala:80)\n",
       "\tat org.apache.spark.sql.execution.collect.Collector.$anonfun$processFunc$1(Collector.scala:186)\n",
       "\tat org.apache.spark.scheduler.ResultTask.$anonfun$runTask$3(ResultTask.scala:75)\n",
       "\tat com.databricks.spark.util.ExecutorFrameProfiler$.record(ExecutorFrameProfiler.scala:110)\n",
       "\tat org.apache.spark.scheduler.ResultTask.$anonfun$runTask$1(ResultTask.scala:75)\n",
       "\tat com.databricks.spark.util.ExecutorFrameProfiler$.record(ExecutorFrameProfiler.scala:110)\n",
       "\tat org.apache.spark.scheduler.ResultTask.runTask(ResultTask.scala:55)\n",
       "\tat org.apache.spark.scheduler.Task.doRunTask(Task.scala:174)\n",
       "\tat org.apache.spark.scheduler.Task.$anonfun$run$4(Task.scala:137)\n",
       "\tat com.databricks.unity.EmptyHandle$.runWithAndClose(UCSHandle.scala:125)\n",
       "\tat org.apache.spark.scheduler.Task.$anonfun$run$1(Task.scala:137)\n",
       "\tat com.databricks.spark.util.ExecutorFrameProfiler$.record(ExecutorFrameProfiler.scala:110)\n",
       "\tat org.apache.spark.scheduler.Task.run(Task.scala:96)\n",
       "\tat org.apache.spark.executor.Executor$TaskRunner.$anonfun$run$13(Executor.scala:902)\n",
       "\tat org.apache.spark.util.Utils$.tryWithSafeFinally(Utils.scala:1697)\n",
       "\tat org.apache.spark.executor.Executor$TaskRunner.$anonfun$run$4(Executor.scala:905)\n",
       "\tat scala.runtime.java8.JFunction0$mcV$sp.apply(JFunction0$mcV$sp.java:23)\n",
       "\tat com.databricks.spark.util.ExecutorFrameProfiler$.record(ExecutorFrameProfiler.scala:110)\n",
       "\tat org.apache.spark.executor.Executor$TaskRunner.run(Executor.scala:760)\n",
       "\tat java.util.concurrent.ThreadPoolExecutor.runWorker(ThreadPoolExecutor.java:1149)\n",
       "\tat java.util.concurrent.ThreadPoolExecutor$Worker.run(ThreadPoolExecutor.java:624)\n",
       "\t... 1 more"
      ]
     },
     "metadata": {
      "application/vnd.databricks.v1+output": {
       "arguments": {},
       "data": "org.apache.spark.SparkException: Job aborted due to stage failure: Task 0 in stage 12.0 failed 4 times, most recent failure: Lost task 0.3 in stage 12.0 (TID 31) (10.10.1.4 executor 0): org.apache.spark.api.python.PythonException: 'xml.etree.ElementTree.ParseError: syntax error: line 1, column 0', from <command-3286741429713163>, line 3. Full traceback below:\nTraceback (most recent call last):\n  File \"<command-3286741429713163>\", line 3, in extract_ab\n  File \"/usr/lib/python3.9/xml/etree/ElementTree.py\", line 1348, in XML\n    return parser.close()\nxml.etree.ElementTree.ParseError: syntax error: line 1, column 0\n\n\tat org.apache.spark.api.python.BasePythonRunner$ReaderIterator.handlePythonException(PythonRunner.scala:694)\n\tat org.apache.spark.sql.execution.python.PythonUDFRunner$$anon$2.read(PythonUDFRunner.scala:88)\n\tat org.apache.spark.sql.execution.python.PythonUDFRunner$$anon$2.read(PythonUDFRunner.scala:70)\n\tat org.apache.spark.api.python.BasePythonRunner$ReaderIterator.hasNext(PythonRunner.scala:647)\n\tat org.apache.spark.InterruptibleIterator.hasNext(InterruptibleIterator.scala:37)\n\tat scala.collection.Iterator$$anon$11.hasNext(Iterator.scala:491)\n\tat scala.collection.Iterator$$anon$10.hasNext(Iterator.scala:460)\n\tat scala.collection.Iterator$$anon$10.hasNext(Iterator.scala:460)\n\tat org.apache.spark.sql.catalyst.expressions.GeneratedClass$GeneratedIteratorForCodegenStage2.processNext(Unknown Source)\n\tat org.apache.spark.sql.execution.BufferedRowIterator.hasNext(BufferedRowIterator.java:43)\n\tat org.apache.spark.sql.execution.WholeStageCodegenExec$$anon$1.hasNext(WholeStageCodegenExec.scala:761)\n\tat org.apache.spark.sql.execution.collect.UnsafeRowBatchUtils$.encodeUnsafeRows(UnsafeRowBatchUtils.scala:80)\n\tat org.apache.spark.sql.execution.collect.Collector.$anonfun$processFunc$1(Collector.scala:186)\n\tat org.apache.spark.scheduler.ResultTask.$anonfun$runTask$3(ResultTask.scala:75)\n\tat com.databricks.spark.util.ExecutorFrameProfiler$.record(ExecutorFrameProfiler.scala:110)\n\tat org.apache.spark.scheduler.ResultTask.$anonfun$runTask$1(ResultTask.scala:75)\n\tat com.databricks.spark.util.ExecutorFrameProfiler$.record(ExecutorFrameProfiler.scala:110)\n\tat org.apache.spark.scheduler.ResultTask.runTask(ResultTask.scala:55)\n\tat org.apache.spark.scheduler.Task.doRunTask(Task.scala:174)\n\tat org.apache.spark.scheduler.Task.$anonfun$run$4(Task.scala:137)\n\tat com.databricks.unity.EmptyHandle$.runWithAndClose(UCSHandle.scala:125)\n\tat org.apache.spark.scheduler.Task.$anonfun$run$1(Task.scala:137)\n\tat com.databricks.spark.util.ExecutorFrameProfiler$.record(ExecutorFrameProfiler.scala:110)\n\tat org.apache.spark.scheduler.Task.run(Task.scala:96)\n\tat org.apache.spark.executor.Executor$TaskRunner.$anonfun$run$13(Executor.scala:902)\n\tat org.apache.spark.util.Utils$.tryWithSafeFinally(Utils.scala:1697)\n\tat org.apache.spark.executor.Executor$TaskRunner.$anonfun$run$4(Executor.scala:905)\n\tat scala.runtime.java8.JFunction0$mcV$sp.apply(JFunction0$mcV$sp.java:23)\n\tat com.databricks.spark.util.ExecutorFrameProfiler$.record(ExecutorFrameProfiler.scala:110)\n\tat org.apache.spark.executor.Executor$TaskRunner.run(Executor.scala:760)\n\tat java.util.concurrent.ThreadPoolExecutor.runWorker(ThreadPoolExecutor.java:1149)\n\tat java.util.concurrent.ThreadPoolExecutor$Worker.run(ThreadPoolExecutor.java:624)\n\tat java.lang.Thread.run(Thread.java:750)\n\nDriver stacktrace:\n\tat org.apache.spark.scheduler.DAGScheduler.failJobAndIndependentStages(DAGScheduler.scala:3381)\n\tat org.apache.spark.scheduler.DAGScheduler.$anonfun$abortStage$2(DAGScheduler.scala:3313)\n\tat org.apache.spark.scheduler.DAGScheduler.$anonfun$abortStage$2$adapted(DAGScheduler.scala:3304)\n\tat scala.collection.mutable.ResizableArray.foreach(ResizableArray.scala:62)\n\tat scala.collection.mutable.ResizableArray.foreach$(ResizableArray.scala:55)\n\tat scala.collection.mutable.ArrayBuffer.foreach(ArrayBuffer.scala:49)\n\tat org.apache.spark.scheduler.DAGScheduler.abortStage(DAGScheduler.scala:3304)\n\tat org.apache.spark.scheduler.DAGScheduler.$anonfun$handleTaskSetFailed$1(DAGScheduler.scala:1428)\n\tat org.apache.spark.scheduler.DAGScheduler.$anonfun$handleTaskSetFailed$1$adapted(DAGScheduler.scala:1428)\n\tat scala.Option.foreach(Option.scala:407)\n\tat org.apache.spark.scheduler.DAGScheduler.handleTaskSetFailed(DAGScheduler.scala:1428)\n\tat org.apache.spark.scheduler.DAGSchedulerEventProcessLoop.doOnReceive(DAGScheduler.scala:3593)\n\tat org.apache.spark.scheduler.DAGSchedulerEventProcessLoop.onReceive(DAGScheduler.scala:3531)\n\tat org.apache.spark.scheduler.DAGSchedulerEventProcessLoop.onReceive(DAGScheduler.scala:3519)\n\tat org.apache.spark.util.EventLoop$$anon$1.run(EventLoop.scala:51)\n\tat org.apache.spark.scheduler.DAGScheduler.$anonfun$runJob$1(DAGScheduler.scala:1177)\n\tat scala.runtime.java8.JFunction0$mcV$sp.apply(JFunction0$mcV$sp.java:23)\n\tat com.databricks.spark.util.FrameProfiler$.record(FrameProfiler.scala:80)\n\tat org.apache.spark.scheduler.DAGScheduler.runJob(DAGScheduler.scala:1165)\n\tat org.apache.spark.SparkContext.runJobInternal(SparkContext.scala:2746)\n\tat org.apache.spark.sql.execution.collect.Collector.$anonfun$runSparkJobs$1(Collector.scala:312)\n\tat scala.runtime.java8.JFunction0$mcV$sp.apply(JFunction0$mcV$sp.java:23)\n\tat com.databricks.spark.util.FrameProfiler$.record(FrameProfiler.scala:80)\n\tat org.apache.spark.sql.execution.collect.Collector.runSparkJobs(Collector.scala:271)\n\tat org.apache.spark.sql.execution.collect.Collector.collect(Collector.scala:322)\n\tat org.apache.spark.sql.execution.collect.Collector$.collect(Collector.scala:105)\n\tat org.apache.spark.sql.execution.collect.Collector$.collect(Collector.scala:112)\n\tat org.apache.spark.sql.execution.qrc.InternalRowFormat$.collect(cachedSparkResults.scala:115)\n\tat org.apache.spark.sql.execution.qrc.InternalRowFormat$.collect(cachedSparkResults.scala:104)\n\tat org.apache.spark.sql.execution.qrc.InternalRowFormat$.collect(cachedSparkResults.scala:88)\n\tat org.apache.spark.sql.execution.qrc.ResultCacheManager.$anonfun$computeResult$1(ResultCacheManager.scala:527)\n\tat com.databricks.spark.util.FrameProfiler$.record(FrameProfiler.scala:80)\n\tat org.apache.spark.sql.execution.qrc.ResultCacheManager.collectResult$1(ResultCacheManager.scala:519)\n\tat org.apache.spark.sql.execution.qrc.ResultCacheManager.computeResult(ResultCacheManager.scala:539)\n\tat org.apache.spark.sql.execution.qrc.ResultCacheManager.$anonfun$getOrComputeResultInternal$1(ResultCacheManager.scala:396)\n\tat scala.Option.getOrElse(Option.scala:189)\n\tat org.apache.spark.sql.execution.qrc.ResultCacheManager.getOrComputeResultInternal(ResultCacheManager.scala:390)\n\tat org.apache.spark.sql.execution.qrc.ResultCacheManager.getOrComputeResult(ResultCacheManager.scala:292)\n\tat org.apache.spark.sql.execution.SparkPlan.$anonfun$executeCollectResult$1(SparkPlan.scala:433)\n\tat com.databricks.spark.util.FrameProfiler$.record(FrameProfiler.scala:80)\n\tat org.apache.spark.sql.execution.SparkPlan.executeCollectResult(SparkPlan.scala:430)\n\tat org.apache.spark.sql.Dataset.collectResult(Dataset.scala:3426)\n\tat org.apache.spark.sql.Dataset.$anonfun$collectResult$1(Dataset.scala:3417)\n\tat org.apache.spark.sql.Dataset.$anonfun$withAction$3(Dataset.scala:4292)\n\tat org.apache.spark.sql.execution.QueryExecution$.withInternalError(QueryExecution.scala:763)\n\tat org.apache.spark.sql.Dataset.$anonfun$withAction$2(Dataset.scala:4290)\n\tat org.apache.spark.sql.execution.SQLExecution$.$anonfun$withCustomExecutionEnv$8(SQLExecution.scala:249)\n\tat org.apache.spark.sql.execution.SQLExecution$.withSQLConfPropagated(SQLExecution.scala:399)\n\tat org.apache.spark.sql.execution.SQLExecution$.$anonfun$withCustomExecutionEnv$1(SQLExecution.scala:194)\n\tat org.apache.spark.sql.SparkSession.withActive(SparkSession.scala:985)\n\tat org.apache.spark.sql.execution.SQLExecution$.withCustomExecutionEnv(SQLExecution.scala:148)\n\tat org.apache.spark.sql.execution.SQLExecution$.withNewExecutionId(SQLExecution.scala:349)\n\tat org.apache.spark.sql.Dataset.withAction(Dataset.scala:4290)\n\tat org.apache.spark.sql.Dataset.collectResult(Dataset.scala:3416)\n\tat com.databricks.backend.daemon.driver.OutputAggregator$.withOutputAggregation0(OutputAggregator.scala:267)\n\tat com.databricks.backend.daemon.driver.OutputAggregator$.withOutputAggregation(OutputAggregator.scala:101)\n\tat com.databricks.backend.daemon.driver.PythonDriverLocalBase.generateTableResult(PythonDriverLocalBase.scala:723)\n\tat com.databricks.backend.daemon.driver.JupyterDriverLocal.computeListResultsItem(JupyterDriverLocal.scala:1405)\n\tat com.databricks.backend.daemon.driver.JupyterDriverLocal$JupyterEntryPoint.addCustomDisplayData(JupyterDriverLocal.scala:500)\n\tat sun.reflect.NativeMethodAccessorImpl.invoke0(Native Method)\n\tat sun.reflect.NativeMethodAccessorImpl.invoke(NativeMethodAccessorImpl.java:62)\n\tat sun.reflect.DelegatingMethodAccessorImpl.invoke(DelegatingMethodAccessorImpl.java:43)\n\tat java.lang.reflect.Method.invoke(Method.java:498)\n\tat py4j.reflection.MethodInvoker.invoke(MethodInvoker.java:244)\n\tat py4j.reflection.ReflectionEngine.invoke(ReflectionEngine.java:380)\n\tat py4j.Gateway.invoke(Gateway.java:306)\n\tat py4j.commands.AbstractCommand.invokeMethod(AbstractCommand.java:132)\n\tat py4j.commands.CallCommand.execute(CallCommand.java:79)\n\tat py4j.ClientServerConnection.waitForCommands(ClientServerConnection.java:195)\n\tat py4j.ClientServerConnection.run(ClientServerConnection.java:115)\n\tat java.lang.Thread.run(Thread.java:750)\nCaused by: org.apache.spark.api.python.PythonException: 'xml.etree.ElementTree.ParseError: syntax error: line 1, column 0', from <command-3286741429713163>, line 3. Full traceback below:\nTraceback (most recent call last):\n  File \"<command-3286741429713163>\", line 3, in extract_ab\n  File \"/usr/lib/python3.9/xml/etree/ElementTree.py\", line 1348, in XML\n    return parser.close()\nxml.etree.ElementTree.ParseError: syntax error: line 1, column 0\n\n\tat org.apache.spark.api.python.BasePythonRunner$ReaderIterator.handlePythonException(PythonRunner.scala:694)\n\tat org.apache.spark.sql.execution.python.PythonUDFRunner$$anon$2.read(PythonUDFRunner.scala:88)\n\tat org.apache.spark.sql.execution.python.PythonUDFRunner$$anon$2.read(PythonUDFRunner.scala:70)\n\tat org.apache.spark.api.python.BasePythonRunner$ReaderIterator.hasNext(PythonRunner.scala:647)\n\tat org.apache.spark.InterruptibleIterator.hasNext(InterruptibleIterator.scala:37)\n\tat scala.collection.Iterator$$anon$11.hasNext(Iterator.scala:491)\n\tat scala.collection.Iterator$$anon$10.hasNext(Iterator.scala:460)\n\tat scala.collection.Iterator$$anon$10.hasNext(Iterator.scala:460)\n\tat org.apache.spark.sql.catalyst.expressions.GeneratedClass$GeneratedIteratorForCodegenStage2.processNext(Unknown Source)\n\tat org.apache.spark.sql.execution.BufferedRowIterator.hasNext(BufferedRowIterator.java:43)\n\tat org.apache.spark.sql.execution.WholeStageCodegenExec$$anon$1.hasNext(WholeStageCodegenExec.scala:761)\n\tat org.apache.spark.sql.execution.collect.UnsafeRowBatchUtils$.encodeUnsafeRows(UnsafeRowBatchUtils.scala:80)\n\tat org.apache.spark.sql.execution.collect.Collector.$anonfun$processFunc$1(Collector.scala:186)\n\tat org.apache.spark.scheduler.ResultTask.$anonfun$runTask$3(ResultTask.scala:75)\n\tat com.databricks.spark.util.ExecutorFrameProfiler$.record(ExecutorFrameProfiler.scala:110)\n\tat org.apache.spark.scheduler.ResultTask.$anonfun$runTask$1(ResultTask.scala:75)\n\tat com.databricks.spark.util.ExecutorFrameProfiler$.record(ExecutorFrameProfiler.scala:110)\n\tat org.apache.spark.scheduler.ResultTask.runTask(ResultTask.scala:55)\n\tat org.apache.spark.scheduler.Task.doRunTask(Task.scala:174)\n\tat org.apache.spark.scheduler.Task.$anonfun$run$4(Task.scala:137)\n\tat com.databricks.unity.EmptyHandle$.runWithAndClose(UCSHandle.scala:125)\n\tat org.apache.spark.scheduler.Task.$anonfun$run$1(Task.scala:137)\n\tat com.databricks.spark.util.ExecutorFrameProfiler$.record(ExecutorFrameProfiler.scala:110)\n\tat org.apache.spark.scheduler.Task.run(Task.scala:96)\n\tat org.apache.spark.executor.Executor$TaskRunner.$anonfun$run$13(Executor.scala:902)\n\tat org.apache.spark.util.Utils$.tryWithSafeFinally(Utils.scala:1697)\n\tat org.apache.spark.executor.Executor$TaskRunner.$anonfun$run$4(Executor.scala:905)\n\tat scala.runtime.java8.JFunction0$mcV$sp.apply(JFunction0$mcV$sp.java:23)\n\tat com.databricks.spark.util.ExecutorFrameProfiler$.record(ExecutorFrameProfiler.scala:110)\n\tat org.apache.spark.executor.Executor$TaskRunner.run(Executor.scala:760)\n\tat java.util.concurrent.ThreadPoolExecutor.runWorker(ThreadPoolExecutor.java:1149)\n\tat java.util.concurrent.ThreadPoolExecutor$Worker.run(ThreadPoolExecutor.java:624)\n\t... 1 more\n",
       "errorSummary": "PythonException: 'xml.etree.ElementTree.ParseError: syntax error: line 1, column 0', from <command-3286741429713163>, line 3. Full traceback below:",
       "errorTraceType": "html",
       "metadata": {},
       "type": "ipynbError"
      }
     },
     "output_type": "display_data"
    }
   ],
   "source": [
    "df_xml = df.withColumn('ab', extract_ab(df['AdditionalContactInfo']))\n",
    "display(df_xml.limit(10))"
   ]
  },
  {
   "cell_type": "code",
   "execution_count": 0,
   "metadata": {
    "application/vnd.databricks.v1+cell": {
     "cellMetadata": {
      "byteLimit": 2048000,
      "rowLimit": 10000
     },
     "inputWidgets": {},
     "nuid": "904903ef-c4b2-4c98-9afc-c1d0ea38b163",
     "showTitle": false,
     "title": ""
    }
   },
   "outputs": [
    {
     "output_type": "display_data",
     "data": {
      "text/plain": [
       "\u001B[0;31m---------------------------------------------------------------------------\u001B[0m\n",
       "\u001B[0;31mAnalysisException\u001B[0m                         Traceback (most recent call last)\n",
       "\u001B[0;32m<command-3286741429713160>\u001B[0m in \u001B[0;36m<cell line: 3>\u001B[0;34m()\u001B[0m\n",
       "\u001B[1;32m      1\u001B[0m \u001B[0;32mfrom\u001B[0m \u001B[0mpyspark\u001B[0m\u001B[0;34m.\u001B[0m\u001B[0msql\u001B[0m\u001B[0;34m.\u001B[0m\u001B[0mfunctions\u001B[0m \u001B[0;32mimport\u001B[0m \u001B[0mexpr\u001B[0m\u001B[0;34m\u001B[0m\u001B[0;34m\u001B[0m\u001B[0m\n",
       "\u001B[1;32m      2\u001B[0m \u001B[0;31m# Convert the data into XML format\u001B[0m\u001B[0;34m\u001B[0m\u001B[0;34m\u001B[0m\u001B[0;34m\u001B[0m\u001B[0m\n",
       "\u001B[0;32m----> 3\u001B[0;31m \u001B[0mdf_xml\u001B[0m \u001B[0;34m=\u001B[0m \u001B[0mdf\u001B[0m\u001B[0;34m.\u001B[0m\u001B[0mwithColumn\u001B[0m\u001B[0;34m(\u001B[0m\u001B[0;34m'xml'\u001B[0m\u001B[0;34m,\u001B[0m \u001B[0mexpr\u001B[0m\u001B[0;34m(\u001B[0m\u001B[0;34m'xml(AdditionalContactInfo)'\u001B[0m\u001B[0;34m)\u001B[0m\u001B[0;34m)\u001B[0m\u001B[0;34m\u001B[0m\u001B[0;34m\u001B[0m\u001B[0m\n",
       "\u001B[0m\u001B[1;32m      4\u001B[0m \u001B[0;34m\u001B[0m\u001B[0m\n",
       "\u001B[1;32m      5\u001B[0m \u001B[0;31m# Extract information from the XML-like content\u001B[0m\u001B[0;34m\u001B[0m\u001B[0;34m\u001B[0m\u001B[0;34m\u001B[0m\u001B[0m\n",
       "\n",
       "\u001B[0;32m/databricks/spark/python/pyspark/instrumentation_utils.py\u001B[0m in \u001B[0;36mwrapper\u001B[0;34m(*args, **kwargs)\u001B[0m\n",
       "\u001B[1;32m     46\u001B[0m             \u001B[0mstart\u001B[0m \u001B[0;34m=\u001B[0m \u001B[0mtime\u001B[0m\u001B[0;34m.\u001B[0m\u001B[0mperf_counter\u001B[0m\u001B[0;34m(\u001B[0m\u001B[0;34m)\u001B[0m\u001B[0;34m\u001B[0m\u001B[0;34m\u001B[0m\u001B[0m\n",
       "\u001B[1;32m     47\u001B[0m             \u001B[0;32mtry\u001B[0m\u001B[0;34m:\u001B[0m\u001B[0;34m\u001B[0m\u001B[0;34m\u001B[0m\u001B[0m\n",
       "\u001B[0;32m---> 48\u001B[0;31m                 \u001B[0mres\u001B[0m \u001B[0;34m=\u001B[0m \u001B[0mfunc\u001B[0m\u001B[0;34m(\u001B[0m\u001B[0;34m*\u001B[0m\u001B[0margs\u001B[0m\u001B[0;34m,\u001B[0m \u001B[0;34m**\u001B[0m\u001B[0mkwargs\u001B[0m\u001B[0;34m)\u001B[0m\u001B[0;34m\u001B[0m\u001B[0;34m\u001B[0m\u001B[0m\n",
       "\u001B[0m\u001B[1;32m     49\u001B[0m                 logger.log_success(\n",
       "\u001B[1;32m     50\u001B[0m                     \u001B[0mmodule_name\u001B[0m\u001B[0;34m,\u001B[0m \u001B[0mclass_name\u001B[0m\u001B[0;34m,\u001B[0m \u001B[0mfunction_name\u001B[0m\u001B[0;34m,\u001B[0m \u001B[0mtime\u001B[0m\u001B[0;34m.\u001B[0m\u001B[0mperf_counter\u001B[0m\u001B[0;34m(\u001B[0m\u001B[0;34m)\u001B[0m \u001B[0;34m-\u001B[0m \u001B[0mstart\u001B[0m\u001B[0;34m,\u001B[0m \u001B[0msignature\u001B[0m\u001B[0;34m\u001B[0m\u001B[0;34m\u001B[0m\u001B[0m\n",
       "\n",
       "\u001B[0;32m/databricks/spark/python/pyspark/sql/dataframe.py\u001B[0m in \u001B[0;36mwithColumn\u001B[0;34m(self, colName, col)\u001B[0m\n",
       "\u001B[1;32m   3325\u001B[0m         \u001B[0;32mif\u001B[0m \u001B[0;32mnot\u001B[0m \u001B[0misinstance\u001B[0m\u001B[0;34m(\u001B[0m\u001B[0mcol\u001B[0m\u001B[0;34m,\u001B[0m \u001B[0mColumn\u001B[0m\u001B[0;34m)\u001B[0m\u001B[0;34m:\u001B[0m\u001B[0;34m\u001B[0m\u001B[0;34m\u001B[0m\u001B[0m\n",
       "\u001B[1;32m   3326\u001B[0m             \u001B[0;32mraise\u001B[0m \u001B[0mTypeError\u001B[0m\u001B[0;34m(\u001B[0m\u001B[0;34m\"col should be Column\"\u001B[0m\u001B[0;34m)\u001B[0m\u001B[0;34m\u001B[0m\u001B[0;34m\u001B[0m\u001B[0m\n",
       "\u001B[0;32m-> 3327\u001B[0;31m         \u001B[0;32mreturn\u001B[0m \u001B[0mDataFrame\u001B[0m\u001B[0;34m(\u001B[0m\u001B[0mself\u001B[0m\u001B[0;34m.\u001B[0m\u001B[0m_jdf\u001B[0m\u001B[0;34m.\u001B[0m\u001B[0mwithColumn\u001B[0m\u001B[0;34m(\u001B[0m\u001B[0mcolName\u001B[0m\u001B[0;34m,\u001B[0m \u001B[0mcol\u001B[0m\u001B[0;34m.\u001B[0m\u001B[0m_jc\u001B[0m\u001B[0;34m)\u001B[0m\u001B[0;34m,\u001B[0m \u001B[0mself\u001B[0m\u001B[0;34m.\u001B[0m\u001B[0msparkSession\u001B[0m\u001B[0;34m)\u001B[0m\u001B[0;34m\u001B[0m\u001B[0;34m\u001B[0m\u001B[0m\n",
       "\u001B[0m\u001B[1;32m   3328\u001B[0m \u001B[0;34m\u001B[0m\u001B[0m\n",
       "\u001B[1;32m   3329\u001B[0m     \u001B[0;32mdef\u001B[0m \u001B[0mwithColumnRenamed\u001B[0m\u001B[0;34m(\u001B[0m\u001B[0mself\u001B[0m\u001B[0;34m,\u001B[0m \u001B[0mexisting\u001B[0m\u001B[0;34m:\u001B[0m \u001B[0mstr\u001B[0m\u001B[0;34m,\u001B[0m \u001B[0mnew\u001B[0m\u001B[0;34m:\u001B[0m \u001B[0mstr\u001B[0m\u001B[0;34m)\u001B[0m \u001B[0;34m->\u001B[0m \u001B[0;34m\"DataFrame\"\u001B[0m\u001B[0;34m:\u001B[0m\u001B[0;34m\u001B[0m\u001B[0;34m\u001B[0m\u001B[0m\n",
       "\n",
       "\u001B[0;32m/databricks/spark/python/lib/py4j-0.10.9.5-src.zip/py4j/java_gateway.py\u001B[0m in \u001B[0;36m__call__\u001B[0;34m(self, *args)\u001B[0m\n",
       "\u001B[1;32m   1319\u001B[0m \u001B[0;34m\u001B[0m\u001B[0m\n",
       "\u001B[1;32m   1320\u001B[0m         \u001B[0manswer\u001B[0m \u001B[0;34m=\u001B[0m \u001B[0mself\u001B[0m\u001B[0;34m.\u001B[0m\u001B[0mgateway_client\u001B[0m\u001B[0;34m.\u001B[0m\u001B[0msend_command\u001B[0m\u001B[0;34m(\u001B[0m\u001B[0mcommand\u001B[0m\u001B[0;34m)\u001B[0m\u001B[0;34m\u001B[0m\u001B[0;34m\u001B[0m\u001B[0m\n",
       "\u001B[0;32m-> 1321\u001B[0;31m         return_value = get_return_value(\n",
       "\u001B[0m\u001B[1;32m   1322\u001B[0m             answer, self.gateway_client, self.target_id, self.name)\n",
       "\u001B[1;32m   1323\u001B[0m \u001B[0;34m\u001B[0m\u001B[0m\n",
       "\n",
       "\u001B[0;32m/databricks/spark/python/pyspark/sql/utils.py\u001B[0m in \u001B[0;36mdeco\u001B[0;34m(*a, **kw)\u001B[0m\n",
       "\u001B[1;32m    200\u001B[0m                 \u001B[0;31m# Hide where the exception came from that shows a non-Pythonic\u001B[0m\u001B[0;34m\u001B[0m\u001B[0;34m\u001B[0m\u001B[0;34m\u001B[0m\u001B[0m\n",
       "\u001B[1;32m    201\u001B[0m                 \u001B[0;31m# JVM exception message.\u001B[0m\u001B[0;34m\u001B[0m\u001B[0;34m\u001B[0m\u001B[0;34m\u001B[0m\u001B[0m\n",
       "\u001B[0;32m--> 202\u001B[0;31m                 \u001B[0;32mraise\u001B[0m \u001B[0mconverted\u001B[0m \u001B[0;32mfrom\u001B[0m \u001B[0;32mNone\u001B[0m\u001B[0;34m\u001B[0m\u001B[0;34m\u001B[0m\u001B[0m\n",
       "\u001B[0m\u001B[1;32m    203\u001B[0m             \u001B[0;32melse\u001B[0m\u001B[0;34m:\u001B[0m\u001B[0;34m\u001B[0m\u001B[0;34m\u001B[0m\u001B[0m\n",
       "\u001B[1;32m    204\u001B[0m                 \u001B[0;32mraise\u001B[0m\u001B[0;34m\u001B[0m\u001B[0;34m\u001B[0m\u001B[0m\n",
       "\n",
       "\u001B[0;31mAnalysisException\u001B[0m: Undefined function: xml. This function is neither a built-in/temporary function, nor a persistent function that is qualified as spark_catalog.default.xml.; line 1 pos 0"
      ]
     },
     "metadata": {
      "application/vnd.databricks.v1+output": {
       "arguments": {},
       "data": "\u001B[0;31m---------------------------------------------------------------------------\u001B[0m\n\u001B[0;31mAnalysisException\u001B[0m                         Traceback (most recent call last)\n\u001B[0;32m<command-3286741429713160>\u001B[0m in \u001B[0;36m<cell line: 3>\u001B[0;34m()\u001B[0m\n\u001B[1;32m      1\u001B[0m \u001B[0;32mfrom\u001B[0m \u001B[0mpyspark\u001B[0m\u001B[0;34m.\u001B[0m\u001B[0msql\u001B[0m\u001B[0;34m.\u001B[0m\u001B[0mfunctions\u001B[0m \u001B[0;32mimport\u001B[0m \u001B[0mexpr\u001B[0m\u001B[0;34m\u001B[0m\u001B[0;34m\u001B[0m\u001B[0m\n\u001B[1;32m      2\u001B[0m \u001B[0;31m# Convert the data into XML format\u001B[0m\u001B[0;34m\u001B[0m\u001B[0;34m\u001B[0m\u001B[0;34m\u001B[0m\u001B[0m\n\u001B[0;32m----> 3\u001B[0;31m \u001B[0mdf_xml\u001B[0m \u001B[0;34m=\u001B[0m \u001B[0mdf\u001B[0m\u001B[0;34m.\u001B[0m\u001B[0mwithColumn\u001B[0m\u001B[0;34m(\u001B[0m\u001B[0;34m'xml'\u001B[0m\u001B[0;34m,\u001B[0m \u001B[0mexpr\u001B[0m\u001B[0;34m(\u001B[0m\u001B[0;34m'xml(AdditionalContactInfo)'\u001B[0m\u001B[0;34m)\u001B[0m\u001B[0;34m)\u001B[0m\u001B[0;34m\u001B[0m\u001B[0;34m\u001B[0m\u001B[0m\n\u001B[0m\u001B[1;32m      4\u001B[0m \u001B[0;34m\u001B[0m\u001B[0m\n\u001B[1;32m      5\u001B[0m \u001B[0;31m# Extract information from the XML-like content\u001B[0m\u001B[0;34m\u001B[0m\u001B[0;34m\u001B[0m\u001B[0;34m\u001B[0m\u001B[0m\n\n\u001B[0;32m/databricks/spark/python/pyspark/instrumentation_utils.py\u001B[0m in \u001B[0;36mwrapper\u001B[0;34m(*args, **kwargs)\u001B[0m\n\u001B[1;32m     46\u001B[0m             \u001B[0mstart\u001B[0m \u001B[0;34m=\u001B[0m \u001B[0mtime\u001B[0m\u001B[0;34m.\u001B[0m\u001B[0mperf_counter\u001B[0m\u001B[0;34m(\u001B[0m\u001B[0;34m)\u001B[0m\u001B[0;34m\u001B[0m\u001B[0;34m\u001B[0m\u001B[0m\n\u001B[1;32m     47\u001B[0m             \u001B[0;32mtry\u001B[0m\u001B[0;34m:\u001B[0m\u001B[0;34m\u001B[0m\u001B[0;34m\u001B[0m\u001B[0m\n\u001B[0;32m---> 48\u001B[0;31m                 \u001B[0mres\u001B[0m \u001B[0;34m=\u001B[0m \u001B[0mfunc\u001B[0m\u001B[0;34m(\u001B[0m\u001B[0;34m*\u001B[0m\u001B[0margs\u001B[0m\u001B[0;34m,\u001B[0m \u001B[0;34m**\u001B[0m\u001B[0mkwargs\u001B[0m\u001B[0;34m)\u001B[0m\u001B[0;34m\u001B[0m\u001B[0;34m\u001B[0m\u001B[0m\n\u001B[0m\u001B[1;32m     49\u001B[0m                 logger.log_success(\n\u001B[1;32m     50\u001B[0m                     \u001B[0mmodule_name\u001B[0m\u001B[0;34m,\u001B[0m \u001B[0mclass_name\u001B[0m\u001B[0;34m,\u001B[0m \u001B[0mfunction_name\u001B[0m\u001B[0;34m,\u001B[0m \u001B[0mtime\u001B[0m\u001B[0;34m.\u001B[0m\u001B[0mperf_counter\u001B[0m\u001B[0;34m(\u001B[0m\u001B[0;34m)\u001B[0m \u001B[0;34m-\u001B[0m \u001B[0mstart\u001B[0m\u001B[0;34m,\u001B[0m \u001B[0msignature\u001B[0m\u001B[0;34m\u001B[0m\u001B[0;34m\u001B[0m\u001B[0m\n\n\u001B[0;32m/databricks/spark/python/pyspark/sql/dataframe.py\u001B[0m in \u001B[0;36mwithColumn\u001B[0;34m(self, colName, col)\u001B[0m\n\u001B[1;32m   3325\u001B[0m         \u001B[0;32mif\u001B[0m \u001B[0;32mnot\u001B[0m \u001B[0misinstance\u001B[0m\u001B[0;34m(\u001B[0m\u001B[0mcol\u001B[0m\u001B[0;34m,\u001B[0m \u001B[0mColumn\u001B[0m\u001B[0;34m)\u001B[0m\u001B[0;34m:\u001B[0m\u001B[0;34m\u001B[0m\u001B[0;34m\u001B[0m\u001B[0m\n\u001B[1;32m   3326\u001B[0m             \u001B[0;32mraise\u001B[0m \u001B[0mTypeError\u001B[0m\u001B[0;34m(\u001B[0m\u001B[0;34m\"col should be Column\"\u001B[0m\u001B[0;34m)\u001B[0m\u001B[0;34m\u001B[0m\u001B[0;34m\u001B[0m\u001B[0m\n\u001B[0;32m-> 3327\u001B[0;31m         \u001B[0;32mreturn\u001B[0m \u001B[0mDataFrame\u001B[0m\u001B[0;34m(\u001B[0m\u001B[0mself\u001B[0m\u001B[0;34m.\u001B[0m\u001B[0m_jdf\u001B[0m\u001B[0;34m.\u001B[0m\u001B[0mwithColumn\u001B[0m\u001B[0;34m(\u001B[0m\u001B[0mcolName\u001B[0m\u001B[0;34m,\u001B[0m \u001B[0mcol\u001B[0m\u001B[0;34m.\u001B[0m\u001B[0m_jc\u001B[0m\u001B[0;34m)\u001B[0m\u001B[0;34m,\u001B[0m \u001B[0mself\u001B[0m\u001B[0;34m.\u001B[0m\u001B[0msparkSession\u001B[0m\u001B[0;34m)\u001B[0m\u001B[0;34m\u001B[0m\u001B[0;34m\u001B[0m\u001B[0m\n\u001B[0m\u001B[1;32m   3328\u001B[0m \u001B[0;34m\u001B[0m\u001B[0m\n\u001B[1;32m   3329\u001B[0m     \u001B[0;32mdef\u001B[0m \u001B[0mwithColumnRenamed\u001B[0m\u001B[0;34m(\u001B[0m\u001B[0mself\u001B[0m\u001B[0;34m,\u001B[0m \u001B[0mexisting\u001B[0m\u001B[0;34m:\u001B[0m \u001B[0mstr\u001B[0m\u001B[0;34m,\u001B[0m \u001B[0mnew\u001B[0m\u001B[0;34m:\u001B[0m \u001B[0mstr\u001B[0m\u001B[0;34m)\u001B[0m \u001B[0;34m->\u001B[0m \u001B[0;34m\"DataFrame\"\u001B[0m\u001B[0;34m:\u001B[0m\u001B[0;34m\u001B[0m\u001B[0;34m\u001B[0m\u001B[0m\n\n\u001B[0;32m/databricks/spark/python/lib/py4j-0.10.9.5-src.zip/py4j/java_gateway.py\u001B[0m in \u001B[0;36m__call__\u001B[0;34m(self, *args)\u001B[0m\n\u001B[1;32m   1319\u001B[0m \u001B[0;34m\u001B[0m\u001B[0m\n\u001B[1;32m   1320\u001B[0m         \u001B[0manswer\u001B[0m \u001B[0;34m=\u001B[0m \u001B[0mself\u001B[0m\u001B[0;34m.\u001B[0m\u001B[0mgateway_client\u001B[0m\u001B[0;34m.\u001B[0m\u001B[0msend_command\u001B[0m\u001B[0;34m(\u001B[0m\u001B[0mcommand\u001B[0m\u001B[0;34m)\u001B[0m\u001B[0;34m\u001B[0m\u001B[0;34m\u001B[0m\u001B[0m\n\u001B[0;32m-> 1321\u001B[0;31m         return_value = get_return_value(\n\u001B[0m\u001B[1;32m   1322\u001B[0m             answer, self.gateway_client, self.target_id, self.name)\n\u001B[1;32m   1323\u001B[0m \u001B[0;34m\u001B[0m\u001B[0m\n\n\u001B[0;32m/databricks/spark/python/pyspark/sql/utils.py\u001B[0m in \u001B[0;36mdeco\u001B[0;34m(*a, **kw)\u001B[0m\n\u001B[1;32m    200\u001B[0m                 \u001B[0;31m# Hide where the exception came from that shows a non-Pythonic\u001B[0m\u001B[0;34m\u001B[0m\u001B[0;34m\u001B[0m\u001B[0;34m\u001B[0m\u001B[0m\n\u001B[1;32m    201\u001B[0m                 \u001B[0;31m# JVM exception message.\u001B[0m\u001B[0;34m\u001B[0m\u001B[0;34m\u001B[0m\u001B[0;34m\u001B[0m\u001B[0m\n\u001B[0;32m--> 202\u001B[0;31m                 \u001B[0;32mraise\u001B[0m \u001B[0mconverted\u001B[0m \u001B[0;32mfrom\u001B[0m \u001B[0;32mNone\u001B[0m\u001B[0;34m\u001B[0m\u001B[0;34m\u001B[0m\u001B[0m\n\u001B[0m\u001B[1;32m    203\u001B[0m             \u001B[0;32melse\u001B[0m\u001B[0;34m:\u001B[0m\u001B[0;34m\u001B[0m\u001B[0;34m\u001B[0m\u001B[0m\n\u001B[1;32m    204\u001B[0m                 \u001B[0;32mraise\u001B[0m\u001B[0;34m\u001B[0m\u001B[0;34m\u001B[0m\u001B[0m\n\n\u001B[0;31mAnalysisException\u001B[0m: Undefined function: xml. This function is neither a built-in/temporary function, nor a persistent function that is qualified as spark_catalog.default.xml.; line 1 pos 0",
       "errorSummary": "<span class='ansi-red-fg'>AnalysisException</span>: Undefined function: xml. This function is neither a built-in/temporary function, nor a persistent function that is qualified as spark_catalog.default.xml.; line 1 pos 0",
       "errorTraceType": "ansi",
       "metadata": {},
       "type": "ipynbError"
      }
     },
     "output_type": "display_data"
    }
   ],
   "source": [
    "\n",
    "# Convert the data into XML format\n",
    "df_xml = df.withColumn('xml', expr('xml(AdditionalContactInfo)'))\n",
    "\n",
    "# Extract information from the XML-like content\n",
    "df_xml = df_xml.withColumn(\"parsed_xml\", expr(\"xpath_string(xml, '/AdditionalContactInfo')\"))\n",
    "display(df_xml.limit(10))"
   ]
  },
  {
   "cell_type": "markdown",
   "metadata": {
    "application/vnd.databricks.v1+cell": {
     "cellMetadata": {},
     "inputWidgets": {},
     "nuid": "b9a30356-0ae8-41b7-9c16-959fb6f6c73a",
     "showTitle": false,
     "title": ""
    }
   },
   "source": [
    "#Change Data types"
   ]
  },
  {
   "cell_type": "code",
   "execution_count": 0,
   "metadata": {
    "application/vnd.databricks.v1+cell": {
     "cellMetadata": {
      "byteLimit": 2048000,
      "rowLimit": 10000
     },
     "inputWidgets": {},
     "nuid": "eddce4c2-0136-4c44-a308-a97830d13c09",
     "showTitle": false,
     "title": ""
    }
   },
   "outputs": [
    {
     "output_type": "stream",
     "name": "stdout",
     "output_type": "stream",
     "text": [
      "root\n |-- BusinessEntityID: string (nullable = true)\n |-- PersonType: string (nullable = true)\n |-- NameStyle: string (nullable = true)\n |-- Title: string (nullable = true)\n |-- FirstName: string (nullable = true)\n |-- MiddleName: string (nullable = true)\n |-- LastName: string (nullable = true)\n |-- Suffix: string (nullable = true)\n |-- EmailPromotion: string (nullable = true)\n |-- AdditionalContactInfo: string (nullable = true)\n |-- Demographics: string (nullable = true)\n |-- rowguid: string (nullable = true)\n |-- ModifiedDate: string (nullable = true)\n\n"
     ]
    }
   ],
   "source": [
    "null_replaced.printSchema()"
   ]
  },
  {
   "cell_type": "code",
   "execution_count": 0,
   "metadata": {
    "application/vnd.databricks.v1+cell": {
     "cellMetadata": {
      "byteLimit": 2048000,
      "rowLimit": 10000
     },
     "inputWidgets": {},
     "nuid": "5fb058b8-15be-4f28-8f4b-a4ce1f2da069",
     "showTitle": false,
     "title": ""
    }
   },
   "outputs": [
    {
     "output_type": "display_data",
     "data": {
      "text/html": [
       "<style scoped>\n",
       "  .table-result-container {\n",
       "    max-height: 300px;\n",
       "    overflow: auto;\n",
       "  }\n",
       "  table, th, td {\n",
       "    border: 1px solid black;\n",
       "    border-collapse: collapse;\n",
       "  }\n",
       "  th, td {\n",
       "    padding: 5px;\n",
       "  }\n",
       "  th {\n",
       "    text-align: left;\n",
       "  }\n",
       "</style><div class='table-result-container'><table class='table-result'><thead style='background-color: white'><tr><th>BusinessEntityID</th><th>PersonType</th><th>NameStyle</th><th>Title</th><th>FirstName</th><th>MiddleName</th><th>LastName</th><th>Suffix</th><th>EmailPromotion</th><th>AdditionalContactInfo</th><th>Demographics</th><th>rowguid</th><th>ModifiedDate</th></tr></thead><tbody><tr><td>1</td><td>EM</td><td>0</td><td>null</td><td>Ken</td><td>null</td><td>Sánchez</td><td>null</td><td>0</td><td>null</td><td>\"<IndividualSurvey xmlns=\"\"http://schemas.microsoft.com/sqlserver/2004/07/adventure-works/IndividualSurvey\"\"><TotalPurchaseYTD>0</TotalPurchaseYTD></IndividualSurvey>\"</td><td>92C4279F-1207-48A3-8448-4636514EB7E2</td><td>2009-01-07T00:00:00.000+0000</td></tr><tr><td>2</td><td>EM</td><td>0</td><td>null</td><td>Terri</td><td>null</td><td>Duffy</td><td>null</td><td>1</td><td>null</td><td>\"<IndividualSurvey xmlns=\"\"http://schemas.microsoft.com/sqlserver/2004/07/adventure-works/IndividualSurvey\"\"><TotalPurchaseYTD>0</TotalPurchaseYTD></IndividualSurvey>\"</td><td>D8763459-8AA8-47CC-AFF7-C9079AF79033</td><td>2008-01-24T00:00:00.000+0000</td></tr><tr><td>3</td><td>EM</td><td>0</td><td>null</td><td>Roberto</td><td>null</td><td>Tamburello</td><td>null</td><td>0</td><td>null</td><td>\"<IndividualSurvey xmlns=\"\"http://schemas.microsoft.com/sqlserver/2004/07/adventure-works/IndividualSurvey\"\"><TotalPurchaseYTD>0</TotalPurchaseYTD></IndividualSurvey>\"</td><td>E1A2555E-0828-434B-A33B-6F38136A37DE</td><td>2007-11-04T00:00:00.000+0000</td></tr><tr><td>4</td><td>EM</td><td>0</td><td>null</td><td>Rob</td><td>null</td><td>Walters</td><td>null</td><td>0</td><td>null</td><td>\"<IndividualSurvey xmlns=\"\"http://schemas.microsoft.com/sqlserver/2004/07/adventure-works/IndividualSurvey\"\"><TotalPurchaseYTD>0</TotalPurchaseYTD></IndividualSurvey>\"</td><td>F2D7CE06-38B3-4357-805B-F4B6B71C01FF</td><td>2007-11-28T00:00:00.000+0000</td></tr><tr><td>5</td><td>EM</td><td>0</td><td>null</td><td>Gail</td><td>null</td><td>Erickson</td><td>null</td><td>0</td><td>null</td><td>\"<IndividualSurvey xmlns=\"\"http://schemas.microsoft.com/sqlserver/2004/07/adventure-works/IndividualSurvey\"\"><TotalPurchaseYTD>0</TotalPurchaseYTD></IndividualSurvey>\"</td><td>F3A3F6B4-AE3B-430C-A754-9F2231BA6FEF</td><td>2007-12-30T00:00:00.000+0000</td></tr><tr><td>6</td><td>EM</td><td>0</td><td>null</td><td>Jossef</td><td>null</td><td>Goldberg</td><td>null</td><td>0</td><td>null</td><td>\"<IndividualSurvey xmlns=\"\"http://schemas.microsoft.com/sqlserver/2004/07/adventure-works/IndividualSurvey\"\"><TotalPurchaseYTD>0</TotalPurchaseYTD></IndividualSurvey>\"</td><td>0DEA28FD-EFFE-482A-AFD3-B7E8F199D56F</td><td>2013-12-16T00:00:00.000+0000</td></tr><tr><td>7</td><td>EM</td><td>0</td><td>null</td><td>Dylan</td><td>null</td><td>Miller</td><td>null</td><td>2</td><td>null</td><td>\"<IndividualSurvey xmlns=\"\"http://schemas.microsoft.com/sqlserver/2004/07/adventure-works/IndividualSurvey\"\"><TotalPurchaseYTD>0</TotalPurchaseYTD></IndividualSurvey>\"</td><td>C45E8AB8-01BE-4B76-B215-820C8368181A</td><td>2009-02-01T00:00:00.000+0000</td></tr><tr><td>8</td><td>EM</td><td>0</td><td>null</td><td>Diane</td><td>null</td><td>Margheim</td><td>null</td><td>0</td><td>null</td><td>\"<IndividualSurvey xmlns=\"\"http://schemas.microsoft.com/sqlserver/2004/07/adventure-works/IndividualSurvey\"\"><TotalPurchaseYTD>0</TotalPurchaseYTD></IndividualSurvey>\"</td><td>A948E590-4A56-45A9-BC9A-160A1CC9D990</td><td>2008-12-22T00:00:00.000+0000</td></tr><tr><td>9</td><td>EM</td><td>0</td><td>null</td><td>Gigi</td><td>null</td><td>Matthew</td><td>null</td><td>0</td><td>null</td><td>\"<IndividualSurvey xmlns=\"\"http://schemas.microsoft.com/sqlserver/2004/07/adventure-works/IndividualSurvey\"\"><TotalPurchaseYTD>0</TotalPurchaseYTD></IndividualSurvey>\"</td><td>5FC28C0E-6D36-4252-9846-05CAA0B1F6C5</td><td>2009-01-09T00:00:00.000+0000</td></tr><tr><td>10</td><td>EM</td><td>0</td><td>null</td><td>Michael</td><td>null</td><td>Raheem</td><td>null</td><td>2</td><td>null</td><td>\"<IndividualSurvey xmlns=\"\"http://schemas.microsoft.com/sqlserver/2004/07/adventure-works/IndividualSurvey\"\"><TotalPurchaseYTD>0</TotalPurchaseYTD></IndividualSurvey>\"</td><td>CA2C740E-75B2-420C-9D4B-E3CBC6609604</td><td>2009-04-26T00:00:00.000+0000</td></tr></tbody></table></div>"
      ]
     },
     "metadata": {
      "application/vnd.databricks.v1+output": {
       "addedWidgets": {},
       "aggData": [],
       "aggError": "",
       "aggOverflow": false,
       "aggSchema": [],
       "aggSeriesLimitReached": false,
       "aggType": "",
       "arguments": {},
       "columnCustomDisplayInfos": {},
       "data": [
        [
         1,
         "EM",
         "0",
         null,
         "Ken",
         null,
         "Sánchez",
         null,
         0,
         null,
         "\"<IndividualSurvey xmlns=\"\"http://schemas.microsoft.com/sqlserver/2004/07/adventure-works/IndividualSurvey\"\"><TotalPurchaseYTD>0</TotalPurchaseYTD></IndividualSurvey>\"",
         "92C4279F-1207-48A3-8448-4636514EB7E2",
         "2009-01-07T00:00:00.000+0000"
        ],
        [
         2,
         "EM",
         "0",
         null,
         "Terri",
         null,
         "Duffy",
         null,
         1,
         null,
         "\"<IndividualSurvey xmlns=\"\"http://schemas.microsoft.com/sqlserver/2004/07/adventure-works/IndividualSurvey\"\"><TotalPurchaseYTD>0</TotalPurchaseYTD></IndividualSurvey>\"",
         "D8763459-8AA8-47CC-AFF7-C9079AF79033",
         "2008-01-24T00:00:00.000+0000"
        ],
        [
         3,
         "EM",
         "0",
         null,
         "Roberto",
         null,
         "Tamburello",
         null,
         0,
         null,
         "\"<IndividualSurvey xmlns=\"\"http://schemas.microsoft.com/sqlserver/2004/07/adventure-works/IndividualSurvey\"\"><TotalPurchaseYTD>0</TotalPurchaseYTD></IndividualSurvey>\"",
         "E1A2555E-0828-434B-A33B-6F38136A37DE",
         "2007-11-04T00:00:00.000+0000"
        ],
        [
         4,
         "EM",
         "0",
         null,
         "Rob",
         null,
         "Walters",
         null,
         0,
         null,
         "\"<IndividualSurvey xmlns=\"\"http://schemas.microsoft.com/sqlserver/2004/07/adventure-works/IndividualSurvey\"\"><TotalPurchaseYTD>0</TotalPurchaseYTD></IndividualSurvey>\"",
         "F2D7CE06-38B3-4357-805B-F4B6B71C01FF",
         "2007-11-28T00:00:00.000+0000"
        ],
        [
         5,
         "EM",
         "0",
         null,
         "Gail",
         null,
         "Erickson",
         null,
         0,
         null,
         "\"<IndividualSurvey xmlns=\"\"http://schemas.microsoft.com/sqlserver/2004/07/adventure-works/IndividualSurvey\"\"><TotalPurchaseYTD>0</TotalPurchaseYTD></IndividualSurvey>\"",
         "F3A3F6B4-AE3B-430C-A754-9F2231BA6FEF",
         "2007-12-30T00:00:00.000+0000"
        ],
        [
         6,
         "EM",
         "0",
         null,
         "Jossef",
         null,
         "Goldberg",
         null,
         0,
         null,
         "\"<IndividualSurvey xmlns=\"\"http://schemas.microsoft.com/sqlserver/2004/07/adventure-works/IndividualSurvey\"\"><TotalPurchaseYTD>0</TotalPurchaseYTD></IndividualSurvey>\"",
         "0DEA28FD-EFFE-482A-AFD3-B7E8F199D56F",
         "2013-12-16T00:00:00.000+0000"
        ],
        [
         7,
         "EM",
         "0",
         null,
         "Dylan",
         null,
         "Miller",
         null,
         2,
         null,
         "\"<IndividualSurvey xmlns=\"\"http://schemas.microsoft.com/sqlserver/2004/07/adventure-works/IndividualSurvey\"\"><TotalPurchaseYTD>0</TotalPurchaseYTD></IndividualSurvey>\"",
         "C45E8AB8-01BE-4B76-B215-820C8368181A",
         "2009-02-01T00:00:00.000+0000"
        ],
        [
         8,
         "EM",
         "0",
         null,
         "Diane",
         null,
         "Margheim",
         null,
         0,
         null,
         "\"<IndividualSurvey xmlns=\"\"http://schemas.microsoft.com/sqlserver/2004/07/adventure-works/IndividualSurvey\"\"><TotalPurchaseYTD>0</TotalPurchaseYTD></IndividualSurvey>\"",
         "A948E590-4A56-45A9-BC9A-160A1CC9D990",
         "2008-12-22T00:00:00.000+0000"
        ],
        [
         9,
         "EM",
         "0",
         null,
         "Gigi",
         null,
         "Matthew",
         null,
         0,
         null,
         "\"<IndividualSurvey xmlns=\"\"http://schemas.microsoft.com/sqlserver/2004/07/adventure-works/IndividualSurvey\"\"><TotalPurchaseYTD>0</TotalPurchaseYTD></IndividualSurvey>\"",
         "5FC28C0E-6D36-4252-9846-05CAA0B1F6C5",
         "2009-01-09T00:00:00.000+0000"
        ],
        [
         10,
         "EM",
         "0",
         null,
         "Michael",
         null,
         "Raheem",
         null,
         2,
         null,
         "\"<IndividualSurvey xmlns=\"\"http://schemas.microsoft.com/sqlserver/2004/07/adventure-works/IndividualSurvey\"\"><TotalPurchaseYTD>0</TotalPurchaseYTD></IndividualSurvey>\"",
         "CA2C740E-75B2-420C-9D4B-E3CBC6609604",
         "2009-04-26T00:00:00.000+0000"
        ]
       ],
       "datasetInfos": [],
       "dbfsResultPath": null,
       "isJsonSchema": true,
       "metadata": {},
       "overflow": false,
       "plotOptions": {
        "customPlotOptions": {},
        "displayType": "table",
        "pivotAggregation": null,
        "pivotColumns": null,
        "xColumns": null,
        "yColumns": null
       },
       "removedWidgets": [],
       "schema": [
        {
         "metadata": "{}",
         "name": "BusinessEntityID",
         "type": "\"integer\""
        },
        {
         "metadata": "{}",
         "name": "PersonType",
         "type": "\"string\""
        },
        {
         "metadata": "{}",
         "name": "NameStyle",
         "type": "\"string\""
        },
        {
         "metadata": "{}",
         "name": "Title",
         "type": "\"string\""
        },
        {
         "metadata": "{}",
         "name": "FirstName",
         "type": "\"string\""
        },
        {
         "metadata": "{}",
         "name": "MiddleName",
         "type": "\"string\""
        },
        {
         "metadata": "{}",
         "name": "LastName",
         "type": "\"string\""
        },
        {
         "metadata": "{}",
         "name": "Suffix",
         "type": "\"string\""
        },
        {
         "metadata": "{}",
         "name": "EmailPromotion",
         "type": "\"integer\""
        },
        {
         "metadata": "{}",
         "name": "AdditionalContactInfo",
         "type": "\"string\""
        },
        {
         "metadata": "{}",
         "name": "Demographics",
         "type": "\"string\""
        },
        {
         "metadata": "{}",
         "name": "rowguid",
         "type": "\"string\""
        },
        {
         "metadata": "{}",
         "name": "ModifiedDate",
         "type": "\"timestamp\""
        }
       ],
       "type": "table"
      }
     },
     "output_type": "display_data"
    }
   ],
   "source": [
    "from  pyspark.sql.functions import col,to_timestamp\n",
    "person_df = null_replaced.withColumn(\"BusinessEntityID\",col(\"BusinessEntityID\").cast(\"int\"))\\\n",
    ".withColumn(\"EmailPromotion\",col(\"EmailPromotion\").cast(\"int\"))\\\n",
    ".withColumn(\"ModifiedDate\",to_timestamp(col(\"ModifiedDate\"),\"yyyy-MM-dd HH:mm:ss.SSS\"))\n",
    "\n",
    "display(person_df.limit(10))"
   ]
  },
  {
   "cell_type": "code",
   "execution_count": 0,
   "metadata": {
    "application/vnd.databricks.v1+cell": {
     "cellMetadata": {
      "byteLimit": 2048000,
      "rowLimit": 10000
     },
     "inputWidgets": {},
     "nuid": "0da702a0-4ead-4af2-a4b5-caed627ce697",
     "showTitle": false,
     "title": ""
    }
   },
   "outputs": [
    {
     "output_type": "stream",
     "name": "stdout",
     "output_type": "stream",
     "text": [
      "root\n |-- BusinessEntityID: integer (nullable = true)\n |-- PersonType: string (nullable = true)\n |-- NameStyle: string (nullable = true)\n |-- Title: string (nullable = true)\n |-- FirstName: string (nullable = true)\n |-- MiddleName: string (nullable = true)\n |-- LastName: string (nullable = true)\n |-- Suffix: string (nullable = true)\n |-- EmailPromotion: integer (nullable = true)\n |-- AdditionalContactInfo: string (nullable = true)\n |-- Demographics: string (nullable = true)\n |-- rowguid: string (nullable = true)\n |-- ModifiedDate: timestamp (nullable = true)\n\n"
     ]
    }
   ],
   "source": [
    "person_df.printSchema()"
   ]
  },
  {
   "cell_type": "code",
   "execution_count": 0,
   "metadata": {
    "application/vnd.databricks.v1+cell": {
     "cellMetadata": {
      "byteLimit": 2048000,
      "rowLimit": 10000
     },
     "inputWidgets": {},
     "nuid": "be348d46-87cf-4a1e-9c01-0af3b36c4d26",
     "showTitle": false,
     "title": ""
    }
   },
   "outputs": [],
   "source": [
    "#Rename columns\n",
    "person_df = person_df.withColumnRenamed(\"BusinessEntityID\",\"business_entity_id\")\\\n",
    "    .withColumnRenamed(\"PersonType\",\"person_type\").withColumnRenamed(\"NameStyle\",\"name_style\")\\\n",
    "    .withColumnRenamed(\"Title\",\"title\").withColumnRenamed(\"FirstName\",\"first_name\").\\\n",
    "    withColumnRenamed(\"MiddleName\",\"middle_name\").withColumnRenamed(\"LastName\",\"last_name\").\\\n",
    "    withColumnRenamed(\"Suffix\",\"suffix\").withColumnRenamed(\"EmailPromotion\",\"email_promotion\").\\\n",
    "        withColumnRenamed(\"AdditionalContactInfo\",\"additional_contact_info\").withColumnRenamed(\"Demographics\",\"demographics\").withColumnRenamed(\"ModifiedDate\",\"modified_date\")\n",
    "\n"
   ]
  },
  {
   "cell_type": "markdown",
   "metadata": {
    "application/vnd.databricks.v1+cell": {
     "cellMetadata": {},
     "inputWidgets": {},
     "nuid": "509d13d6-10cb-46dc-bc77-34defecb94a0",
     "showTitle": false,
     "title": ""
    }
   },
   "source": [
    "#Ingest the cleaned data to the database"
   ]
  },
  {
   "cell_type": "markdown",
   "metadata": {
    "application/vnd.databricks.v1+cell": {
     "cellMetadata": {},
     "inputWidgets": {},
     "nuid": "62690033-ca69-4c9a-a9f6-40ab7a131a83",
     "showTitle": false,
     "title": ""
    }
   },
   "source": [
    "### Connection to the database"
   ]
  },
  {
   "cell_type": "code",
   "execution_count": 0,
   "metadata": {
    "application/vnd.databricks.v1+cell": {
     "cellMetadata": {
      "byteLimit": 2048000,
      "rowLimit": 10000
     },
     "inputWidgets": {},
     "nuid": "391522a6-5743-4bb2-984d-a17d82a6097c",
     "showTitle": false,
     "title": ""
    }
   },
   "outputs": [],
   "source": [
    "# Get the secrets from the jdbc secret scope.\n",
    "username = dbutils.secrets.get(scope=\"Kv-fab-de-proj-dev\", key=\"kv-soll-dblogin\")\n",
    "password = dbutils.secrets.get(scope=\"Kv-fab-de-proj-dev\", key=\"kv-soll-dbpass\")\n",
    "\n",
    "jdbcHostname = \"srv-fab-projetos.database.windows.net\"\n",
    "jdbcPort = 1433\n",
    "jdbcDatabase = \"db-fab-projetos\"\n",
    "\n",
    "jdbcUrl = \"jdbc:sqlserver://{0}:{1};database={2}\".format(jdbcHostname, jdbcPort, jdbcDatabase)\n",
    "\n",
    "connectionProperties = {\n",
    "  \"user\" : username,\n",
    "  \"password\" : password,\n",
    "  \"driver\" : \"com.microsoft.sqlserver.jdbc.SQLServerDriver\"\n",
    "}\n",
    "\n",
    "table_name = 'sollim.person'"
   ]
  },
  {
   "cell_type": "markdown",
   "metadata": {
    "application/vnd.databricks.v1+cell": {
     "cellMetadata": {},
     "inputWidgets": {},
     "nuid": "1d0e7708-5e52-4888-a665-8d34b1a105ae",
     "showTitle": false,
     "title": ""
    }
   },
   "source": [
    "### Insert into the database\n"
   ]
  },
  {
   "cell_type": "code",
   "execution_count": 0,
   "metadata": {
    "application/vnd.databricks.v1+cell": {
     "cellMetadata": {
      "byteLimit": 2048000,
      "rowLimit": 10000
     },
     "inputWidgets": {},
     "nuid": "12331808-505c-40ad-aeeb-e374dff62930",
     "showTitle": false,
     "title": ""
    }
   },
   "outputs": [],
   "source": [
    "person_df.write \\\n",
    "  .format(\"jdbc\") \\\n",
    "  .option(\"url\", jdbcUrl) \\\n",
    "  .option(\"dbtable\", table_name) \\\n",
    "  .mode(\"overwrite\") \\\n",
    "  .options(**connectionProperties) \\\n",
    "  .save()"
   ]
  },
  {
   "cell_type": "code",
   "execution_count": 0,
   "metadata": {
    "application/vnd.databricks.v1+cell": {
     "cellMetadata": {
      "byteLimit": 2048000,
      "rowLimit": 10000
     },
     "inputWidgets": {},
     "nuid": "d61a9e0f-66ca-499a-a7ea-7d0794fb6f05",
     "showTitle": false,
     "title": ""
    }
   },
   "outputs": [
    {
     "output_type": "stream",
     "name": "stdout",
     "output_type": "stream",
     "text": [
      "/mnt/ingrid-sollim/ has been unmounted.\nOut[14]: True"
     ]
    }
   ],
   "source": [
    "dbutils.fs.unmount(mountpoint)"
   ]
  },
  {
   "cell_type": "code",
   "execution_count": 0,
   "metadata": {
    "application/vnd.databricks.v1+cell": {
     "cellMetadata": {},
     "inputWidgets": {},
     "nuid": "8137f32d-30cb-4f6d-975b-f3d7a22b543a",
     "showTitle": false,
     "title": ""
    }
   },
   "outputs": [],
   "source": []
  }
 ],
 "metadata": {
  "application/vnd.databricks.v1+notebook": {
   "dashboards": [],
   "language": "python",
   "notebookMetadata": {
    "mostRecentlyExecutedCommandWithImplicitDF": {
     "commandId": 3286741429713165,
     "dataframes": [
      "_sqldf"
     ]
    },
    "pythonIndentUnit": 4
   },
   "notebookName": "ROX_Person",
   "widgets": {}
  }
 },
 "nbformat": 4,
 "nbformat_minor": 0
}
