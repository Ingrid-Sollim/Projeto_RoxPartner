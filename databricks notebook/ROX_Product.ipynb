{
 "cells": [
  {
   "cell_type": "markdown",
   "metadata": {
    "application/vnd.databricks.v1+cell": {
     "cellMetadata": {
      "byteLimit": 2048000,
      "rowLimit": 10000
     },
     "inputWidgets": {},
     "nuid": "052113b6-1c3b-43f4-8fa7-f389a0531535",
     "showTitle": false,
     "title": ""
    }
   },
   "source": [
    "# Connection to blob"
   ]
  },
  {
   "cell_type": "code",
   "execution_count": 0,
   "metadata": {
    "application/vnd.databricks.v1+cell": {
     "cellMetadata": {
      "byteLimit": 2048000,
      "rowLimit": 10000
     },
     "inputWidgets": {},
     "nuid": "413a1989-28e5-49fd-8d7d-25a772cd4bf2",
     "showTitle": false,
     "title": ""
    }
   },
   "outputs": [
    {
     "output_type": "stream",
     "name": "stdout",
     "output_type": "stream",
     "text": [
      "/mnt/ingrid-sollim/ has been mounted\n"
     ]
    }
   ],
   "source": [
    "storageAccount = \"datalakefabdeprojetos\"\n",
    "containerName = \"xxxxxxx\"\n",
    "mountpoint = \"/mnt/xxxxxx/\"\n",
    "storageEndpoint = f\"wasbs://{containerName}@{storageAccount}.blob.core.windows.net\" \n",
    "storageKey = dbutils.secrets.get(scope=\"xxxxxx\",key=\"xxxxx\")\n",
    "storageConn = f\"fs.azure.account.key.{storageAccount}.blob.core.windows.net\"\n",
    "try:\n",
    "    if not any(mount.mountPoint==mountpoint for mount in dbutils.fs.mounts()):\n",
    "        dbutils.fs.mount(\n",
    "        source = storageEndpoint,\n",
    "        mount_point = mountpoint,\n",
    "        extra_configs = {storageConn:storageKey}\n",
    "    )\n",
    "        print(f\"{mountpoint} has been mounted\")\n",
    "    else:\n",
    "        print(f\"Mount point '{mountpoint}' is already mounted.\")\n",
    "except Exception as e:\n",
    "    raise e  # Re-raise the exception if mounting fails\n"
   ]
  },
  {
   "cell_type": "code",
   "execution_count": 0,
   "metadata": {
    "application/vnd.databricks.v1+cell": {
     "cellMetadata": {
      "byteLimit": 2048000,
      "rowLimit": 10000
     },
     "inputWidgets": {},
     "nuid": "2614625f-8c72-4645-a634-d36f6368161d",
     "showTitle": false,
     "title": ""
    }
   },
   "outputs": [
    {
     "output_type": "display_data",
     "data": {
      "text/html": [
       "<style scoped>\n",
       "  .table-result-container {\n",
       "    max-height: 300px;\n",
       "    overflow: auto;\n",
       "  }\n",
       "  table, th, td {\n",
       "    border: 1px solid black;\n",
       "    border-collapse: collapse;\n",
       "  }\n",
       "  th, td {\n",
       "    padding: 5px;\n",
       "  }\n",
       "  th {\n",
       "    text-align: left;\n",
       "  }\n",
       "</style><div class='table-result-container'><table class='table-result'><thead style='background-color: white'><tr><th>path</th><th>name</th><th>size</th><th>modificationTime</th></tr></thead><tbody><tr><td>dbfs:/mnt/ingrid-sollim/bikes/customer.csv</td><td>customer.csv</td><td>1813963</td><td>1694474860000</td></tr><tr><td>dbfs:/mnt/ingrid-sollim/bikes/person.csv</td><td>person.csv</td><td>13646947</td><td>1694474860000</td></tr><tr><td>dbfs:/mnt/ingrid-sollim/bikes/product.csv</td><td>product.csv</td><td>104823</td><td>1694474860000</td></tr><tr><td>dbfs:/mnt/ingrid-sollim/bikes/salesorderdetail.csv</td><td>salesorderdetail.csv</td><td>13801182</td><td>1694474860000</td></tr><tr><td>dbfs:/mnt/ingrid-sollim/bikes/salesorderheader.csv</td><td>salesorderheader.csv</td><td>8267704</td><td>1694474862000</td></tr><tr><td>dbfs:/mnt/ingrid-sollim/bikes/spoffer.csv</td><td>spoffer.csv</td><td>36680</td><td>1694474860000</td></tr></tbody></table></div>"
      ]
     },
     "metadata": {
      "application/vnd.databricks.v1+output": {
       "addedWidgets": {},
       "aggData": [],
       "aggError": "",
       "aggOverflow": false,
       "aggSchema": [],
       "aggSeriesLimitReached": false,
       "aggType": "",
       "arguments": {},
       "columnCustomDisplayInfos": {},
       "data": [
        [
         "dbfs:/mnt/ingrid-sollim/bikes/customer.csv",
         "customer.csv",
         1813963,
         1694474860000
        ],
        [
         "dbfs:/mnt/ingrid-sollim/bikes/person.csv",
         "person.csv",
         13646947,
         1694474860000
        ],
        [
         "dbfs:/mnt/ingrid-sollim/bikes/product.csv",
         "product.csv",
         104823,
         1694474860000
        ],
        [
         "dbfs:/mnt/ingrid-sollim/bikes/salesorderdetail.csv",
         "salesorderdetail.csv",
         13801182,
         1694474860000
        ],
        [
         "dbfs:/mnt/ingrid-sollim/bikes/salesorderheader.csv",
         "salesorderheader.csv",
         8267704,
         1694474862000
        ],
        [
         "dbfs:/mnt/ingrid-sollim/bikes/spoffer.csv",
         "spoffer.csv",
         36680,
         1694474860000
        ]
       ],
       "datasetInfos": [],
       "dbfsResultPath": null,
       "isJsonSchema": true,
       "metadata": {},
       "overflow": false,
       "plotOptions": {
        "customPlotOptions": {},
        "displayType": "table",
        "pivotAggregation": null,
        "pivotColumns": null,
        "xColumns": null,
        "yColumns": null
       },
       "removedWidgets": [],
       "schema": [
        {
         "metadata": "{}",
         "name": "path",
         "type": "\"string\""
        },
        {
         "metadata": "{}",
         "name": "name",
         "type": "\"string\""
        },
        {
         "metadata": "{}",
         "name": "size",
         "type": "\"long\""
        },
        {
         "metadata": "{}",
         "name": "modificationTime",
         "type": "\"long\""
        }
       ],
       "type": "table"
      }
     },
     "output_type": "display_data"
    }
   ],
   "source": [
    "path=mountpoint+\"bikes\"\n",
    "display(dbutils.fs.ls(path))"
   ]
  },
  {
   "cell_type": "code",
   "execution_count": 0,
   "metadata": {
    "application/vnd.databricks.v1+cell": {
     "cellMetadata": {
      "byteLimit": 2048000,
      "rowLimit": 10000
     },
     "inputWidgets": {},
     "nuid": "351ed6b9-443e-475a-8136-3c54a806d70b",
     "showTitle": false,
     "title": ""
    }
   },
   "outputs": [
    {
     "output_type": "display_data",
     "data": {
      "text/html": [
       "<style scoped>\n",
       "  .table-result-container {\n",
       "    max-height: 300px;\n",
       "    overflow: auto;\n",
       "  }\n",
       "  table, th, td {\n",
       "    border: 1px solid black;\n",
       "    border-collapse: collapse;\n",
       "  }\n",
       "  th, td {\n",
       "    padding: 5px;\n",
       "  }\n",
       "  th {\n",
       "    text-align: left;\n",
       "  }\n",
       "</style><div class='table-result-container'><table class='table-result'><thead style='background-color: white'><tr><th>ProductID</th><th>Name</th><th>ProductNumber</th><th>MakeFlag</th><th>FinishedGoodsFlag</th><th>Color</th><th>SafetyStockLevel</th><th>ReorderPoint</th><th>StandardCost</th><th>ListPrice</th><th>Size</th><th>SizeUnitMeasureCode</th><th>WeightUnitMeasureCode</th><th>Weight</th><th>DaysToManufacture</th><th>ProductLine</th><th>Class</th><th>Style</th><th>ProductSubcategoryID</th><th>ProductModelID</th><th>SellStartDate</th><th>SellEndDate</th><th>DiscontinuedDate</th><th>rowguid</th><th>ModifiedDate</th></tr></thead><tbody><tr><td>1</td><td>Adjustable Race</td><td>AR-5381</td><td>0</td><td>0</td><td>NULL</td><td>1000</td><td>750</td><td>0,00</td><td>0,00</td><td>NULL</td><td>NULL</td><td>NULL</td><td>NULL</td><td>0</td><td>NULL</td><td>NULL</td><td>NULL</td><td>NULL</td><td>NULL</td><td>2008-04-30 00:00:00.000</td><td>NULL</td><td>NULL</td><td>694215B7-08F7-4C0D-ACB1-D734BA44C0C8</td><td>2014-02-08 10:01:36.827</td></tr><tr><td>2</td><td>Bearing Ball</td><td>BA-8327</td><td>0</td><td>0</td><td>NULL</td><td>1000</td><td>750</td><td>0,00</td><td>0,00</td><td>NULL</td><td>NULL</td><td>NULL</td><td>NULL</td><td>0</td><td>NULL</td><td>NULL</td><td>NULL</td><td>NULL</td><td>NULL</td><td>2008-04-30 00:00:00.000</td><td>NULL</td><td>NULL</td><td>58AE3C20-4F3A-4749-A7D4-D568806CC537</td><td>2014-02-08 10:01:36.827</td></tr><tr><td>3</td><td>BB Ball Bearing</td><td>BE-2349</td><td>1</td><td>0</td><td>NULL</td><td>800</td><td>600</td><td>0,00</td><td>0,00</td><td>NULL</td><td>NULL</td><td>NULL</td><td>NULL</td><td>1</td><td>NULL</td><td>NULL</td><td>NULL</td><td>NULL</td><td>NULL</td><td>2008-04-30 00:00:00.000</td><td>NULL</td><td>NULL</td><td>9C21AED2-5BFA-4F18-BCB8-F11638DC2E4E</td><td>2014-02-08 10:01:36.827</td></tr><tr><td>4</td><td>Headset Ball Bearings</td><td>BE-2908</td><td>0</td><td>0</td><td>NULL</td><td>800</td><td>600</td><td>0,00</td><td>0,00</td><td>NULL</td><td>NULL</td><td>NULL</td><td>NULL</td><td>0</td><td>NULL</td><td>NULL</td><td>NULL</td><td>NULL</td><td>NULL</td><td>2008-04-30 00:00:00.000</td><td>NULL</td><td>NULL</td><td>ECFED6CB-51FF-49B5-B06C-7D8AC834DB8B</td><td>2014-02-08 10:01:36.827</td></tr><tr><td>316</td><td>Blade</td><td>BL-2036</td><td>1</td><td>0</td><td>NULL</td><td>800</td><td>600</td><td>0,00</td><td>0,00</td><td>NULL</td><td>NULL</td><td>NULL</td><td>NULL</td><td>1</td><td>NULL</td><td>NULL</td><td>NULL</td><td>NULL</td><td>NULL</td><td>2008-04-30 00:00:00.000</td><td>NULL</td><td>NULL</td><td>E73E9750-603B-4131-89F5-3DD15ED5FF80</td><td>2014-02-08 10:01:36.827</td></tr><tr><td>317</td><td>LL Crankarm</td><td>CA-5965</td><td>0</td><td>0</td><td>Black</td><td>500</td><td>375</td><td>0,00</td><td>0,00</td><td>NULL</td><td>NULL</td><td>NULL</td><td>NULL</td><td>0</td><td>NULL</td><td>L </td><td>NULL</td><td>NULL</td><td>NULL</td><td>2008-04-30 00:00:00.000</td><td>NULL</td><td>NULL</td><td>3C9D10B7-A6B2-4774-9963-C19DCEE72FEA</td><td>2014-02-08 10:01:36.827</td></tr><tr><td>318</td><td>ML Crankarm</td><td>CA-6738</td><td>0</td><td>0</td><td>Black</td><td>500</td><td>375</td><td>0,00</td><td>0,00</td><td>NULL</td><td>NULL</td><td>NULL</td><td>NULL</td><td>0</td><td>NULL</td><td>M </td><td>NULL</td><td>NULL</td><td>NULL</td><td>2008-04-30 00:00:00.000</td><td>NULL</td><td>NULL</td><td>EABB9A92-FA07-4EAB-8955-F0517B4A4CA7</td><td>2014-02-08 10:01:36.827</td></tr><tr><td>319</td><td>HL Crankarm</td><td>CA-7457</td><td>0</td><td>0</td><td>Black</td><td>500</td><td>375</td><td>0,00</td><td>0,00</td><td>NULL</td><td>NULL</td><td>NULL</td><td>NULL</td><td>0</td><td>NULL</td><td>NULL</td><td>NULL</td><td>NULL</td><td>NULL</td><td>2008-04-30 00:00:00.000</td><td>NULL</td><td>NULL</td><td>7D3FD384-4F29-484B-86FA-4206E276FE58</td><td>2014-02-08 10:01:36.827</td></tr><tr><td>320</td><td>Chainring Bolts</td><td>CB-2903</td><td>0</td><td>0</td><td>Silver</td><td>1000</td><td>750</td><td>0,00</td><td>0,00</td><td>NULL</td><td>NULL</td><td>NULL</td><td>NULL</td><td>0</td><td>NULL</td><td>NULL</td><td>NULL</td><td>NULL</td><td>NULL</td><td>2008-04-30 00:00:00.000</td><td>NULL</td><td>NULL</td><td>7BE38E48-B7D6-4486-888E-F53C26735101</td><td>2014-02-08 10:01:36.827</td></tr><tr><td>321</td><td>Chainring Nut</td><td>CN-6137</td><td>0</td><td>0</td><td>Silver</td><td>1000</td><td>750</td><td>0,00</td><td>0,00</td><td>NULL</td><td>NULL</td><td>NULL</td><td>NULL</td><td>0</td><td>NULL</td><td>NULL</td><td>NULL</td><td>NULL</td><td>NULL</td><td>2008-04-30 00:00:00.000</td><td>NULL</td><td>NULL</td><td>3314B1D7-EF69-4431-B6DD-DC75268BD5DF</td><td>2014-02-08 10:01:36.827</td></tr></tbody></table></div>"
      ]
     },
     "metadata": {
      "application/vnd.databricks.v1+output": {
       "addedWidgets": {},
       "aggData": [],
       "aggError": "",
       "aggOverflow": false,
       "aggSchema": [],
       "aggSeriesLimitReached": false,
       "aggType": "",
       "arguments": {},
       "columnCustomDisplayInfos": {},
       "data": [
        [
         "1",
         "Adjustable Race",
         "AR-5381",
         "0",
         "0",
         "NULL",
         "1000",
         "750",
         "0,00",
         "0,00",
         "NULL",
         "NULL",
         "NULL",
         "NULL",
         "0",
         "NULL",
         "NULL",
         "NULL",
         "NULL",
         "NULL",
         "2008-04-30 00:00:00.000",
         "NULL",
         "NULL",
         "694215B7-08F7-4C0D-ACB1-D734BA44C0C8",
         "2014-02-08 10:01:36.827"
        ],
        [
         "2",
         "Bearing Ball",
         "BA-8327",
         "0",
         "0",
         "NULL",
         "1000",
         "750",
         "0,00",
         "0,00",
         "NULL",
         "NULL",
         "NULL",
         "NULL",
         "0",
         "NULL",
         "NULL",
         "NULL",
         "NULL",
         "NULL",
         "2008-04-30 00:00:00.000",
         "NULL",
         "NULL",
         "58AE3C20-4F3A-4749-A7D4-D568806CC537",
         "2014-02-08 10:01:36.827"
        ],
        [
         "3",
         "BB Ball Bearing",
         "BE-2349",
         "1",
         "0",
         "NULL",
         "800",
         "600",
         "0,00",
         "0,00",
         "NULL",
         "NULL",
         "NULL",
         "NULL",
         "1",
         "NULL",
         "NULL",
         "NULL",
         "NULL",
         "NULL",
         "2008-04-30 00:00:00.000",
         "NULL",
         "NULL",
         "9C21AED2-5BFA-4F18-BCB8-F11638DC2E4E",
         "2014-02-08 10:01:36.827"
        ],
        [
         "4",
         "Headset Ball Bearings",
         "BE-2908",
         "0",
         "0",
         "NULL",
         "800",
         "600",
         "0,00",
         "0,00",
         "NULL",
         "NULL",
         "NULL",
         "NULL",
         "0",
         "NULL",
         "NULL",
         "NULL",
         "NULL",
         "NULL",
         "2008-04-30 00:00:00.000",
         "NULL",
         "NULL",
         "ECFED6CB-51FF-49B5-B06C-7D8AC834DB8B",
         "2014-02-08 10:01:36.827"
        ],
        [
         "316",
         "Blade",
         "BL-2036",
         "1",
         "0",
         "NULL",
         "800",
         "600",
         "0,00",
         "0,00",
         "NULL",
         "NULL",
         "NULL",
         "NULL",
         "1",
         "NULL",
         "NULL",
         "NULL",
         "NULL",
         "NULL",
         "2008-04-30 00:00:00.000",
         "NULL",
         "NULL",
         "E73E9750-603B-4131-89F5-3DD15ED5FF80",
         "2014-02-08 10:01:36.827"
        ],
        [
         "317",
         "LL Crankarm",
         "CA-5965",
         "0",
         "0",
         "Black",
         "500",
         "375",
         "0,00",
         "0,00",
         "NULL",
         "NULL",
         "NULL",
         "NULL",
         "0",
         "NULL",
         "L ",
         "NULL",
         "NULL",
         "NULL",
         "2008-04-30 00:00:00.000",
         "NULL",
         "NULL",
         "3C9D10B7-A6B2-4774-9963-C19DCEE72FEA",
         "2014-02-08 10:01:36.827"
        ],
        [
         "318",
         "ML Crankarm",
         "CA-6738",
         "0",
         "0",
         "Black",
         "500",
         "375",
         "0,00",
         "0,00",
         "NULL",
         "NULL",
         "NULL",
         "NULL",
         "0",
         "NULL",
         "M ",
         "NULL",
         "NULL",
         "NULL",
         "2008-04-30 00:00:00.000",
         "NULL",
         "NULL",
         "EABB9A92-FA07-4EAB-8955-F0517B4A4CA7",
         "2014-02-08 10:01:36.827"
        ],
        [
         "319",
         "HL Crankarm",
         "CA-7457",
         "0",
         "0",
         "Black",
         "500",
         "375",
         "0,00",
         "0,00",
         "NULL",
         "NULL",
         "NULL",
         "NULL",
         "0",
         "NULL",
         "NULL",
         "NULL",
         "NULL",
         "NULL",
         "2008-04-30 00:00:00.000",
         "NULL",
         "NULL",
         "7D3FD384-4F29-484B-86FA-4206E276FE58",
         "2014-02-08 10:01:36.827"
        ],
        [
         "320",
         "Chainring Bolts",
         "CB-2903",
         "0",
         "0",
         "Silver",
         "1000",
         "750",
         "0,00",
         "0,00",
         "NULL",
         "NULL",
         "NULL",
         "NULL",
         "0",
         "NULL",
         "NULL",
         "NULL",
         "NULL",
         "NULL",
         "2008-04-30 00:00:00.000",
         "NULL",
         "NULL",
         "7BE38E48-B7D6-4486-888E-F53C26735101",
         "2014-02-08 10:01:36.827"
        ],
        [
         "321",
         "Chainring Nut",
         "CN-6137",
         "0",
         "0",
         "Silver",
         "1000",
         "750",
         "0,00",
         "0,00",
         "NULL",
         "NULL",
         "NULL",
         "NULL",
         "0",
         "NULL",
         "NULL",
         "NULL",
         "NULL",
         "NULL",
         "2008-04-30 00:00:00.000",
         "NULL",
         "NULL",
         "3314B1D7-EF69-4431-B6DD-DC75268BD5DF",
         "2014-02-08 10:01:36.827"
        ]
       ],
       "datasetInfos": [],
       "dbfsResultPath": null,
       "isJsonSchema": true,
       "metadata": {},
       "overflow": false,
       "plotOptions": {
        "customPlotOptions": {},
        "displayType": "table",
        "pivotAggregation": null,
        "pivotColumns": null,
        "xColumns": null,
        "yColumns": null
       },
       "removedWidgets": [],
       "schema": [
        {
         "metadata": "{}",
         "name": "ProductID",
         "type": "\"string\""
        },
        {
         "metadata": "{}",
         "name": "Name",
         "type": "\"string\""
        },
        {
         "metadata": "{}",
         "name": "ProductNumber",
         "type": "\"string\""
        },
        {
         "metadata": "{}",
         "name": "MakeFlag",
         "type": "\"string\""
        },
        {
         "metadata": "{}",
         "name": "FinishedGoodsFlag",
         "type": "\"string\""
        },
        {
         "metadata": "{}",
         "name": "Color",
         "type": "\"string\""
        },
        {
         "metadata": "{}",
         "name": "SafetyStockLevel",
         "type": "\"string\""
        },
        {
         "metadata": "{}",
         "name": "ReorderPoint",
         "type": "\"string\""
        },
        {
         "metadata": "{}",
         "name": "StandardCost",
         "type": "\"string\""
        },
        {
         "metadata": "{}",
         "name": "ListPrice",
         "type": "\"string\""
        },
        {
         "metadata": "{}",
         "name": "Size",
         "type": "\"string\""
        },
        {
         "metadata": "{}",
         "name": "SizeUnitMeasureCode",
         "type": "\"string\""
        },
        {
         "metadata": "{}",
         "name": "WeightUnitMeasureCode",
         "type": "\"string\""
        },
        {
         "metadata": "{}",
         "name": "Weight",
         "type": "\"string\""
        },
        {
         "metadata": "{}",
         "name": "DaysToManufacture",
         "type": "\"string\""
        },
        {
         "metadata": "{}",
         "name": "ProductLine",
         "type": "\"string\""
        },
        {
         "metadata": "{}",
         "name": "Class",
         "type": "\"string\""
        },
        {
         "metadata": "{}",
         "name": "Style",
         "type": "\"string\""
        },
        {
         "metadata": "{}",
         "name": "ProductSubcategoryID",
         "type": "\"string\""
        },
        {
         "metadata": "{}",
         "name": "ProductModelID",
         "type": "\"string\""
        },
        {
         "metadata": "{}",
         "name": "SellStartDate",
         "type": "\"string\""
        },
        {
         "metadata": "{}",
         "name": "SellEndDate",
         "type": "\"string\""
        },
        {
         "metadata": "{}",
         "name": "DiscontinuedDate",
         "type": "\"string\""
        },
        {
         "metadata": "{}",
         "name": "rowguid",
         "type": "\"string\""
        },
        {
         "metadata": "{}",
         "name": "ModifiedDate",
         "type": "\"string\""
        }
       ],
       "type": "table"
      }
     },
     "output_type": "display_data"
    }
   ],
   "source": [
    "df = spark.read.option(\"header\",True).options(delimiter=\";\").csv(path+\"/product.csv\")\n",
    "display(df.limit(10))"
   ]
  },
  {
   "cell_type": "code",
   "execution_count": 0,
   "metadata": {
    "application/vnd.databricks.v1+cell": {
     "cellMetadata": {
      "byteLimit": 2048000,
      "rowLimit": 10000
     },
     "inputWidgets": {},
     "nuid": "2397217a-f1c8-469f-90a6-ffa8e7bfac5a",
     "showTitle": false,
     "title": ""
    }
   },
   "outputs": [],
   "source": [
    "from pyspark.sql.functions import expr, col, regexp_replace,regexp_extract,when, to_date,to_timestamp"
   ]
  },
  {
   "cell_type": "markdown",
   "metadata": {
    "application/vnd.databricks.v1+cell": {
     "cellMetadata": {
      "byteLimit": 2048000,
      "rowLimit": 10000
     },
     "inputWidgets": {},
     "nuid": "f8e6004e-848a-4d63-9fdc-1c65163189fb",
     "showTitle": false,
     "title": ""
    }
   },
   "source": [
    "#Check for missing data"
   ]
  },
  {
   "cell_type": "code",
   "execution_count": 0,
   "metadata": {
    "application/vnd.databricks.v1+cell": {
     "cellMetadata": {
      "byteLimit": 2048000,
      "rowLimit": 10000
     },
     "inputWidgets": {},
     "nuid": "9b633f4e-0816-4979-a959-e7e7bdb371e9",
     "showTitle": false,
     "title": ""
    }
   },
   "outputs": [
    {
     "output_type": "display_data",
     "data": {
      "text/html": [
       "<style scoped>\n",
       "  .table-result-container {\n",
       "    max-height: 300px;\n",
       "    overflow: auto;\n",
       "  }\n",
       "  table, th, td {\n",
       "    border: 1px solid black;\n",
       "    border-collapse: collapse;\n",
       "  }\n",
       "  th, td {\n",
       "    padding: 5px;\n",
       "  }\n",
       "  th {\n",
       "    text-align: left;\n",
       "  }\n",
       "</style><div class='table-result-container'><table class='table-result'><thead style='background-color: white'><tr><th>ProductID</th><th>Name</th><th>ProductNumber</th><th>MakeFlag</th><th>FinishedGoodsFlag</th><th>Color</th><th>SafetyStockLevel</th><th>ReorderPoint</th><th>StandardCost</th><th>ListPrice</th><th>Size</th><th>SizeUnitMeasureCode</th><th>WeightUnitMeasureCode</th><th>Weight</th><th>DaysToManufacture</th><th>ProductLine</th><th>Class</th><th>Style</th><th>ProductSubcategoryID</th><th>ProductModelID</th><th>SellStartDate</th><th>SellEndDate</th><th>DiscontinuedDate</th><th>rowguid</th><th>ModifiedDate</th></tr></thead><tbody><tr><td>1</td><td>Adjustable Race</td><td>AR-5381</td><td>0</td><td>0</td><td>null</td><td>1000</td><td>750</td><td>0,00</td><td>0,00</td><td>null</td><td>null</td><td>null</td><td>null</td><td>0</td><td>null</td><td>null</td><td>null</td><td>null</td><td>null</td><td>2008-04-30 00:00:00.000</td><td>null</td><td>null</td><td>694215B7-08F7-4C0D-ACB1-D734BA44C0C8</td><td>2014-02-08 10:01:36.827</td></tr><tr><td>2</td><td>Bearing Ball</td><td>BA-8327</td><td>0</td><td>0</td><td>null</td><td>1000</td><td>750</td><td>0,00</td><td>0,00</td><td>null</td><td>null</td><td>null</td><td>null</td><td>0</td><td>null</td><td>null</td><td>null</td><td>null</td><td>null</td><td>2008-04-30 00:00:00.000</td><td>null</td><td>null</td><td>58AE3C20-4F3A-4749-A7D4-D568806CC537</td><td>2014-02-08 10:01:36.827</td></tr><tr><td>3</td><td>BB Ball Bearing</td><td>BE-2349</td><td>1</td><td>0</td><td>null</td><td>800</td><td>600</td><td>0,00</td><td>0,00</td><td>null</td><td>null</td><td>null</td><td>null</td><td>1</td><td>null</td><td>null</td><td>null</td><td>null</td><td>null</td><td>2008-04-30 00:00:00.000</td><td>null</td><td>null</td><td>9C21AED2-5BFA-4F18-BCB8-F11638DC2E4E</td><td>2014-02-08 10:01:36.827</td></tr><tr><td>4</td><td>Headset Ball Bearings</td><td>BE-2908</td><td>0</td><td>0</td><td>null</td><td>800</td><td>600</td><td>0,00</td><td>0,00</td><td>null</td><td>null</td><td>null</td><td>null</td><td>0</td><td>null</td><td>null</td><td>null</td><td>null</td><td>null</td><td>2008-04-30 00:00:00.000</td><td>null</td><td>null</td><td>ECFED6CB-51FF-49B5-B06C-7D8AC834DB8B</td><td>2014-02-08 10:01:36.827</td></tr><tr><td>316</td><td>Blade</td><td>BL-2036</td><td>1</td><td>0</td><td>null</td><td>800</td><td>600</td><td>0,00</td><td>0,00</td><td>null</td><td>null</td><td>null</td><td>null</td><td>1</td><td>null</td><td>null</td><td>null</td><td>null</td><td>null</td><td>2008-04-30 00:00:00.000</td><td>null</td><td>null</td><td>E73E9750-603B-4131-89F5-3DD15ED5FF80</td><td>2014-02-08 10:01:36.827</td></tr><tr><td>317</td><td>LL Crankarm</td><td>CA-5965</td><td>0</td><td>0</td><td>Black</td><td>500</td><td>375</td><td>0,00</td><td>0,00</td><td>null</td><td>null</td><td>null</td><td>null</td><td>0</td><td>null</td><td>L </td><td>null</td><td>null</td><td>null</td><td>2008-04-30 00:00:00.000</td><td>null</td><td>null</td><td>3C9D10B7-A6B2-4774-9963-C19DCEE72FEA</td><td>2014-02-08 10:01:36.827</td></tr><tr><td>318</td><td>ML Crankarm</td><td>CA-6738</td><td>0</td><td>0</td><td>Black</td><td>500</td><td>375</td><td>0,00</td><td>0,00</td><td>null</td><td>null</td><td>null</td><td>null</td><td>0</td><td>null</td><td>M </td><td>null</td><td>null</td><td>null</td><td>2008-04-30 00:00:00.000</td><td>null</td><td>null</td><td>EABB9A92-FA07-4EAB-8955-F0517B4A4CA7</td><td>2014-02-08 10:01:36.827</td></tr><tr><td>319</td><td>HL Crankarm</td><td>CA-7457</td><td>0</td><td>0</td><td>Black</td><td>500</td><td>375</td><td>0,00</td><td>0,00</td><td>null</td><td>null</td><td>null</td><td>null</td><td>0</td><td>null</td><td>null</td><td>null</td><td>null</td><td>null</td><td>2008-04-30 00:00:00.000</td><td>null</td><td>null</td><td>7D3FD384-4F29-484B-86FA-4206E276FE58</td><td>2014-02-08 10:01:36.827</td></tr><tr><td>320</td><td>Chainring Bolts</td><td>CB-2903</td><td>0</td><td>0</td><td>Silver</td><td>1000</td><td>750</td><td>0,00</td><td>0,00</td><td>null</td><td>null</td><td>null</td><td>null</td><td>0</td><td>null</td><td>null</td><td>null</td><td>null</td><td>null</td><td>2008-04-30 00:00:00.000</td><td>null</td><td>null</td><td>7BE38E48-B7D6-4486-888E-F53C26735101</td><td>2014-02-08 10:01:36.827</td></tr><tr><td>321</td><td>Chainring Nut</td><td>CN-6137</td><td>0</td><td>0</td><td>Silver</td><td>1000</td><td>750</td><td>0,00</td><td>0,00</td><td>null</td><td>null</td><td>null</td><td>null</td><td>0</td><td>null</td><td>null</td><td>null</td><td>null</td><td>null</td><td>2008-04-30 00:00:00.000</td><td>null</td><td>null</td><td>3314B1D7-EF69-4431-B6DD-DC75268BD5DF</td><td>2014-02-08 10:01:36.827</td></tr></tbody></table></div>"
      ]
     },
     "metadata": {
      "application/vnd.databricks.v1+output": {
       "addedWidgets": {},
       "aggData": [],
       "aggError": "",
       "aggOverflow": false,
       "aggSchema": [],
       "aggSeriesLimitReached": false,
       "aggType": "",
       "arguments": {},
       "columnCustomDisplayInfos": {},
       "data": [
        [
         "1",
         "Adjustable Race",
         "AR-5381",
         "0",
         "0",
         null,
         "1000",
         "750",
         "0,00",
         "0,00",
         null,
         null,
         null,
         null,
         "0",
         null,
         null,
         null,
         null,
         null,
         "2008-04-30 00:00:00.000",
         null,
         null,
         "694215B7-08F7-4C0D-ACB1-D734BA44C0C8",
         "2014-02-08 10:01:36.827"
        ],
        [
         "2",
         "Bearing Ball",
         "BA-8327",
         "0",
         "0",
         null,
         "1000",
         "750",
         "0,00",
         "0,00",
         null,
         null,
         null,
         null,
         "0",
         null,
         null,
         null,
         null,
         null,
         "2008-04-30 00:00:00.000",
         null,
         null,
         "58AE3C20-4F3A-4749-A7D4-D568806CC537",
         "2014-02-08 10:01:36.827"
        ],
        [
         "3",
         "BB Ball Bearing",
         "BE-2349",
         "1",
         "0",
         null,
         "800",
         "600",
         "0,00",
         "0,00",
         null,
         null,
         null,
         null,
         "1",
         null,
         null,
         null,
         null,
         null,
         "2008-04-30 00:00:00.000",
         null,
         null,
         "9C21AED2-5BFA-4F18-BCB8-F11638DC2E4E",
         "2014-02-08 10:01:36.827"
        ],
        [
         "4",
         "Headset Ball Bearings",
         "BE-2908",
         "0",
         "0",
         null,
         "800",
         "600",
         "0,00",
         "0,00",
         null,
         null,
         null,
         null,
         "0",
         null,
         null,
         null,
         null,
         null,
         "2008-04-30 00:00:00.000",
         null,
         null,
         "ECFED6CB-51FF-49B5-B06C-7D8AC834DB8B",
         "2014-02-08 10:01:36.827"
        ],
        [
         "316",
         "Blade",
         "BL-2036",
         "1",
         "0",
         null,
         "800",
         "600",
         "0,00",
         "0,00",
         null,
         null,
         null,
         null,
         "1",
         null,
         null,
         null,
         null,
         null,
         "2008-04-30 00:00:00.000",
         null,
         null,
         "E73E9750-603B-4131-89F5-3DD15ED5FF80",
         "2014-02-08 10:01:36.827"
        ],
        [
         "317",
         "LL Crankarm",
         "CA-5965",
         "0",
         "0",
         "Black",
         "500",
         "375",
         "0,00",
         "0,00",
         null,
         null,
         null,
         null,
         "0",
         null,
         "L ",
         null,
         null,
         null,
         "2008-04-30 00:00:00.000",
         null,
         null,
         "3C9D10B7-A6B2-4774-9963-C19DCEE72FEA",
         "2014-02-08 10:01:36.827"
        ],
        [
         "318",
         "ML Crankarm",
         "CA-6738",
         "0",
         "0",
         "Black",
         "500",
         "375",
         "0,00",
         "0,00",
         null,
         null,
         null,
         null,
         "0",
         null,
         "M ",
         null,
         null,
         null,
         "2008-04-30 00:00:00.000",
         null,
         null,
         "EABB9A92-FA07-4EAB-8955-F0517B4A4CA7",
         "2014-02-08 10:01:36.827"
        ],
        [
         "319",
         "HL Crankarm",
         "CA-7457",
         "0",
         "0",
         "Black",
         "500",
         "375",
         "0,00",
         "0,00",
         null,
         null,
         null,
         null,
         "0",
         null,
         null,
         null,
         null,
         null,
         "2008-04-30 00:00:00.000",
         null,
         null,
         "7D3FD384-4F29-484B-86FA-4206E276FE58",
         "2014-02-08 10:01:36.827"
        ],
        [
         "320",
         "Chainring Bolts",
         "CB-2903",
         "0",
         "0",
         "Silver",
         "1000",
         "750",
         "0,00",
         "0,00",
         null,
         null,
         null,
         null,
         "0",
         null,
         null,
         null,
         null,
         null,
         "2008-04-30 00:00:00.000",
         null,
         null,
         "7BE38E48-B7D6-4486-888E-F53C26735101",
         "2014-02-08 10:01:36.827"
        ],
        [
         "321",
         "Chainring Nut",
         "CN-6137",
         "0",
         "0",
         "Silver",
         "1000",
         "750",
         "0,00",
         "0,00",
         null,
         null,
         null,
         null,
         "0",
         null,
         null,
         null,
         null,
         null,
         "2008-04-30 00:00:00.000",
         null,
         null,
         "3314B1D7-EF69-4431-B6DD-DC75268BD5DF",
         "2014-02-08 10:01:36.827"
        ]
       ],
       "datasetInfos": [],
       "dbfsResultPath": null,
       "isJsonSchema": true,
       "metadata": {},
       "overflow": false,
       "plotOptions": {
        "customPlotOptions": {},
        "displayType": "table",
        "pivotAggregation": null,
        "pivotColumns": null,
        "xColumns": null,
        "yColumns": null
       },
       "removedWidgets": [],
       "schema": [
        {
         "metadata": "{}",
         "name": "ProductID",
         "type": "\"string\""
        },
        {
         "metadata": "{}",
         "name": "Name",
         "type": "\"string\""
        },
        {
         "metadata": "{}",
         "name": "ProductNumber",
         "type": "\"string\""
        },
        {
         "metadata": "{}",
         "name": "MakeFlag",
         "type": "\"string\""
        },
        {
         "metadata": "{}",
         "name": "FinishedGoodsFlag",
         "type": "\"string\""
        },
        {
         "metadata": "{}",
         "name": "Color",
         "type": "\"string\""
        },
        {
         "metadata": "{}",
         "name": "SafetyStockLevel",
         "type": "\"string\""
        },
        {
         "metadata": "{}",
         "name": "ReorderPoint",
         "type": "\"string\""
        },
        {
         "metadata": "{}",
         "name": "StandardCost",
         "type": "\"string\""
        },
        {
         "metadata": "{}",
         "name": "ListPrice",
         "type": "\"string\""
        },
        {
         "metadata": "{}",
         "name": "Size",
         "type": "\"string\""
        },
        {
         "metadata": "{}",
         "name": "SizeUnitMeasureCode",
         "type": "\"string\""
        },
        {
         "metadata": "{}",
         "name": "WeightUnitMeasureCode",
         "type": "\"string\""
        },
        {
         "metadata": "{}",
         "name": "Weight",
         "type": "\"string\""
        },
        {
         "metadata": "{}",
         "name": "DaysToManufacture",
         "type": "\"string\""
        },
        {
         "metadata": "{}",
         "name": "ProductLine",
         "type": "\"string\""
        },
        {
         "metadata": "{}",
         "name": "Class",
         "type": "\"string\""
        },
        {
         "metadata": "{}",
         "name": "Style",
         "type": "\"string\""
        },
        {
         "metadata": "{}",
         "name": "ProductSubcategoryID",
         "type": "\"string\""
        },
        {
         "metadata": "{}",
         "name": "ProductModelID",
         "type": "\"string\""
        },
        {
         "metadata": "{}",
         "name": "SellStartDate",
         "type": "\"string\""
        },
        {
         "metadata": "{}",
         "name": "SellEndDate",
         "type": "\"string\""
        },
        {
         "metadata": "{}",
         "name": "DiscontinuedDate",
         "type": "\"string\""
        },
        {
         "metadata": "{}",
         "name": "rowguid",
         "type": "\"string\""
        },
        {
         "metadata": "{}",
         "name": "ModifiedDate",
         "type": "\"string\""
        }
       ],
       "type": "table"
      }
     },
     "output_type": "display_data"
    }
   ],
   "source": [
    "#Replace NULL string for null values \n",
    "def replace_string_null(df, columns):\n",
    "    for column_name in columns:\n",
    "        df = df.withColumn(column_name, when(col(column_name) == \"NULL\", None).otherwise(col(column_name)))\n",
    "    return df\n",
    "\n",
    "# Example usage:\n",
    "columns_to_replace = df.columns\n",
    "null_replaced = replace_string_null(df, columns_to_replace)\n",
    "    \n",
    "\n",
    "display(null_replaced.limit(10))\n"
   ]
  },
  {
   "cell_type": "code",
   "execution_count": 0,
   "metadata": {
    "application/vnd.databricks.v1+cell": {
     "cellMetadata": {
      "byteLimit": 2048000,
      "rowLimit": 10000
     },
     "inputWidgets": {},
     "nuid": "e7c3e3fe-0190-4109-bded-d4437fee9baf",
     "showTitle": false,
     "title": ""
    }
   },
   "outputs": [
    {
     "output_type": "display_data",
     "data": {
      "text/html": [
       "<style scoped>\n",
       "  .table-result-container {\n",
       "    max-height: 300px;\n",
       "    overflow: auto;\n",
       "  }\n",
       "  table, th, td {\n",
       "    border: 1px solid black;\n",
       "    border-collapse: collapse;\n",
       "  }\n",
       "  th, td {\n",
       "    padding: 5px;\n",
       "  }\n",
       "  th {\n",
       "    text-align: left;\n",
       "  }\n",
       "</style><div class='table-result-container'><table class='table-result'><thead style='background-color: white'><tr><th>ProductLine</th></tr></thead><tbody><tr><td>null</td></tr><tr><td>S </td></tr><tr><td>M </td></tr><tr><td>R </td></tr><tr><td>T </td></tr></tbody></table></div>"
      ]
     },
     "metadata": {
      "application/vnd.databricks.v1+output": {
       "addedWidgets": {},
       "aggData": [],
       "aggError": "",
       "aggOverflow": false,
       "aggSchema": [],
       "aggSeriesLimitReached": false,
       "aggType": "",
       "arguments": {},
       "columnCustomDisplayInfos": {},
       "data": [
        [
         null
        ],
        [
         "S "
        ],
        [
         "M "
        ],
        [
         "R "
        ],
        [
         "T "
        ]
       ],
       "datasetInfos": [],
       "dbfsResultPath": null,
       "isJsonSchema": true,
       "metadata": {},
       "overflow": false,
       "plotOptions": {
        "customPlotOptions": {},
        "displayType": "table",
        "pivotAggregation": null,
        "pivotColumns": null,
        "xColumns": null,
        "yColumns": null
       },
       "removedWidgets": [],
       "schema": [
        {
         "metadata": "{}",
         "name": "ProductLine",
         "type": "\"string\""
        }
       ],
       "type": "table"
      }
     },
     "output_type": "display_data"
    }
   ],
   "source": [
    "display(null_replaced.select(\"ProductLine\").distinct())"
   ]
  },
  {
   "cell_type": "markdown",
   "metadata": {
    "application/vnd.databricks.v1+cell": {
     "cellMetadata": {
      "byteLimit": 2048000,
      "rowLimit": 10000
     },
     "inputWidgets": {},
     "nuid": "b9a30356-0ae8-41b7-9c16-959fb6f6c73a",
     "showTitle": false,
     "title": ""
    }
   },
   "source": [
    "#Change Data types"
   ]
  },
  {
   "cell_type": "code",
   "execution_count": 0,
   "metadata": {
    "application/vnd.databricks.v1+cell": {
     "cellMetadata": {
      "byteLimit": 2048000,
      "rowLimit": 10000
     },
     "inputWidgets": {},
     "nuid": "eddce4c2-0136-4c44-a308-a97830d13c09",
     "showTitle": false,
     "title": ""
    }
   },
   "outputs": [
    {
     "output_type": "stream",
     "name": "stdout",
     "output_type": "stream",
     "text": [
      "root\n |-- ProductID: string (nullable = true)\n |-- Name: string (nullable = true)\n |-- ProductNumber: string (nullable = true)\n |-- MakeFlag: string (nullable = true)\n |-- FinishedGoodsFlag: string (nullable = true)\n |-- Color: string (nullable = true)\n |-- SafetyStockLevel: string (nullable = true)\n |-- ReorderPoint: string (nullable = true)\n |-- StandardCost: string (nullable = true)\n |-- ListPrice: string (nullable = true)\n |-- Size: string (nullable = true)\n |-- SizeUnitMeasureCode: string (nullable = true)\n |-- WeightUnitMeasureCode: string (nullable = true)\n |-- Weight: string (nullable = true)\n |-- DaysToManufacture: string (nullable = true)\n |-- ProductLine: string (nullable = true)\n |-- Class: string (nullable = true)\n |-- Style: string (nullable = true)\n |-- ProductSubcategoryID: string (nullable = true)\n |-- ProductModelID: string (nullable = true)\n |-- SellStartDate: string (nullable = true)\n |-- SellEndDate: string (nullable = true)\n |-- DiscontinuedDate: string (nullable = true)\n |-- rowguid: string (nullable = true)\n |-- ModifiedDate: string (nullable = true)\n\n"
     ]
    }
   ],
   "source": [
    "null_replaced.printSchema()"
   ]
  },
  {
   "cell_type": "code",
   "execution_count": 0,
   "metadata": {
    "application/vnd.databricks.v1+cell": {
     "cellMetadata": {
      "byteLimit": 2048000,
      "rowLimit": 10000
     },
     "inputWidgets": {},
     "nuid": "4d81b301-2672-4dad-ae5d-acb5dd82221f",
     "showTitle": false,
     "title": ""
    }
   },
   "outputs": [],
   "source": [
    "#replace comma for point\n",
    "comma_replaced = null_replaced.withColumn(\"StandardCost\",regexp_replace(\"StandardCost\",\",\",\".\")).\\\n",
    "withColumn(\"ListPrice\",regexp_replace(\"ListPrice\",\",\",\".\"))\n"
   ]
  },
  {
   "cell_type": "code",
   "execution_count": 0,
   "metadata": {
    "application/vnd.databricks.v1+cell": {
     "cellMetadata": {
      "byteLimit": 2048000,
      "rowLimit": 10000
     },
     "inputWidgets": {},
     "nuid": "5fb058b8-15be-4f28-8f4b-a4ce1f2da069",
     "showTitle": false,
     "title": ""
    }
   },
   "outputs": [
    {
     "output_type": "display_data",
     "data": {
      "text/html": [
       "<style scoped>\n",
       "  .table-result-container {\n",
       "    max-height: 300px;\n",
       "    overflow: auto;\n",
       "  }\n",
       "  table, th, td {\n",
       "    border: 1px solid black;\n",
       "    border-collapse: collapse;\n",
       "  }\n",
       "  th, td {\n",
       "    padding: 5px;\n",
       "  }\n",
       "  th {\n",
       "    text-align: left;\n",
       "  }\n",
       "</style><div class='table-result-container'><table class='table-result'><thead style='background-color: white'><tr><th>ProductID</th><th>Name</th><th>ProductNumber</th><th>MakeFlag</th><th>FinishedGoodsFlag</th><th>Color</th><th>SafetyStockLevel</th><th>ReorderPoint</th><th>StandardCost</th><th>ListPrice</th><th>Size</th><th>SizeUnitMeasureCode</th><th>WeightUnitMeasureCode</th><th>Weight</th><th>DaysToManufacture</th><th>ProductLine</th><th>Class</th><th>Style</th><th>ProductSubcategoryID</th><th>ProductModelID</th><th>SellStartDate</th><th>SellEndDate</th><th>DiscontinuedDate</th><th>rowguid</th><th>ModifiedDate</th></tr></thead><tbody><tr><td>1</td><td>Adjustable Race</td><td>null</td><td>0</td><td>0</td><td>null</td><td>1000</td><td>750</td><td>0.0</td><td>0.0</td><td>null</td><td>null</td><td>null</td><td>null</td><td>0</td><td>null</td><td>null</td><td>null</td><td>null</td><td>null</td><td>2008-04-30</td><td>null</td><td>null</td><td>694215B7-08F7-4C0D-ACB1-D734BA44C0C8</td><td>2014-02-08T10:01:36.827+0000</td></tr><tr><td>2</td><td>Bearing Ball</td><td>null</td><td>0</td><td>0</td><td>null</td><td>1000</td><td>750</td><td>0.0</td><td>0.0</td><td>null</td><td>null</td><td>null</td><td>null</td><td>0</td><td>null</td><td>null</td><td>null</td><td>null</td><td>null</td><td>2008-04-30</td><td>null</td><td>null</td><td>58AE3C20-4F3A-4749-A7D4-D568806CC537</td><td>2014-02-08T10:01:36.827+0000</td></tr><tr><td>3</td><td>BB Ball Bearing</td><td>null</td><td>1</td><td>0</td><td>null</td><td>800</td><td>600</td><td>0.0</td><td>0.0</td><td>null</td><td>null</td><td>null</td><td>null</td><td>1</td><td>null</td><td>null</td><td>null</td><td>null</td><td>null</td><td>2008-04-30</td><td>null</td><td>null</td><td>9C21AED2-5BFA-4F18-BCB8-F11638DC2E4E</td><td>2014-02-08T10:01:36.827+0000</td></tr><tr><td>4</td><td>Headset Ball Bearings</td><td>null</td><td>0</td><td>0</td><td>null</td><td>800</td><td>600</td><td>0.0</td><td>0.0</td><td>null</td><td>null</td><td>null</td><td>null</td><td>0</td><td>null</td><td>null</td><td>null</td><td>null</td><td>null</td><td>2008-04-30</td><td>null</td><td>null</td><td>ECFED6CB-51FF-49B5-B06C-7D8AC834DB8B</td><td>2014-02-08T10:01:36.827+0000</td></tr><tr><td>316</td><td>Blade</td><td>null</td><td>1</td><td>0</td><td>null</td><td>800</td><td>600</td><td>0.0</td><td>0.0</td><td>null</td><td>null</td><td>null</td><td>null</td><td>1</td><td>null</td><td>null</td><td>null</td><td>null</td><td>null</td><td>2008-04-30</td><td>null</td><td>null</td><td>E73E9750-603B-4131-89F5-3DD15ED5FF80</td><td>2014-02-08T10:01:36.827+0000</td></tr><tr><td>317</td><td>LL Crankarm</td><td>null</td><td>0</td><td>0</td><td>Black</td><td>500</td><td>375</td><td>0.0</td><td>0.0</td><td>null</td><td>null</td><td>null</td><td>null</td><td>0</td><td>null</td><td>L </td><td>null</td><td>null</td><td>null</td><td>2008-04-30</td><td>null</td><td>null</td><td>3C9D10B7-A6B2-4774-9963-C19DCEE72FEA</td><td>2014-02-08T10:01:36.827+0000</td></tr><tr><td>318</td><td>ML Crankarm</td><td>null</td><td>0</td><td>0</td><td>Black</td><td>500</td><td>375</td><td>0.0</td><td>0.0</td><td>null</td><td>null</td><td>null</td><td>null</td><td>0</td><td>null</td><td>M </td><td>null</td><td>null</td><td>null</td><td>2008-04-30</td><td>null</td><td>null</td><td>EABB9A92-FA07-4EAB-8955-F0517B4A4CA7</td><td>2014-02-08T10:01:36.827+0000</td></tr><tr><td>319</td><td>HL Crankarm</td><td>null</td><td>0</td><td>0</td><td>Black</td><td>500</td><td>375</td><td>0.0</td><td>0.0</td><td>null</td><td>null</td><td>null</td><td>null</td><td>0</td><td>null</td><td>null</td><td>null</td><td>null</td><td>null</td><td>2008-04-30</td><td>null</td><td>null</td><td>7D3FD384-4F29-484B-86FA-4206E276FE58</td><td>2014-02-08T10:01:36.827+0000</td></tr><tr><td>320</td><td>Chainring Bolts</td><td>null</td><td>0</td><td>0</td><td>Silver</td><td>1000</td><td>750</td><td>0.0</td><td>0.0</td><td>null</td><td>null</td><td>null</td><td>null</td><td>0</td><td>null</td><td>null</td><td>null</td><td>null</td><td>null</td><td>2008-04-30</td><td>null</td><td>null</td><td>7BE38E48-B7D6-4486-888E-F53C26735101</td><td>2014-02-08T10:01:36.827+0000</td></tr><tr><td>321</td><td>Chainring Nut</td><td>null</td><td>0</td><td>0</td><td>Silver</td><td>1000</td><td>750</td><td>0.0</td><td>0.0</td><td>null</td><td>null</td><td>null</td><td>null</td><td>0</td><td>null</td><td>null</td><td>null</td><td>null</td><td>null</td><td>2008-04-30</td><td>null</td><td>null</td><td>3314B1D7-EF69-4431-B6DD-DC75268BD5DF</td><td>2014-02-08T10:01:36.827+0000</td></tr></tbody></table></div>"
      ]
     },
     "metadata": {
      "application/vnd.databricks.v1+output": {
       "addedWidgets": {},
       "aggData": [],
       "aggError": "",
       "aggOverflow": false,
       "aggSchema": [],
       "aggSeriesLimitReached": false,
       "aggType": "",
       "arguments": {},
       "columnCustomDisplayInfos": {},
       "data": [
        [
         1,
         "Adjustable Race",
         null,
         "0",
         0,
         null,
         1000,
         750,
         0.0,
         0.0,
         null,
         null,
         null,
         null,
         0,
         null,
         null,
         null,
         null,
         null,
         "2008-04-30",
         null,
         null,
         "694215B7-08F7-4C0D-ACB1-D734BA44C0C8",
         "2014-02-08T10:01:36.827+0000"
        ],
        [
         2,
         "Bearing Ball",
         null,
         "0",
         0,
         null,
         1000,
         750,
         0.0,
         0.0,
         null,
         null,
         null,
         null,
         0,
         null,
         null,
         null,
         null,
         null,
         "2008-04-30",
         null,
         null,
         "58AE3C20-4F3A-4749-A7D4-D568806CC537",
         "2014-02-08T10:01:36.827+0000"
        ],
        [
         3,
         "BB Ball Bearing",
         null,
         "1",
         0,
         null,
         800,
         600,
         0.0,
         0.0,
         null,
         null,
         null,
         null,
         1,
         null,
         null,
         null,
         null,
         null,
         "2008-04-30",
         null,
         null,
         "9C21AED2-5BFA-4F18-BCB8-F11638DC2E4E",
         "2014-02-08T10:01:36.827+0000"
        ],
        [
         4,
         "Headset Ball Bearings",
         null,
         "0",
         0,
         null,
         800,
         600,
         0.0,
         0.0,
         null,
         null,
         null,
         null,
         0,
         null,
         null,
         null,
         null,
         null,
         "2008-04-30",
         null,
         null,
         "ECFED6CB-51FF-49B5-B06C-7D8AC834DB8B",
         "2014-02-08T10:01:36.827+0000"
        ],
        [
         316,
         "Blade",
         null,
         "1",
         0,
         null,
         800,
         600,
         0.0,
         0.0,
         null,
         null,
         null,
         null,
         1,
         null,
         null,
         null,
         null,
         null,
         "2008-04-30",
         null,
         null,
         "E73E9750-603B-4131-89F5-3DD15ED5FF80",
         "2014-02-08T10:01:36.827+0000"
        ],
        [
         317,
         "LL Crankarm",
         null,
         "0",
         0,
         "Black",
         500,
         375,
         0.0,
         0.0,
         null,
         null,
         null,
         null,
         0,
         null,
         "L ",
         null,
         null,
         null,
         "2008-04-30",
         null,
         null,
         "3C9D10B7-A6B2-4774-9963-C19DCEE72FEA",
         "2014-02-08T10:01:36.827+0000"
        ],
        [
         318,
         "ML Crankarm",
         null,
         "0",
         0,
         "Black",
         500,
         375,
         0.0,
         0.0,
         null,
         null,
         null,
         null,
         0,
         null,
         "M ",
         null,
         null,
         null,
         "2008-04-30",
         null,
         null,
         "EABB9A92-FA07-4EAB-8955-F0517B4A4CA7",
         "2014-02-08T10:01:36.827+0000"
        ],
        [
         319,
         "HL Crankarm",
         null,
         "0",
         0,
         "Black",
         500,
         375,
         0.0,
         0.0,
         null,
         null,
         null,
         null,
         0,
         null,
         null,
         null,
         null,
         null,
         "2008-04-30",
         null,
         null,
         "7D3FD384-4F29-484B-86FA-4206E276FE58",
         "2014-02-08T10:01:36.827+0000"
        ],
        [
         320,
         "Chainring Bolts",
         null,
         "0",
         0,
         "Silver",
         1000,
         750,
         0.0,
         0.0,
         null,
         null,
         null,
         null,
         0,
         null,
         null,
         null,
         null,
         null,
         "2008-04-30",
         null,
         null,
         "7BE38E48-B7D6-4486-888E-F53C26735101",
         "2014-02-08T10:01:36.827+0000"
        ],
        [
         321,
         "Chainring Nut",
         null,
         "0",
         0,
         "Silver",
         1000,
         750,
         0.0,
         0.0,
         null,
         null,
         null,
         null,
         0,
         null,
         null,
         null,
         null,
         null,
         "2008-04-30",
         null,
         null,
         "3314B1D7-EF69-4431-B6DD-DC75268BD5DF",
         "2014-02-08T10:01:36.827+0000"
        ]
       ],
       "datasetInfos": [],
       "dbfsResultPath": null,
       "isJsonSchema": true,
       "metadata": {},
       "overflow": false,
       "plotOptions": {
        "customPlotOptions": {},
        "displayType": "table",
        "pivotAggregation": null,
        "pivotColumns": null,
        "xColumns": null,
        "yColumns": null
       },
       "removedWidgets": [],
       "schema": [
        {
         "metadata": "{}",
         "name": "ProductID",
         "type": "\"integer\""
        },
        {
         "metadata": "{}",
         "name": "Name",
         "type": "\"string\""
        },
        {
         "metadata": "{}",
         "name": "ProductNumber",
         "type": "\"integer\""
        },
        {
         "metadata": "{}",
         "name": "MakeFlag",
         "type": "\"string\""
        },
        {
         "metadata": "{}",
         "name": "FinishedGoodsFlag",
         "type": "\"integer\""
        },
        {
         "metadata": "{}",
         "name": "Color",
         "type": "\"string\""
        },
        {
         "metadata": "{}",
         "name": "SafetyStockLevel",
         "type": "\"integer\""
        },
        {
         "metadata": "{}",
         "name": "ReorderPoint",
         "type": "\"integer\""
        },
        {
         "metadata": "{}",
         "name": "StandardCost",
         "type": "\"float\""
        },
        {
         "metadata": "{}",
         "name": "ListPrice",
         "type": "\"float\""
        },
        {
         "metadata": "{}",
         "name": "Size",
         "type": "\"string\""
        },
        {
         "metadata": "{}",
         "name": "SizeUnitMeasureCode",
         "type": "\"string\""
        },
        {
         "metadata": "{}",
         "name": "WeightUnitMeasureCode",
         "type": "\"string\""
        },
        {
         "metadata": "{}",
         "name": "Weight",
         "type": "\"float\""
        },
        {
         "metadata": "{}",
         "name": "DaysToManufacture",
         "type": "\"integer\""
        },
        {
         "metadata": "{}",
         "name": "ProductLine",
         "type": "\"string\""
        },
        {
         "metadata": "{}",
         "name": "Class",
         "type": "\"string\""
        },
        {
         "metadata": "{}",
         "name": "Style",
         "type": "\"string\""
        },
        {
         "metadata": "{}",
         "name": "ProductSubcategoryID",
         "type": "\"string\""
        },
        {
         "metadata": "{}",
         "name": "ProductModelID",
         "type": "\"string\""
        },
        {
         "metadata": "{}",
         "name": "SellStartDate",
         "type": "\"date\""
        },
        {
         "metadata": "{}",
         "name": "SellEndDate",
         "type": "\"date\""
        },
        {
         "metadata": "{}",
         "name": "DiscontinuedDate",
         "type": "\"string\""
        },
        {
         "metadata": "{}",
         "name": "rowguid",
         "type": "\"string\""
        },
        {
         "metadata": "{}",
         "name": "ModifiedDate",
         "type": "\"timestamp\""
        }
       ],
       "type": "table"
      }
     },
     "output_type": "display_data"
    }
   ],
   "source": [
    "\n",
    "product = comma_replaced.withColumn(\"ProductID\",col(\"ProductID\").cast(\"int\"))\\\n",
    ".withColumn(\"ProductNumber\",col(\"ProductNumber\").cast(\"int\"))\\\n",
    ".withColumn(\"FinishedGoodsFlag\",col(\"FinishedGoodsFlag\").cast(\"int\"))\\\n",
    ".withColumn(\"SafetyStockLevel\",col(\"SafetyStockLevel\").cast(\"int\"))\\\n",
    ".withColumn(\"ReorderPoint\",col(\"ReorderPoint\").cast(\"int\"))\\\n",
    ".withColumn(\"StandardCost\",col(\"StandardCost\").cast(\"float\"))\\\n",
    ".withColumn(\"ListPrice\",col(\"ListPrice\").cast(\"float\"))\\\n",
    ".withColumn(\"Weight\",col(\"Weight\").cast(\"float\"))\\\n",
    ".withColumn(\"DaysToManufacture\",col(\"DaysToManufacture\").cast(\"int\"))\\\n",
    ".withColumn(\"SellStartDate\",to_date(to_timestamp(col(\"SellStartDate\"), \"yyyy-MM-dd HH:mm:ss.SSS\"),\"yyyy-MM-dd\"))\\\n",
    ".withColumn(\"SellEndDate\",to_date(to_timestamp(col(\"SellEndDate\"), \"yyyy-MM-dd HH:mm:ss.SSS\"),\"yyyy-MM-dd\"))\\\n",
    ".withColumn(\"ModifiedDate\",to_timestamp(col(\"ModifiedDate\"),\"yyyy-MM-dd HH:mm:ss.SSS\"))\n",
    "\n",
    "display(product.limit(10))"
   ]
  },
  {
   "cell_type": "code",
   "execution_count": 0,
   "metadata": {
    "application/vnd.databricks.v1+cell": {
     "cellMetadata": {
      "byteLimit": 2048000,
      "rowLimit": 10000
     },
     "inputWidgets": {},
     "nuid": "0da702a0-4ead-4af2-a4b5-caed627ce697",
     "showTitle": false,
     "title": ""
    }
   },
   "outputs": [
    {
     "output_type": "stream",
     "name": "stdout",
     "output_type": "stream",
     "text": [
      "root\n |-- ProductID: integer (nullable = true)\n |-- Name: string (nullable = true)\n |-- ProductNumber: integer (nullable = true)\n |-- MakeFlag: string (nullable = true)\n |-- FinishedGoodsFlag: integer (nullable = true)\n |-- Color: string (nullable = true)\n |-- SafetyStockLevel: integer (nullable = true)\n |-- ReorderPoint: integer (nullable = true)\n |-- StandardCost: float (nullable = true)\n |-- ListPrice: float (nullable = true)\n |-- Size: string (nullable = true)\n |-- SizeUnitMeasureCode: string (nullable = true)\n |-- WeightUnitMeasureCode: string (nullable = true)\n |-- Weight: float (nullable = true)\n |-- DaysToManufacture: integer (nullable = true)\n |-- ProductLine: string (nullable = true)\n |-- Class: string (nullable = true)\n |-- Style: string (nullable = true)\n |-- ProductSubcategoryID: string (nullable = true)\n |-- ProductModelID: string (nullable = true)\n |-- SellStartDate: date (nullable = true)\n |-- SellEndDate: date (nullable = true)\n |-- DiscontinuedDate: string (nullable = true)\n |-- rowguid: string (nullable = true)\n |-- ModifiedDate: timestamp (nullable = true)\n\n"
     ]
    }
   ],
   "source": [
    "product.printSchema()"
   ]
  },
  {
   "cell_type": "code",
   "execution_count": 0,
   "metadata": {
    "application/vnd.databricks.v1+cell": {
     "cellMetadata": {
      "byteLimit": 2048000,
      "rowLimit": 10000
     },
     "inputWidgets": {},
     "nuid": "94ab3e41-0ec1-4f9f-a89d-4d64edb998d8",
     "showTitle": false,
     "title": ""
    }
   },
   "outputs": [
    {
     "output_type": "stream",
     "name": "stdout",
     "output_type": "stream",
     "text": [
      "Out[19]: ['ProductID',\n 'Name',\n 'ProductNumber',\n 'MakeFlag',\n 'FinishedGoodsFlag',\n 'Color',\n 'SafetyStockLevel',\n 'ReorderPoint',\n 'StandardCost',\n 'ListPrice',\n 'Size',\n 'SizeUnitMeasureCode',\n 'WeightUnitMeasureCode',\n 'Weight',\n 'DaysToManufacture',\n 'ProductLine',\n 'Class',\n 'Style',\n 'ProductSubcategoryID',\n 'ProductModelID',\n 'SellStartDate',\n 'SellEndDate',\n 'DiscontinuedDate',\n 'rowguid',\n 'ModifiedDate']"
     ]
    }
   ],
   "source": [
    "product.columns"
   ]
  },
  {
   "cell_type": "code",
   "execution_count": 0,
   "metadata": {
    "application/vnd.databricks.v1+cell": {
     "cellMetadata": {
      "byteLimit": 2048000,
      "rowLimit": 10000
     },
     "inputWidgets": {},
     "nuid": "75ab1eda-db4f-4c19-a3fe-5a186a471d9e",
     "showTitle": false,
     "title": ""
    }
   },
   "outputs": [
    {
     "output_type": "display_data",
     "data": {
      "text/html": [
       "<style scoped>\n",
       "  .table-result-container {\n",
       "    max-height: 300px;\n",
       "    overflow: auto;\n",
       "  }\n",
       "  table, th, td {\n",
       "    border: 1px solid black;\n",
       "    border-collapse: collapse;\n",
       "  }\n",
       "  th, td {\n",
       "    padding: 5px;\n",
       "  }\n",
       "  th {\n",
       "    text-align: left;\n",
       "  }\n",
       "</style><div class='table-result-container'><table class='table-result'><thead style='background-color: white'><tr><th>product_id</th><th>name</th><th>product_number</th><th>make_flag</th><th>finishedGoods_flag</th><th>color</th><th>safety_stock_level</th><th>reorder_point</th><th>standard_cost</th><th>list_price</th><th>size</th><th>size_unit_measure_code</th><th>weight_unit_measure_code</th><th>weight</th><th>days_to_manufacture</th><th>product_line</th><th>class</th><th>style</th><th>product_subcategory_id</th><th>product_model_id</th><th>sell_start_date</th><th>sell_end_date</th><th>discontinued_date</th><th>rowguid</th><th>modified_date</th></tr></thead><tbody><tr><td>1</td><td>Adjustable Race</td><td>null</td><td>0</td><td>0</td><td>null</td><td>1000</td><td>750</td><td>0.0</td><td>0.0</td><td>null</td><td>null</td><td>null</td><td>null</td><td>0</td><td>null</td><td>null</td><td>null</td><td>null</td><td>null</td><td>2008-04-30</td><td>null</td><td>null</td><td>694215B7-08F7-4C0D-ACB1-D734BA44C0C8</td><td>2014-02-08T10:01:36.827+0000</td></tr><tr><td>2</td><td>Bearing Ball</td><td>null</td><td>0</td><td>0</td><td>null</td><td>1000</td><td>750</td><td>0.0</td><td>0.0</td><td>null</td><td>null</td><td>null</td><td>null</td><td>0</td><td>null</td><td>null</td><td>null</td><td>null</td><td>null</td><td>2008-04-30</td><td>null</td><td>null</td><td>58AE3C20-4F3A-4749-A7D4-D568806CC537</td><td>2014-02-08T10:01:36.827+0000</td></tr><tr><td>3</td><td>BB Ball Bearing</td><td>null</td><td>1</td><td>0</td><td>null</td><td>800</td><td>600</td><td>0.0</td><td>0.0</td><td>null</td><td>null</td><td>null</td><td>null</td><td>1</td><td>null</td><td>null</td><td>null</td><td>null</td><td>null</td><td>2008-04-30</td><td>null</td><td>null</td><td>9C21AED2-5BFA-4F18-BCB8-F11638DC2E4E</td><td>2014-02-08T10:01:36.827+0000</td></tr><tr><td>4</td><td>Headset Ball Bearings</td><td>null</td><td>0</td><td>0</td><td>null</td><td>800</td><td>600</td><td>0.0</td><td>0.0</td><td>null</td><td>null</td><td>null</td><td>null</td><td>0</td><td>null</td><td>null</td><td>null</td><td>null</td><td>null</td><td>2008-04-30</td><td>null</td><td>null</td><td>ECFED6CB-51FF-49B5-B06C-7D8AC834DB8B</td><td>2014-02-08T10:01:36.827+0000</td></tr><tr><td>316</td><td>Blade</td><td>null</td><td>1</td><td>0</td><td>null</td><td>800</td><td>600</td><td>0.0</td><td>0.0</td><td>null</td><td>null</td><td>null</td><td>null</td><td>1</td><td>null</td><td>null</td><td>null</td><td>null</td><td>null</td><td>2008-04-30</td><td>null</td><td>null</td><td>E73E9750-603B-4131-89F5-3DD15ED5FF80</td><td>2014-02-08T10:01:36.827+0000</td></tr><tr><td>317</td><td>LL Crankarm</td><td>null</td><td>0</td><td>0</td><td>Black</td><td>500</td><td>375</td><td>0.0</td><td>0.0</td><td>null</td><td>null</td><td>null</td><td>null</td><td>0</td><td>null</td><td>L </td><td>null</td><td>null</td><td>null</td><td>2008-04-30</td><td>null</td><td>null</td><td>3C9D10B7-A6B2-4774-9963-C19DCEE72FEA</td><td>2014-02-08T10:01:36.827+0000</td></tr><tr><td>318</td><td>ML Crankarm</td><td>null</td><td>0</td><td>0</td><td>Black</td><td>500</td><td>375</td><td>0.0</td><td>0.0</td><td>null</td><td>null</td><td>null</td><td>null</td><td>0</td><td>null</td><td>M </td><td>null</td><td>null</td><td>null</td><td>2008-04-30</td><td>null</td><td>null</td><td>EABB9A92-FA07-4EAB-8955-F0517B4A4CA7</td><td>2014-02-08T10:01:36.827+0000</td></tr><tr><td>319</td><td>HL Crankarm</td><td>null</td><td>0</td><td>0</td><td>Black</td><td>500</td><td>375</td><td>0.0</td><td>0.0</td><td>null</td><td>null</td><td>null</td><td>null</td><td>0</td><td>null</td><td>null</td><td>null</td><td>null</td><td>null</td><td>2008-04-30</td><td>null</td><td>null</td><td>7D3FD384-4F29-484B-86FA-4206E276FE58</td><td>2014-02-08T10:01:36.827+0000</td></tr><tr><td>320</td><td>Chainring Bolts</td><td>null</td><td>0</td><td>0</td><td>Silver</td><td>1000</td><td>750</td><td>0.0</td><td>0.0</td><td>null</td><td>null</td><td>null</td><td>null</td><td>0</td><td>null</td><td>null</td><td>null</td><td>null</td><td>null</td><td>2008-04-30</td><td>null</td><td>null</td><td>7BE38E48-B7D6-4486-888E-F53C26735101</td><td>2014-02-08T10:01:36.827+0000</td></tr><tr><td>321</td><td>Chainring Nut</td><td>null</td><td>0</td><td>0</td><td>Silver</td><td>1000</td><td>750</td><td>0.0</td><td>0.0</td><td>null</td><td>null</td><td>null</td><td>null</td><td>0</td><td>null</td><td>null</td><td>null</td><td>null</td><td>null</td><td>2008-04-30</td><td>null</td><td>null</td><td>3314B1D7-EF69-4431-B6DD-DC75268BD5DF</td><td>2014-02-08T10:01:36.827+0000</td></tr></tbody></table></div>"
      ]
     },
     "metadata": {
      "application/vnd.databricks.v1+output": {
       "addedWidgets": {},
       "aggData": [],
       "aggError": "",
       "aggOverflow": false,
       "aggSchema": [],
       "aggSeriesLimitReached": false,
       "aggType": "",
       "arguments": {},
       "columnCustomDisplayInfos": {},
       "data": [
        [
         1,
         "Adjustable Race",
         null,
         "0",
         0,
         null,
         1000,
         750,
         0.0,
         0.0,
         null,
         null,
         null,
         null,
         0,
         null,
         null,
         null,
         null,
         null,
         "2008-04-30",
         null,
         null,
         "694215B7-08F7-4C0D-ACB1-D734BA44C0C8",
         "2014-02-08T10:01:36.827+0000"
        ],
        [
         2,
         "Bearing Ball",
         null,
         "0",
         0,
         null,
         1000,
         750,
         0.0,
         0.0,
         null,
         null,
         null,
         null,
         0,
         null,
         null,
         null,
         null,
         null,
         "2008-04-30",
         null,
         null,
         "58AE3C20-4F3A-4749-A7D4-D568806CC537",
         "2014-02-08T10:01:36.827+0000"
        ],
        [
         3,
         "BB Ball Bearing",
         null,
         "1",
         0,
         null,
         800,
         600,
         0.0,
         0.0,
         null,
         null,
         null,
         null,
         1,
         null,
         null,
         null,
         null,
         null,
         "2008-04-30",
         null,
         null,
         "9C21AED2-5BFA-4F18-BCB8-F11638DC2E4E",
         "2014-02-08T10:01:36.827+0000"
        ],
        [
         4,
         "Headset Ball Bearings",
         null,
         "0",
         0,
         null,
         800,
         600,
         0.0,
         0.0,
         null,
         null,
         null,
         null,
         0,
         null,
         null,
         null,
         null,
         null,
         "2008-04-30",
         null,
         null,
         "ECFED6CB-51FF-49B5-B06C-7D8AC834DB8B",
         "2014-02-08T10:01:36.827+0000"
        ],
        [
         316,
         "Blade",
         null,
         "1",
         0,
         null,
         800,
         600,
         0.0,
         0.0,
         null,
         null,
         null,
         null,
         1,
         null,
         null,
         null,
         null,
         null,
         "2008-04-30",
         null,
         null,
         "E73E9750-603B-4131-89F5-3DD15ED5FF80",
         "2014-02-08T10:01:36.827+0000"
        ],
        [
         317,
         "LL Crankarm",
         null,
         "0",
         0,
         "Black",
         500,
         375,
         0.0,
         0.0,
         null,
         null,
         null,
         null,
         0,
         null,
         "L ",
         null,
         null,
         null,
         "2008-04-30",
         null,
         null,
         "3C9D10B7-A6B2-4774-9963-C19DCEE72FEA",
         "2014-02-08T10:01:36.827+0000"
        ],
        [
         318,
         "ML Crankarm",
         null,
         "0",
         0,
         "Black",
         500,
         375,
         0.0,
         0.0,
         null,
         null,
         null,
         null,
         0,
         null,
         "M ",
         null,
         null,
         null,
         "2008-04-30",
         null,
         null,
         "EABB9A92-FA07-4EAB-8955-F0517B4A4CA7",
         "2014-02-08T10:01:36.827+0000"
        ],
        [
         319,
         "HL Crankarm",
         null,
         "0",
         0,
         "Black",
         500,
         375,
         0.0,
         0.0,
         null,
         null,
         null,
         null,
         0,
         null,
         null,
         null,
         null,
         null,
         "2008-04-30",
         null,
         null,
         "7D3FD384-4F29-484B-86FA-4206E276FE58",
         "2014-02-08T10:01:36.827+0000"
        ],
        [
         320,
         "Chainring Bolts",
         null,
         "0",
         0,
         "Silver",
         1000,
         750,
         0.0,
         0.0,
         null,
         null,
         null,
         null,
         0,
         null,
         null,
         null,
         null,
         null,
         "2008-04-30",
         null,
         null,
         "7BE38E48-B7D6-4486-888E-F53C26735101",
         "2014-02-08T10:01:36.827+0000"
        ],
        [
         321,
         "Chainring Nut",
         null,
         "0",
         0,
         "Silver",
         1000,
         750,
         0.0,
         0.0,
         null,
         null,
         null,
         null,
         0,
         null,
         null,
         null,
         null,
         null,
         "2008-04-30",
         null,
         null,
         "3314B1D7-EF69-4431-B6DD-DC75268BD5DF",
         "2014-02-08T10:01:36.827+0000"
        ]
       ],
       "datasetInfos": [],
       "dbfsResultPath": null,
       "isJsonSchema": true,
       "metadata": {},
       "overflow": false,
       "plotOptions": {
        "customPlotOptions": {},
        "displayType": "table",
        "pivotAggregation": null,
        "pivotColumns": null,
        "xColumns": null,
        "yColumns": null
       },
       "removedWidgets": [],
       "schema": [
        {
         "metadata": "{}",
         "name": "product_id",
         "type": "\"integer\""
        },
        {
         "metadata": "{}",
         "name": "name",
         "type": "\"string\""
        },
        {
         "metadata": "{}",
         "name": "product_number",
         "type": "\"integer\""
        },
        {
         "metadata": "{}",
         "name": "make_flag",
         "type": "\"string\""
        },
        {
         "metadata": "{}",
         "name": "finishedGoods_flag",
         "type": "\"integer\""
        },
        {
         "metadata": "{}",
         "name": "color",
         "type": "\"string\""
        },
        {
         "metadata": "{}",
         "name": "safety_stock_level",
         "type": "\"integer\""
        },
        {
         "metadata": "{}",
         "name": "reorder_point",
         "type": "\"integer\""
        },
        {
         "metadata": "{}",
         "name": "standard_cost",
         "type": "\"float\""
        },
        {
         "metadata": "{}",
         "name": "list_price",
         "type": "\"float\""
        },
        {
         "metadata": "{}",
         "name": "size",
         "type": "\"string\""
        },
        {
         "metadata": "{}",
         "name": "size_unit_measure_code",
         "type": "\"string\""
        },
        {
         "metadata": "{}",
         "name": "weight_unit_measure_code",
         "type": "\"string\""
        },
        {
         "metadata": "{}",
         "name": "weight",
         "type": "\"float\""
        },
        {
         "metadata": "{}",
         "name": "days_to_manufacture",
         "type": "\"integer\""
        },
        {
         "metadata": "{}",
         "name": "product_line",
         "type": "\"string\""
        },
        {
         "metadata": "{}",
         "name": "class",
         "type": "\"string\""
        },
        {
         "metadata": "{}",
         "name": "style",
         "type": "\"string\""
        },
        {
         "metadata": "{}",
         "name": "product_subcategory_id",
         "type": "\"string\""
        },
        {
         "metadata": "{}",
         "name": "product_model_id",
         "type": "\"string\""
        },
        {
         "metadata": "{}",
         "name": "sell_start_date",
         "type": "\"date\""
        },
        {
         "metadata": "{}",
         "name": "sell_end_date",
         "type": "\"date\""
        },
        {
         "metadata": "{}",
         "name": "discontinued_date",
         "type": "\"string\""
        },
        {
         "metadata": "{}",
         "name": "rowguid",
         "type": "\"string\""
        },
        {
         "metadata": "{}",
         "name": "modified_date",
         "type": "\"timestamp\""
        }
       ],
       "type": "table"
      }
     },
     "output_type": "display_data"
    }
   ],
   "source": [
    "column_mapping = {\n",
    "'ProductID':'product_id',\n",
    " 'Name':'name',\n",
    " 'ProductNumber':'product_number',\n",
    " 'MakeFlag':'make_flag',\n",
    " 'FinishedGoodsFlag':'finishedGoods_flag',\n",
    " 'Color':'color',\n",
    " 'SafetyStockLevel':'safety_stock_level',\n",
    " 'ReorderPoint':'reorder_point',\n",
    " 'StandardCost':'standard_cost',\n",
    " 'ListPrice':'list_price',\n",
    " 'Size':'size',\n",
    " 'SizeUnitMeasureCode':'size_unit_measure_code',\n",
    " 'WeightUnitMeasureCode':'weight_unit_measure_code',\n",
    " 'Weight':'weight',\n",
    " 'DaysToManufacture':'days_to_manufacture',\n",
    " 'ProductLine':'product_line',\n",
    " 'Class':'class',\n",
    " 'Style':'style',\n",
    " 'ProductSubcategoryID':'product_subcategory_id',\n",
    " 'ProductModelID':'product_model_id',\n",
    " 'SellStartDate':'sell_start_date',\n",
    " 'SellEndDate':'sell_end_date',\n",
    " 'DiscontinuedDate':'discontinued_date',\n",
    " 'rowguid':'rowguid',\n",
    " 'ModifiedDate':'modified_date'\n",
    "}\n",
    "\n",
    "# Create a list of column expressions with aliases\n",
    "select_expr = [col(old_col).alias(new_col) for old_col, new_col in column_mapping.items()]\n",
    "\n",
    "# Apply the column renaming using select and alias\n",
    "df_renamed = product.select(*select_expr)\n",
    "display(df_renamed.limit(10))"
   ]
  },
  {
   "cell_type": "code",
   "execution_count": 0,
   "metadata": {
    "application/vnd.databricks.v1+cell": {
     "cellMetadata": {
      "byteLimit": 2048000,
      "rowLimit": 10000
     },
     "inputWidgets": {},
     "nuid": "2daba5ec-7e5f-4f49-a76b-f6d2d860cd91",
     "showTitle": false,
     "title": ""
    }
   },
   "outputs": [
    {
     "output_type": "stream",
     "name": "stdout",
     "output_type": "stream",
     "text": [
      "root\n |-- product_id: integer (nullable = true)\n |-- name: string (nullable = true)\n |-- product_number: integer (nullable = true)\n |-- make_flag: string (nullable = true)\n |-- finishedGoods_flag: integer (nullable = true)\n |-- color: string (nullable = true)\n |-- safety_stock_level: integer (nullable = true)\n |-- reorder_point: integer (nullable = true)\n |-- standard_cost: float (nullable = true)\n |-- list_price: float (nullable = true)\n |-- size: string (nullable = true)\n |-- size_unit_measure_code: string (nullable = true)\n |-- weight_unit_measure_code: string (nullable = true)\n |-- weight: float (nullable = true)\n |-- days_to_manufacture: integer (nullable = true)\n |-- product_line: string (nullable = true)\n |-- class: string (nullable = true)\n |-- style: string (nullable = true)\n |-- product_subcategory_id: string (nullable = true)\n |-- product_model_id: string (nullable = true)\n |-- sell_start_date: date (nullable = true)\n |-- sell_end_date: date (nullable = true)\n |-- discontinued_date: string (nullable = true)\n |-- rowguid: string (nullable = true)\n |-- modified_date: timestamp (nullable = true)\n\n"
     ]
    }
   ],
   "source": [
    "df_renamed.printSchema()"
   ]
  },
  {
   "cell_type": "markdown",
   "metadata": {
    "application/vnd.databricks.v1+cell": {
     "cellMetadata": {
      "byteLimit": 2048000,
      "rowLimit": 10000
     },
     "inputWidgets": {},
     "nuid": "509d13d6-10cb-46dc-bc77-34defecb94a0",
     "showTitle": false,
     "title": ""
    }
   },
   "source": [
    "#Ingest the cleaned data to the database"
   ]
  },
  {
   "cell_type": "markdown",
   "metadata": {
    "application/vnd.databricks.v1+cell": {
     "cellMetadata": {
      "byteLimit": 2048000,
      "rowLimit": 10000
     },
     "inputWidgets": {},
     "nuid": "62690033-ca69-4c9a-a9f6-40ab7a131a83",
     "showTitle": false,
     "title": ""
    }
   },
   "source": [
    "### Connection to the database"
   ]
  },
  {
   "cell_type": "code",
   "execution_count": 0,
   "metadata": {
    "application/vnd.databricks.v1+cell": {
     "cellMetadata": {
      "byteLimit": 2048000,
      "rowLimit": 10000
     },
     "inputWidgets": {},
     "nuid": "391522a6-5743-4bb2-984d-a17d82a6097c",
     "showTitle": false,
     "title": ""
    }
   },
   "outputs": [],
   "source": [
    "# Get the secrets from the jdbc secret scope.\n",
    "username = dbutils.secrets.get(scope=\"xxxxx\", key=\"xxxxx\")\n",
    "password = dbutils.secrets.get(scope=\"xxxxxx\", key=\"xxxxx\")\n",
    "\n",
    "jdbcHostname = \"srv-fab-projetos.database.windows.net\"\n",
    "jdbcPort = 1433\n",
    "jdbcDatabase = \"xxxxxx\"\n",
    "\n",
    "jdbcUrl = \"jdbc:sqlserver://{0}:{1};database={2}\".format(jdbcHostname, jdbcPort, jdbcDatabase)\n",
    "\n",
    "connectionProperties = {\n",
    "  \"user\" : username,\n",
    "  \"password\" : password,\n",
    "  \"driver\" : \"com.microsoft.sqlserver.jdbc.SQLServerDriver\"\n",
    "}\n",
    "\n",
    "table_name = 'sollim.product'"
   ]
  },
  {
   "cell_type": "markdown",
   "metadata": {
    "application/vnd.databricks.v1+cell": {
     "cellMetadata": {
      "byteLimit": 2048000,
      "rowLimit": 10000
     },
     "inputWidgets": {},
     "nuid": "1d0e7708-5e52-4888-a665-8d34b1a105ae",
     "showTitle": false,
     "title": ""
    }
   },
   "source": [
    "### Insert into the database\n"
   ]
  },
  {
   "cell_type": "code",
   "execution_count": 0,
   "metadata": {
    "application/vnd.databricks.v1+cell": {
     "cellMetadata": {
      "byteLimit": 2048000,
      "rowLimit": 10000
     },
     "inputWidgets": {},
     "nuid": "12331808-505c-40ad-aeeb-e374dff62930",
     "showTitle": false,
     "title": ""
    }
   },
   "outputs": [],
   "source": [
    "df_renamed.write \\\n",
    "  .format(\"jdbc\") \\\n",
    "  .option(\"url\", jdbcUrl) \\\n",
    "  .option(\"dbtable\", table_name) \\\n",
    "  .mode(\"overwrite\") \\\n",
    "  .options(**connectionProperties) \\\n",
    "  .save()"
   ]
  },
  {
   "cell_type": "code",
   "execution_count": 0,
   "metadata": {
    "application/vnd.databricks.v1+cell": {
     "cellMetadata": {
      "byteLimit": 2048000,
      "rowLimit": 10000
     },
     "inputWidgets": {},
     "nuid": "d61a9e0f-66ca-499a-a7ea-7d0794fb6f05",
     "showTitle": false,
     "title": ""
    }
   },
   "outputs": [
    {
     "output_type": "stream",
     "name": "stdout",
     "output_type": "stream",
     "text": [
      "/mnt/ingrid-sollim/ has been unmounted.\nOut[20]: True"
     ]
    }
   ],
   "source": [
    "dbutils.fs.unmount(mountpoint)"
   ]
  },
  {
   "cell_type": "code",
   "execution_count": 0,
   "metadata": {
    "application/vnd.databricks.v1+cell": {
     "cellMetadata": {},
     "inputWidgets": {},
     "nuid": "ca762a3f-d2c2-493e-89cc-86cac126aadd",
     "showTitle": false,
     "title": ""
    }
   },
   "outputs": [],
   "source": []
  }
 ],
 "metadata": {
  "application/vnd.databricks.v1+notebook": {
   "dashboards": [],
   "language": "python",
   "notebookMetadata": {
    "mostRecentlyExecutedCommandWithImplicitDF": {
     "commandId": 267153166537113,
     "dataframes": [
      "_sqldf"
     ]
    },
    "pythonIndentUnit": 4
   },
   "notebookName": "ROX_Product",
   "widgets": {}
  }
 },
 "nbformat": 4,
 "nbformat_minor": 0
}
